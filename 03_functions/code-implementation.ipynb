{
 "cells": [
  {
   "cell_type": "markdown",
   "metadata": {},
   "source": [
    "### Def Statements with Parameters"
   ]
  },
  {
   "cell_type": "code",
   "execution_count": 1,
   "metadata": {},
   "outputs": [
    {
     "name": "stdout",
     "output_type": "stream",
     "text": [
      "Hello, Jefferson!\n",
      "Hello, Mike!\n"
     ]
    }
   ],
   "source": [
    "def say_hello(name):\n",
    "    print(f\"Hello, {name}!\")\n",
    "\n",
    "\n",
    "say_hello(\"Jefferson\")\n",
    "say_hello(\"Mike\")\n",
    "\n",
    "# In the say_hello(), the name is the parameter and \"Jefferson\" is the argument"
   ]
  },
  {
   "cell_type": "markdown",
   "metadata": {},
   "source": [
    "### Return Value and Statements"
   ]
  },
  {
   "cell_type": "code",
   "execution_count": 2,
   "metadata": {},
   "outputs": [
    {
     "name": "stdout",
     "output_type": "stream",
     "text": [
      "Your fortune: Okay, 4.\n",
      "Your fortune: Okay, 3.\n",
      "Your fortune: Okay, 6.\n",
      "Your fortune: Okay, 6.\n",
      "Your fortune: Okay, 9.\n"
     ]
    }
   ],
   "source": [
    "import random\n",
    "\n",
    "\n",
    "def display_fortune(random_number):\n",
    "    if random_number == 1:\n",
    "        return \"Okay, 1.\"\n",
    "    elif random_number == 2:\n",
    "        return \"Okay, 2.\"\n",
    "    elif random_number == 3:\n",
    "        return \"Okay, 3.\"\n",
    "    elif random_number == 4:\n",
    "        return \"Okay, 4.\"\n",
    "    elif random_number == 5:\n",
    "        return \"Okay, 5.\"\n",
    "    elif random_number == 6:\n",
    "        return \"Okay, 6.\"\n",
    "    elif random_number == 7:\n",
    "        return \"Okay, 7.\"\n",
    "    elif random_number == 8:\n",
    "        return \"Okay, 8.\"\n",
    "    elif random_number == 9:\n",
    "        return \"Okay, 9.\"\n",
    "\n",
    "\n",
    "for x in range(5):\n",
    "    random_number = random.randint(1, 9)\n",
    "    get_fortune = display_fortune(random_number)\n",
    "    print(f\"Your fortune: {get_fortune}\")"
   ]
  },
  {
   "cell_type": "code",
   "execution_count": 3,
   "metadata": {},
   "outputs": [
    {
     "name": "stdout",
     "output_type": "stream",
     "text": [
      "10500\n"
     ]
    }
   ],
   "source": [
    "def increase_salary():\n",
    "    try:\n",
    "        salary = int(input(\"Enter Salary: \"))\n",
    "        return salary + 500\n",
    "    except ValueError:\n",
    "        return \"Please enter a number.\"\n",
    "\n",
    "\n",
    "print(increase_salary())"
   ]
  },
  {
   "cell_type": "markdown",
   "metadata": {},
   "source": [
    "### ``None`` Value"
   ]
  },
  {
   "cell_type": "code",
   "execution_count": 4,
   "metadata": {},
   "outputs": [
    {
     "name": "stdout",
     "output_type": "stream",
     "text": [
      "Employee ID: None\n",
      "Favorite Language: None\n",
      "None\n"
     ]
    }
   ],
   "source": [
    "def do_nothing():\n",
    "    return\n",
    "\n",
    "\n",
    "employee_id = None\n",
    "favorite_language = None\n",
    "\n",
    "print(f\"Employee ID: {employee_id}\")\n",
    "print(f\"Favorite Language: {favorite_language}\")\n",
    "print(do_nothing())"
   ]
  },
  {
   "cell_type": "markdown",
   "metadata": {},
   "source": [
    "### Keyword Arguments and ``print()``"
   ]
  },
  {
   "cell_type": "code",
   "execution_count": 5,
   "metadata": {},
   "outputs": [
    {
     "name": "stdout",
     "output_type": "stream",
     "text": [
      "Hello\n",
      "World\n",
      "\n",
      "Python Programming\n",
      "\n",
      "Python Kotlin Java\n",
      "\n",
      "Python, Kotlin, Java\n",
      "\n"
     ]
    }
   ],
   "source": [
    "print(\"Hello\")\n",
    "print(\"World\\n\")\n",
    "\n",
    "print(\"Python\", end=\" \")\n",
    "print(\"Programming\\n\")\n",
    "\n",
    "print(\"Python\", \"Kotlin\", \"Java\\n\")\n",
    "print(\"Python\", \"Kotlin\", \"Java\\n\", sep=\", \")"
   ]
  },
  {
   "cell_type": "markdown",
   "metadata": {},
   "source": [
    "### Call Stack"
   ]
  },
  {
   "cell_type": "code",
   "execution_count": 6,
   "metadata": {},
   "outputs": [
    {
     "name": "stdout",
     "output_type": "stream",
     "text": [
      "a() starts\n",
      "b() starts\n",
      "c() starts\n",
      "c() returns\n",
      "\n",
      "b() returns\n",
      "\n",
      "c() starts\n",
      "c() returns\n",
      "\n",
      "a() returns\n",
      "\n"
     ]
    }
   ],
   "source": [
    "def a():\n",
    "    print(\"a() starts\")\n",
    "    b()\n",
    "    c()\n",
    "    print(\"a() returns\\n\")\n",
    "\n",
    "\n",
    "def b():\n",
    "    print(\"b() starts\")\n",
    "    c()\n",
    "    print(\"b() returns\\n\")\n",
    "\n",
    "\n",
    "def c():\n",
    "    print(\"c() starts\")\n",
    "    print(\"c() returns\\n\")\n",
    "\n",
    "\n",
    "def d():\n",
    "    print(\"d() starts\")\n",
    "    print(\"d() returns\\n\")\n",
    "\n",
    "\n",
    "a()"
   ]
  },
  {
   "cell_type": "markdown",
   "metadata": {},
   "source": [
    "### Local and Global Scope"
   ]
  },
  {
   "cell_type": "code",
   "execution_count": 7,
   "metadata": {},
   "outputs": [
    {
     "name": "stdout",
     "output_type": "stream",
     "text": [
      "Error: name 'eggs' is not defined\n"
     ]
    }
   ],
   "source": [
    "# Local Variables Cannot Be Used in the Global Scope\n",
    "def spam():\n",
    "    eggs = 1_000\n",
    "\n",
    "\n",
    "spam()\n",
    "try:\n",
    "    print(eggs)\n",
    "except NameError as NE:\n",
    "    print(f\"Error: {NE}\")\n",
    "# The error happens because the eggs variable exists only in the local scope created when spam() is called"
   ]
  },
  {
   "cell_type": "code",
   "execution_count": 8,
   "metadata": {},
   "outputs": [
    {
     "name": "stdout",
     "output_type": "stream",
     "text": [
      "99\n"
     ]
    }
   ],
   "source": [
    "# Local Scopes Cannot Use Variables in Other Local Scopes\n",
    "def spam():\n",
    "    eggs = 99\n",
    "    bacon()\n",
    "    print(eggs)\n",
    "\n",
    "\n",
    "def bacon():\n",
    "    ham = 100\n",
    "    eggs = 0\n",
    "\n",
    "\n",
    "spam()\n",
    "\n",
    "# local variables in one function are completely separate from the local variables in another function."
   ]
  },
  {
   "cell_type": "code",
   "execution_count": 9,
   "metadata": {},
   "outputs": [
    {
     "name": "stdout",
     "output_type": "stream",
     "text": [
      "24\n",
      "24\n"
     ]
    }
   ],
   "source": [
    "def spam():\n",
    "    print(eggs)\n",
    "\n",
    "\n",
    "eggs = 24\n",
    "spam()\n",
    "print(eggs)\n",
    "\n",
    "# Since there is no parameter named eggs or any code that assigns eggs a value in the spam() function, when eggs is used in spam(), Python considers it a reference to the global variable eggs."
   ]
  },
  {
   "cell_type": "code",
   "execution_count": 10,
   "metadata": {},
   "outputs": [
    {
     "name": "stdout",
     "output_type": "stream",
     "text": [
      "bacon local\n",
      "spam local\n",
      "bacon local\n",
      "global\n"
     ]
    }
   ],
   "source": [
    "# Local and Global Variables with the Same Name (Avoid this!)\n",
    "def spam():\n",
    "    eggs = \"spam local\"\n",
    "    print(eggs)\n",
    "\n",
    "\n",
    "def bacon():\n",
    "    eggs = \"bacon local\"\n",
    "    print(eggs)\n",
    "    spam()\n",
    "    print(eggs)\n",
    "\n",
    "\n",
    "eggs = \"global\"\n",
    "bacon()\n",
    "print(eggs)"
   ]
  },
  {
   "cell_type": "markdown",
   "metadata": {},
   "source": [
    "### Global Statement"
   ]
  },
  {
   "cell_type": "code",
   "execution_count": 11,
   "metadata": {},
   "outputs": [
    {
     "name": "stdout",
     "output_type": "stream",
     "text": [
      "spam\n"
     ]
    }
   ],
   "source": [
    "def spam():\n",
    "    global eggs\n",
    "    eggs = \"spam\"\n",
    "\n",
    "\n",
    "eggs = \"global\"\n",
    "spam()\n",
    "print(eggs)"
   ]
  },
  {
   "cell_type": "code",
   "execution_count": 12,
   "metadata": {},
   "outputs": [
    {
     "name": "stdout",
     "output_type": "stream",
     "text": [
      "spam\n"
     ]
    }
   ],
   "source": [
    "# 4 rules to tell whether a variable is in a local or global scope\n",
    "def spam():\n",
    "    global eggs\n",
    "    eggs = \"spam\"  # global\n",
    "\n",
    "\n",
    "def bacon():\n",
    "    eggs = \"bacon\"  # local\n",
    "\n",
    "\n",
    "def ham():\n",
    "    print(eggs)\n",
    "\n",
    "\n",
    "eggs = 100\n",
    "spam()\n",
    "print(eggs)"
   ]
  },
  {
   "cell_type": "markdown",
   "metadata": {},
   "source": [
    "## Exception Handling"
   ]
  },
  {
   "cell_type": "code",
   "execution_count": 15,
   "metadata": {},
   "outputs": [
    {
     "name": "stdout",
     "output_type": "stream",
     "text": [
      "0.24\n",
      "1.2\n"
     ]
    },
    {
     "ename": "ZeroDivisionError",
     "evalue": "division by zero",
     "output_type": "error",
     "traceback": [
      "\u001b[1;31m---------------------------------------------------------------------------\u001b[0m",
      "\u001b[1;31mZeroDivisionError\u001b[0m                         Traceback (most recent call last)",
      "Cell \u001b[1;32mIn[15], line 7\u001b[0m\n\u001b[0;32m      5\u001b[0m \u001b[38;5;28mprint\u001b[39m(divide_numbers(\u001b[38;5;241m100\u001b[39m))\n\u001b[0;32m      6\u001b[0m \u001b[38;5;28mprint\u001b[39m(divide_numbers(\u001b[38;5;241m20\u001b[39m))\n\u001b[1;32m----> 7\u001b[0m \u001b[38;5;28mprint\u001b[39m(\u001b[43mdivide_numbers\u001b[49m\u001b[43m(\u001b[49m\u001b[38;5;241;43m0\u001b[39;49m\u001b[43m)\u001b[49m)\n",
      "Cell \u001b[1;32mIn[15], line 2\u001b[0m, in \u001b[0;36mdivide_numbers\u001b[1;34m(n)\u001b[0m\n\u001b[0;32m      1\u001b[0m \u001b[38;5;28;01mdef\u001b[39;00m \u001b[38;5;21mdivide_numbers\u001b[39m(n):\n\u001b[1;32m----> 2\u001b[0m     \u001b[38;5;28;01mreturn\u001b[39;00m \u001b[38;5;241;43m24\u001b[39;49m\u001b[43m \u001b[49m\u001b[38;5;241;43m/\u001b[39;49m\u001b[43m \u001b[49m\u001b[43mn\u001b[49m\n",
      "\u001b[1;31mZeroDivisionError\u001b[0m: division by zero"
     ]
    }
   ],
   "source": [
    "def divide_numbers(n):\n",
    "    return 24 / n\n",
    "\n",
    "\n",
    "print(divide_numbers(100))\n",
    "print(divide_numbers(20))\n",
    "print(divide_numbers(0))"
   ]
  },
  {
   "cell_type": "code",
   "execution_count": 18,
   "metadata": {},
   "outputs": [
    {
     "name": "stdout",
     "output_type": "stream",
     "text": [
      "0.24\n",
      "1.2\n",
      "Error: division by zero\n"
     ]
    }
   ],
   "source": [
    "def improved_divide_numbers(n):\n",
    "    try:\n",
    "        return 24 / n\n",
    "    except ZeroDivisionError as ZDE:\n",
    "        return f\"Error: {ZDE}\"\n",
    "\n",
    "\n",
    "print(improved_divide_numbers(100))\n",
    "print(improved_divide_numbers(20))\n",
    "print(improved_divide_numbers(0))"
   ]
  },
  {
   "cell_type": "code",
   "execution_count": null,
   "metadata": {},
   "outputs": [],
   "source": []
  }
 ],
 "metadata": {
  "kernelspec": {
   "display_name": "base",
   "language": "python",
   "name": "python3"
  },
  "language_info": {
   "codemirror_mode": {
    "name": "ipython",
    "version": 3
   },
   "file_extension": ".py",
   "mimetype": "text/x-python",
   "name": "python",
   "nbconvert_exporter": "python",
   "pygments_lexer": "ipython3",
   "version": "3.11.7"
  }
 },
 "nbformat": 4,
 "nbformat_minor": 2
}
