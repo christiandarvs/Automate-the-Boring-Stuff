{
 "cells": [
  {
   "cell_type": "markdown",
   "metadata": {},
   "source": [
    "## Chess Dictionary Validator"
   ]
  },
  {
   "cell_type": "code",
   "execution_count": 59,
   "metadata": {},
   "outputs": [
    {
     "data": {
      "text/plain": [
       "True"
      ]
     },
     "execution_count": 59,
     "metadata": {},
     "output_type": "execute_result"
    }
   ],
   "source": [
    "import pprint\n",
    "\n",
    "\n",
    "def is_valid_chess_board(chess_dict):\n",
    "    valid_chess_board = {\n",
    "        \"b_king\": 1,\n",
    "        \"b_queen\": 1,\n",
    "        \"b_rook\": 2,\n",
    "        \"b_bishop\": 2,\n",
    "        \"b_knight\": 2,\n",
    "        \"b_pawn\": 8,\n",
    "        \"w_king\": 1,\n",
    "        \"w_queen\": 1,\n",
    "        \"w_rook\": 2,\n",
    "        \"w_bishop\": 2,\n",
    "        \"w_knight\": 2,\n",
    "        \"w_pawn\": 8,\n",
    "    }\n",
    "    for key, value in chess_dict.items():\n",
    "        if key in valid_chess_board.keys() and value in valid_chess_board.values():\n",
    "            return True\n",
    "        else:\n",
    "            return False\n",
    "\n",
    "\n",
    "chess_board = {\n",
    "    \"b_king\": 1,\n",
    "    \"b_queen\": 1,\n",
    "    \"b_rook\": 2,\n",
    "    \"b_bishop\": 2,\n",
    "    \"b_knight\": 2,\n",
    "    \"b_pawn\": 8,\n",
    "    \"w_king\": 1,\n",
    "    \"w_queen\": 1,\n",
    "    \"w_rook\": 2,\n",
    "    \"w_bishop\": 2,\n",
    "    \"w_knight\": 2,\n",
    "    \"w_pawn\": 8,\n",
    "}\n",
    "\n",
    "# print(is_valid_chess_board(chess_board))\n",
    "is_valid_chess_board(chess_board)\n",
    "\n",
    "# TODO: FIX CODE"
   ]
  },
  {
   "cell_type": "markdown",
   "metadata": {},
   "source": [
    "## Fantasy Game Inventory"
   ]
  },
  {
   "cell_type": "code",
   "execution_count": 179,
   "metadata": {},
   "outputs": [
    {
     "name": "stdout",
     "output_type": "stream",
     "text": [
      "Inventory\n",
      "    - gold coin: 45\n",
      "    - rope: 1\n",
      "    - dagger: 1\n",
      "    - ruby: 1\n",
      "    - obsidian: 1\n",
      "\n",
      "Total number of items: 49\n"
     ]
    }
   ],
   "source": [
    "player_inventory = {\"gold coin\": 42, \"rope\": 1}\n",
    "dragon_loot = [\"gold coin\", \"dagger\", \"gold coin\", \"gold coin\", \"ruby\", \"obsidian\"]\n",
    "\n",
    "\n",
    "def add_to_inventory(inventory, added_items):\n",
    "    for item in added_items:\n",
    "        inventory[item] = inventory.get(item, 0) + 1\n",
    "\n",
    "\n",
    "def display_inventory(inventory):\n",
    "    print(\"Inventory\")\n",
    "    item_total = 0\n",
    "\n",
    "    for key, value in inventory.items():\n",
    "        print(f\"    - {key}: {value}\")\n",
    "        item_total += value\n",
    "\n",
    "    print(f\"\\nTotal number of items: \" + str(item_total))\n",
    "\n",
    "\n",
    "add_to_inventory(player_inventory, dragon_loot)\n",
    "\n",
    "display_inventory(player_inventory)"
   ]
  }
 ],
 "metadata": {
  "kernelspec": {
   "display_name": "base",
   "language": "python",
   "name": "python3"
  },
  "language_info": {
   "codemirror_mode": {
    "name": "ipython",
    "version": 3
   },
   "file_extension": ".py",
   "mimetype": "text/x-python",
   "name": "python",
   "nbconvert_exporter": "python",
   "pygments_lexer": "ipython3",
   "version": "3.11.7"
  }
 },
 "nbformat": 4,
 "nbformat_minor": 2
}
