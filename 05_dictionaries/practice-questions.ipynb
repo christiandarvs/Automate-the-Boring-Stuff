{
 "cells": [
  {
   "cell_type": "markdown",
   "metadata": {},
   "source": [
    "1. What does the code for an empty dictionary look like?\n",
    "\n",
    "- **Answer**: ``empty_dict = {}``"
   ]
  },
  {
   "cell_type": "markdown",
   "metadata": {},
   "source": [
    "2. What does a dictionary value with a key 'foo' and a value 42 look\n",
    "like?\n",
    "\n",
    "- **Answer**: ``dict_with_value = {'foo': 42}``"
   ]
  },
  {
   "cell_type": "markdown",
   "metadata": {},
   "source": [
    "3. What is the main difference between a dictionary and a list?\n",
    "\n",
    "- **Answer**: Dictionary is unordered and uses keys to access the values. List is ordered and uses index to access the elements."
   ]
  },
  {
   "cell_type": "markdown",
   "metadata": {},
   "source": [
    "4. What happens if you try to access ``spam['foo']`` if spam is ``{'bar': 100}``?\n",
    "\n",
    "- **Answer**: It will return a KeyError error"
   ]
  },
  {
   "cell_type": "code",
   "execution_count": 3,
   "metadata": {},
   "outputs": [
    {
     "name": "stdout",
     "output_type": "stream",
     "text": [
      "Error: 'foo'\n"
     ]
    }
   ],
   "source": [
    "dict_with_value = {\"bar\": 100}\n",
    "\n",
    "try:\n",
    "    print(dict_with_value[\"foo\"])\n",
    "except KeyError as KE:\n",
    "    print(f\"Error: {KE}\")"
   ]
  },
  {
   "cell_type": "code",
   "execution_count": null,
   "metadata": {},
   "outputs": [],
   "source": []
  }
 ],
 "metadata": {
  "kernelspec": {
   "display_name": "base",
   "language": "python",
   "name": "python3"
  },
  "language_info": {
   "codemirror_mode": {
    "name": "ipython",
    "version": 3
   },
   "file_extension": ".py",
   "mimetype": "text/x-python",
   "name": "python",
   "nbconvert_exporter": "python",
   "pygments_lexer": "ipython3",
   "version": "3.11.7"
  }
 },
 "nbformat": 4,
 "nbformat_minor": 2
}
