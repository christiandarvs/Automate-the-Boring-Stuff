{
 "cells": [
  {
   "cell_type": "markdown",
   "metadata": {},
   "source": [
    "## Generating Random Quiz Files"
   ]
  },
  {
   "cell_type": "code",
   "execution_count": 2,
   "metadata": {},
   "outputs": [],
   "source": [
    "import random"
   ]
  },
  {
   "cell_type": "code",
   "execution_count": 3,
   "metadata": {},
   "outputs": [],
   "source": [
    "capitals = {\n",
    "    \"Alabama\": \"Montgomery\",\n",
    "    \"Alaska\": \"Juneau\",\n",
    "    \"Arizona\": \"Phoenix\",\n",
    "    \"Arkansas\": \"Little Rock\",\n",
    "    \"California\": \"Sacramento\",\n",
    "    \"Colorado\": \"Denver\",\n",
    "    \"Connecticut\": \"Hartford\",\n",
    "    \"Delaware\": \"Dover\",\n",
    "    \"Florida\": \"Tallahassee\",\n",
    "    \"Georgia\": \"Atlanta\",\n",
    "    \"Hawaii\": \"Honolulu\",\n",
    "    \"Idaho\": \"Boise\",\n",
    "    \"Illinois\": \"Springfield\",\n",
    "    \"Indiana\": \"Indianapolis\",\n",
    "    \"Iowa\": \"Des Moines\",\n",
    "    \"Kansas\": \"Topeka\",\n",
    "    \"Kentucky\": \"Frankfort\",\n",
    "    \"Louisiana\": \"Baton Rouge\",\n",
    "    \"Maine\": \"Augusta\",\n",
    "    \"Maryland\": \"Annapolis\",\n",
    "    \"Massachusetts\": \"Boston\",\n",
    "    \"Michigan\": \"Lansing\",\n",
    "    \"Minnesota\": \"Saint Paul\",\n",
    "    \"Mississippi\": \"Jackson\",\n",
    "    \"Missouri\": \"Jefferson City\",\n",
    "    \"Montana\": \"Helena\",\n",
    "    \"Nebraska\": \"Lincoln\",\n",
    "    \"Nevada\": \"Carson City\",\n",
    "    \"New Hampshire\": \"Concord\",\n",
    "    \"New Jersey\": \"Trenton\",\n",
    "    \"New Mexico\": \"Santa Fe\",\n",
    "    \"New York\": \"Albany\",\n",
    "    \"North Carolina\": \"Raleigh\",\n",
    "    \"North Dakota\": \"Bismarck\",\n",
    "    \"Ohio\": \"Columbus\",\n",
    "    \"Oklahoma\": \"Oklahoma City\",\n",
    "    \"Oregon\": \"Salem\",\n",
    "    \"Pennsylvania\": \"Harrisburg\",\n",
    "    \"Rhode Island\": \"Providence\",\n",
    "    \"South Carolina\": \"Columbia\",\n",
    "    \"South Dakota\": \"Pierre\",\n",
    "    \"Tennessee\": \"Nashville\",\n",
    "    \"Texas\": \"Austin\",\n",
    "    \"Utah\": \"Salt Lake City\",\n",
    "    \"Vermont\": \"Montpelier\",\n",
    "    \"Virginia\": \"Richmond\",\n",
    "    \"Washington\": \"Olympia\",\n",
    "    \"West Virginia\": \"Charleston\",\n",
    "    \"Wisconsin\": \"Madison\",\n",
    "    \"Wyoming\": \"Cheyenne\",\n",
    "}"
   ]
  },
  {
   "cell_type": "code",
   "execution_count": 4,
   "metadata": {},
   "outputs": [],
   "source": [
    "for quiz_num in range(35):\n",
    "    pass"
   ]
  }
 ],
 "metadata": {
  "kernelspec": {
   "display_name": "Python 3",
   "language": "python",
   "name": "python3"
  },
  "language_info": {
   "codemirror_mode": {
    "name": "ipython",
    "version": 3
   },
   "file_extension": ".py",
   "mimetype": "text/x-python",
   "name": "python",
   "nbconvert_exporter": "python",
   "pygments_lexer": "ipython3",
   "version": "3.11.7"
  }
 },
 "nbformat": 4,
 "nbformat_minor": 2
}
