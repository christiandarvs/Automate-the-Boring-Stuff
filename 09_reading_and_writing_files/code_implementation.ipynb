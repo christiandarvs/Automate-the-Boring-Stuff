{
 "cells": [
  {
   "cell_type": "code",
   "execution_count": 4,
   "metadata": {},
   "outputs": [],
   "source": [
    "from pathlib import Path\n",
    "import os"
   ]
  },
  {
   "cell_type": "markdown",
   "metadata": {},
   "source": [
    "## Join Paths - ``/``"
   ]
  },
  {
   "cell_type": "code",
   "execution_count": 5,
   "metadata": {},
   "outputs": [
    {
     "name": "stdout",
     "output_type": "stream",
     "text": [
      "spam\\bacon\\eggs\n",
      "spam\\bacon\\eggs\n",
      "spam\\bacon\\eggs\n"
     ]
    }
   ],
   "source": [
    "p1 = Path(\"spam\") / \"bacon\" / \"eggs\"\n",
    "p2 = Path(\"spam\") / Path(\"bacon/eggs\")\n",
    "p3 = Path(\"spam\") / Path(\"bacon\", \"eggs\")\n",
    "\n",
    "print(p1)\n",
    "print(p2)\n",
    "print(p3)"
   ]
  },
  {
   "cell_type": "code",
   "execution_count": 6,
   "metadata": {},
   "outputs": [
    {
     "name": "stdout",
     "output_type": "stream",
     "text": [
      "Error: unsupported operand type(s) for /: 'str' and 'str'\n"
     ]
    }
   ],
   "source": [
    "try:\n",
    "    \"spam\" / \"bacon\" / \"eggs\"\n",
    "except TypeError as TE:\n",
    "    print(f\"Error: {TE}\")"
   ]
  },
  {
   "cell_type": "markdown",
   "metadata": {},
   "source": [
    "## Get Current Working Directory"
   ]
  },
  {
   "cell_type": "code",
   "execution_count": 7,
   "metadata": {},
   "outputs": [
    {
     "name": "stdout",
     "output_type": "stream",
     "text": [
      "c:\\Users\\Chris\\PythonProgramming\\Automate-the-Boring-Stuff\\09_reading_and_writing_files\n"
     ]
    }
   ],
   "source": [
    "current_directory = Path.cwd()\n",
    "print(current_directory)"
   ]
  },
  {
   "cell_type": "markdown",
   "metadata": {},
   "source": [
    "## Get Home Directory"
   ]
  },
  {
   "cell_type": "code",
   "execution_count": 8,
   "metadata": {},
   "outputs": [
    {
     "name": "stdout",
     "output_type": "stream",
     "text": [
      "C:\\Users\\Chris\n"
     ]
    }
   ],
   "source": [
    "home_directory = Path.home()\n",
    "print(home_directory)"
   ]
  },
  {
   "cell_type": "markdown",
   "metadata": {},
   "source": [
    "## Create new folders - ``os.makedirs()``"
   ]
  },
  {
   "cell_type": "code",
   "execution_count": 9,
   "metadata": {},
   "outputs": [],
   "source": [
    "os.makedirs(\n",
    "    \"C:\\\\Users\\\\Chris\\\\OneDrive\\\\Desktop\\\\Important\\\\Automating-the-Boring-Stuff\\\\09_reading_and_writing_files\\\\sample_folder\"\n",
    ")\n",
    "\n",
    "Path(\n",
    "    r\"C:\\Users\\Chris\\OneDrive\\Desktop\\Important\\Automating-the-Boring-Stuff\\09_reading_and_writing_files\\sample_folder\\text_files\"\n",
    ").mkdir()"
   ]
  },
  {
   "cell_type": "markdown",
   "metadata": {},
   "source": [
    "## Handling Absolute and Relative Paths"
   ]
  },
  {
   "cell_type": "code",
   "execution_count": 10,
   "metadata": {},
   "outputs": [
    {
     "name": "stdout",
     "output_type": "stream",
     "text": [
      "Is current directory absolute: True\n",
      "Is p1 absolute: False\n"
     ]
    }
   ],
   "source": [
    "print(f\"Is current directory absolute: {current_directory.is_absolute()}\")\n",
    "\n",
    "print(f\"Is p1 absolute: {p1.is_absolute()}\")"
   ]
  },
  {
   "cell_type": "code",
   "execution_count": 11,
   "metadata": {},
   "outputs": [
    {
     "name": "stdout",
     "output_type": "stream",
     "text": [
      "c:\\Users\\Chris\\PythonProgramming\\Automate-the-Boring-Stuff\\09_reading_and_writing_files\n",
      "False\n",
      "True\n"
     ]
    }
   ],
   "source": [
    "os1 = os.path.abspath(\".\")\n",
    "os2 = os.path.isabs(\".\")\n",
    "os3 = os.path.isabs(os.path.abspath(\".\"))\n",
    "\n",
    "print(os1)\n",
    "print(os2)\n",
    "print(os3)"
   ]
  },
  {
   "cell_type": "markdown",
   "metadata": {},
   "source": [
    "## Parts of a File Path"
   ]
  },
  {
   "cell_type": "code",
   "execution_count": 12,
   "metadata": {},
   "outputs": [
    {
     "name": "stdout",
     "output_type": "stream",
     "text": [
      "Anchor: c:\\\n",
      "Parent: c:\\Users\\Chris\\PythonProgramming\\Automate-the-Boring-Stuff\\09_reading_and_writing_files\n",
      "Name: code_implementation.ipynb\n",
      "Stem: code_implementation\n",
      "Suffix: .ipynb\n",
      "Drive: c:\n"
     ]
    }
   ],
   "source": [
    "current_file = Path.cwd() / Path(\"code_implementation.ipynb\")\n",
    "\n",
    "print(f\"Anchor: {current_file.anchor}\")\n",
    "print(f\"Parent: {current_file.parent}\")\n",
    "print(f\"Name: {current_file.name}\")\n",
    "print(f\"Stem: {current_file.stem}\")\n",
    "print(f\"Suffix: {current_file.suffix}\")\n",
    "print(f\"Drive: {current_file.drive}\")"
   ]
  },
  {
   "cell_type": "code",
   "execution_count": 13,
   "metadata": {},
   "outputs": [
    {
     "name": "stdout",
     "output_type": "stream",
     "text": [
      "c:\\Users\\Chris\\PythonProgramming\\Automate-the-Boring-Stuff\n",
      "c:\\Users\\Chris\\PythonProgramming\n",
      "c:\\Users\\Chris\n",
      "c:\\Users\n",
      "c:\\\n"
     ]
    }
   ],
   "source": [
    "parents = Path.cwd().parents\n",
    "parents_length = len(parents)\n",
    "\n",
    "for x in range(parents_length):\n",
    "    print(parents[x])"
   ]
  },
  {
   "cell_type": "code",
   "execution_count": 14,
   "metadata": {},
   "outputs": [
    {
     "name": "stdout",
     "output_type": "stream",
     "text": [
      "('C:\\\\Windows\\\\System32', 'calc.exe')]\n",
      "\n",
      "C:\\Windows\\System32 calc.exe\n"
     ]
    }
   ],
   "source": [
    "calc_file_path = \"C:\\\\Windows\\\\System32\\\\calc.exe\"\n",
    "\n",
    "dir_name = os.path.dirname(calc_file_path)\n",
    "base_name = os.path.basename(calc_file_path)\n",
    "\n",
    "print(f\"{os.path.split(calc_file_path)}]\\n\")\n",
    "print(dir_name, base_name)"
   ]
  },
  {
   "cell_type": "markdown",
   "metadata": {},
   "source": [
    "## File Size and Folder Contents"
   ]
  },
  {
   "cell_type": "code",
   "execution_count": 15,
   "metadata": {},
   "outputs": [
    {
     "name": "stdout",
     "output_type": "stream",
     "text": [
      "Current File Size: 13522 Bytes\n",
      "\n",
      "Current Directory Files: ['code_implementation.ipynb', 'hello.txt', 'images', 'notes.md', 'practice_questions.ipynb', 'sonnet.txt']\n"
     ]
    }
   ],
   "source": [
    "current_file_size = os.path.getsize(current_file)\n",
    "current_dir_files = os.listdir(current_directory)\n",
    "\n",
    "print(f\"Current File Size: {current_file_size} Bytes\\n\")\n",
    "print(f\"Current Directory Files: {current_dir_files}\")"
   ]
  },
  {
   "cell_type": "markdown",
   "metadata": {},
   "source": [
    "## Modify Files - Glob Patterns"
   ]
  },
  {
   "cell_type": "code",
   "execution_count": 16,
   "metadata": {},
   "outputs": [
    {
     "data": {
      "text/plain": [
       "[WindowsPath('c:/Users/Chris/PythonProgramming/Automate-the-Boring-Stuff/09_reading_and_writing_files/code_implementation.ipynb'),\n",
       " WindowsPath('c:/Users/Chris/PythonProgramming/Automate-the-Boring-Stuff/09_reading_and_writing_files/hello.txt'),\n",
       " WindowsPath('c:/Users/Chris/PythonProgramming/Automate-the-Boring-Stuff/09_reading_and_writing_files/images'),\n",
       " WindowsPath('c:/Users/Chris/PythonProgramming/Automate-the-Boring-Stuff/09_reading_and_writing_files/notes.md'),\n",
       " WindowsPath('c:/Users/Chris/PythonProgramming/Automate-the-Boring-Stuff/09_reading_and_writing_files/practice_questions.ipynb'),\n",
       " WindowsPath('c:/Users/Chris/PythonProgramming/Automate-the-Boring-Stuff/09_reading_and_writing_files/sonnet.txt')]"
      ]
     },
     "execution_count": 16,
     "metadata": {},
     "output_type": "execute_result"
    }
   ],
   "source": [
    "# We will use the current_dir\n",
    "\n",
    "all_files_in_curr_dir = list(current_directory.glob(\"*\"))\n",
    "\n",
    "all_files_in_curr_dir"
   ]
  },
  {
   "cell_type": "code",
   "execution_count": 17,
   "metadata": {},
   "outputs": [
    {
     "data": {
      "text/plain": [
       "[WindowsPath('c:/Users/Chris/PythonProgramming/Automate-the-Boring-Stuff/09_reading_and_writing_files/code_implementation.ipynb'),\n",
       " WindowsPath('c:/Users/Chris/PythonProgramming/Automate-the-Boring-Stuff/09_reading_and_writing_files/practice_questions.ipynb')]"
      ]
     },
     "execution_count": 17,
     "metadata": {},
     "output_type": "execute_result"
    }
   ],
   "source": [
    "# We can specify what file extension we are looking for\n",
    "\n",
    "list(current_directory.glob(\"*.ipynb\"))"
   ]
  },
  {
   "cell_type": "code",
   "execution_count": 18,
   "metadata": {},
   "outputs": [
    {
     "name": "stdout",
     "output_type": "stream",
     "text": [
      "c:\\Users\\Chris\\PythonProgramming\\Automate-the-Boring-Stuff\\09_reading_and_writing_files\\images\\image.png\n",
      "\n",
      "c:\\Users\\Chris\\PythonProgramming\\Automate-the-Boring-Stuff\\09_reading_and_writing_files\\images\\image2.png\n",
      "\n"
     ]
    }
   ],
   "source": [
    "selected_path = current_directory / \"images\"\n",
    "\n",
    "for image_file in selected_path.glob(\"*.png\"):\n",
    "    print(f\"{image_file}\\n\")"
   ]
  },
  {
   "cell_type": "markdown",
   "metadata": {},
   "source": [
    "## Path Validity"
   ]
  },
  {
   "cell_type": "code",
   "execution_count": 19,
   "metadata": {},
   "outputs": [
    {
     "name": "stdout",
     "output_type": "stream",
     "text": [
      "Home: C:\\Users\\Chris\n",
      "Dummy Dir: C:\\Alex\\Folder\\Where\\Is\\The\\File\n",
      "Calculator File Path: C:\\Windows\\System32\\calc.exe\n",
      "\n",
      "Home Directory EXISTS? True\n",
      "Home Directory a DIRECTORY? True\n",
      "\n",
      "Dummy Directory EXISTS? False\n",
      "Dummy Directory a DIRECTORY? False\n",
      "\n",
      "Calculator File Path a FILE? True\n",
      "Calculator File Path a DIRECTORY? False\n"
     ]
    }
   ],
   "source": [
    "dummy_dir = Path(\"C:/Alex/Folder/Where/Is/The/File\")\n",
    "calc_file_path = Path(\"C:/Windows/System32/calc.exe\")\n",
    "\n",
    "print(f\"Home: {home_directory}\")\n",
    "print(f\"Dummy Dir: {dummy_dir}\")\n",
    "print(f\"Calculator File Path: {calc_file_path}\\n\")\n",
    "\n",
    "print(f\"Home Directory EXISTS? {home_directory.exists()}\")\n",
    "print(f\"Home Directory a DIRECTORY? {home_directory.is_dir()}\\n\")\n",
    "\n",
    "print(f\"Dummy Directory EXISTS? {dummy_dir.exists()}\")\n",
    "print(f\"Dummy Directory a DIRECTORY? {dummy_dir.is_dir()}\\n\")\n",
    "\n",
    "print(f\"Calculator File Path a FILE? {calc_file_path.is_file()}\")\n",
    "print(f\"Calculator File Path a DIRECTORY? {calc_file_path.is_dir()}\")"
   ]
  },
  {
   "cell_type": "markdown",
   "metadata": {},
   "source": [
    "## File Reading/Writing Process"
   ]
  },
  {
   "cell_type": "code",
   "execution_count": 24,
   "metadata": {},
   "outputs": [
    {
     "name": "stdout",
     "output_type": "stream",
     "text": [
      "Before: \n",
      "After: Hi! My name is Christian Darvin. Lorem ipsum dolor sit amet, consectetur adipiscing elit, sed do eiusmod tempor incididunt ut labore et dolore magna aliqua. Velit euismod in pellentesque massa. Varius duis at consectetur lorem donec massa. Semper risus in hendrerit gravida rutrum quisque non tellus. Nunc id cursus metus aliquam eleifend mi in nulla. Amet dictum sit amet justo.\n"
     ]
    }
   ],
   "source": [
    "target_path = current_directory / \"hello.txt\"\n",
    "\n",
    "print(f\"Before: {target_path.read_text()}\")\n",
    "target_path.write_text(\n",
    "    \"\"\"Hi! My name is Christian Darvin. Lorem ipsum dolor sit amet, consectetur adipiscing elit, sed do eiusmod tempor incididunt ut labore et dolore magna aliqua. Velit euismod in pellentesque massa. Varius duis at consectetur lorem donec massa. Semper risus in hendrerit gravida rutrum quisque non tellus. Nunc id cursus metus aliquam eleifend mi in nulla. Amet dictum sit amet justo.\"\"\"\n",
    ")\n",
    "print(f\"After: {target_path.read_text()}\")"
   ]
  },
  {
   "cell_type": "code",
   "execution_count": 27,
   "metadata": {},
   "outputs": [],
   "source": [
    "hello_file = open(target_path)"
   ]
  },
  {
   "cell_type": "code",
   "execution_count": 28,
   "metadata": {},
   "outputs": [
    {
     "data": {
      "text/plain": [
       "'Hi! My name is Christian Darvin. Lorem ipsum dolor sit amet, consectetur adipiscing elit, sed do eiusmod tempor incididunt ut labore et dolore magna aliqua. Velit euismod in pellentesque massa. Varius duis at consectetur lorem donec massa. Semper risus in hendrerit gravida rutrum quisque non tellus. Nunc id cursus metus aliquam eleifend mi in nulla. Amet dictum sit amet justo.'"
      ]
     },
     "execution_count": 28,
     "metadata": {},
     "output_type": "execute_result"
    }
   ],
   "source": [
    "hello_file.read()"
   ]
  },
  {
   "cell_type": "code",
   "execution_count": 32,
   "metadata": {},
   "outputs": [
    {
     "data": {
      "text/plain": [
       "[\"When, in disgrace with fortune and men's eyes, \\n\",\n",
       " 'I all alone beweep my outcast state, \\n',\n",
       " 'And trouble deaf heaven with my bootless cries, \\n',\n",
       " 'And look upon myself and curse my fate,']"
      ]
     },
     "execution_count": 32,
     "metadata": {},
     "output_type": "execute_result"
    }
   ],
   "source": [
    "sonnet_file = open(current_directory / \"sonnet.txt\")\n",
    "sonnet_file.readlines()"
   ]
  },
  {
   "cell_type": "markdown",
   "metadata": {},
   "source": [
    "## Writing to Files"
   ]
  },
  {
   "cell_type": "code",
   "execution_count": 36,
   "metadata": {},
   "outputs": [],
   "source": [
    "bacon_file = open(current_directory / \"bacon.txt\", \"w\")\n",
    "\n",
    "bacon_file.write(\"Ideal Breakfast: Eggs and Bacon with Apple Juice\\n\")\n",
    "bacon_file.close()"
   ]
  },
  {
   "cell_type": "code",
   "execution_count": 37,
   "metadata": {},
   "outputs": [],
   "source": [
    "bacon_file = open(current_directory / \"bacon.txt\", \"a\")\n",
    "bacon_file.write(\"Apple Juice or Coffee?\")\n",
    "bacon_file.close()"
   ]
  },
  {
   "cell_type": "code",
   "execution_count": 38,
   "metadata": {},
   "outputs": [
    {
     "name": "stdout",
     "output_type": "stream",
     "text": [
      "Ideal Breakfast: Eggs and Bacon with Apple Juice\n",
      "Apple Juice or Coffee?\n"
     ]
    }
   ],
   "source": [
    "bacon_file = open(current_directory / \"bacon.txt\")\n",
    "bacon_file_contents = bacon_file.read()\n",
    "bacon_file.close()\n",
    "\n",
    "print(bacon_file_contents)"
   ]
  },
  {
   "cell_type": "markdown",
   "metadata": {},
   "source": [
    "## Saving Variables - ``shelve``"
   ]
  },
  {
   "cell_type": "code",
   "execution_count": 39,
   "metadata": {},
   "outputs": [],
   "source": [
    "import shelve"
   ]
  },
  {
   "cell_type": "code",
   "execution_count": 41,
   "metadata": {},
   "outputs": [],
   "source": [
    "shelf_file = shelve.open(\"mydata\")\n",
    "\n",
    "cat_names = [\"Whiskers\", \"Mittens\", \"Shadow\", \"Luna\", \"Simba\"]\n",
    "\n",
    "shelf_file[\"cat_names\"] = cat_names\n",
    "shelf_file.close()"
   ]
  },
  {
   "cell_type": "code",
   "execution_count": 44,
   "metadata": {},
   "outputs": [
    {
     "name": "stdout",
     "output_type": "stream",
     "text": [
      "['Whiskers', 'Mittens', 'Shadow', 'Luna', 'Simba']\n"
     ]
    }
   ],
   "source": [
    "shelf_file = shelve.open(\"mydata\")\n",
    "type(shelf_file)\n",
    "print(shelf_file[\"cat_names\"])\n",
    "shelf_file.close()"
   ]
  },
  {
   "cell_type": "markdown",
   "metadata": {},
   "source": [
    "## Saving Variables - ``pprint.pformat()``"
   ]
  },
  {
   "cell_type": "code",
   "execution_count": 47,
   "metadata": {},
   "outputs": [],
   "source": [
    "import pprint\n",
    "\n",
    "people = [{\"name\": \"Alex\", \"age\": 25}, {\"name\": \"Steve\", \"age\": 30}]\n",
    "pprint.pformat(people)\n",
    "\n",
    "file_obj = open(current_directory / \"people.py\", \"w\")\n",
    "file_obj.write(\"People = \" + pprint.pformat(people) + \"\\n\")\n",
    "file_obj.close()"
   ]
  },
  {
   "cell_type": "code",
   "execution_count": 66,
   "metadata": {},
   "outputs": [
    {
     "name": "stdout",
     "output_type": "stream",
     "text": [
      "[{'age': 25, 'name': 'Alex'}, {'age': 30, 'name': 'Steve'}]\n",
      "\n",
      "dict_values([25, 'Alex'])\n",
      "\n",
      "dict_values([30, 'Steve'])\n"
     ]
    }
   ],
   "source": [
    "import people\n",
    "\n",
    "print(people.People)\n",
    "for x in people.People:\n",
    "    print(f\"\\n{x.values()}\")"
   ]
  }
 ],
 "metadata": {
  "kernelspec": {
   "display_name": "base",
   "language": "python",
   "name": "python3"
  },
  "language_info": {
   "codemirror_mode": {
    "name": "ipython",
    "version": 3
   },
   "file_extension": ".py",
   "mimetype": "text/x-python",
   "name": "python",
   "nbconvert_exporter": "python",
   "pygments_lexer": "ipython3",
   "version": "3.12.2"
  }
 },
 "nbformat": 4,
 "nbformat_minor": 2
}
