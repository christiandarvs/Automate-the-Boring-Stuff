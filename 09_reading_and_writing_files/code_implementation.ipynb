{
 "cells": [
  {
   "cell_type": "code",
   "execution_count": 1,
   "metadata": {},
   "outputs": [],
   "source": [
    "from pathlib import Path\n",
    "import os"
   ]
  },
  {
   "cell_type": "markdown",
   "metadata": {},
   "source": [
    "## Join Paths - ``/``"
   ]
  },
  {
   "cell_type": "code",
   "execution_count": 2,
   "metadata": {},
   "outputs": [
    {
     "name": "stdout",
     "output_type": "stream",
     "text": [
      "spam\\bacon\\eggs\n",
      "spam\\bacon\\eggs\n",
      "spam\\bacon\\eggs\n"
     ]
    }
   ],
   "source": [
    "p1 = Path(\"spam\") / \"bacon\" / \"eggs\"\n",
    "p2 = Path(\"spam\") / Path(\"bacon/eggs\")\n",
    "p3 = Path(\"spam\") / Path(\"bacon\", \"eggs\")\n",
    "\n",
    "print(p1)\n",
    "print(p2)\n",
    "print(p3)"
   ]
  },
  {
   "cell_type": "code",
   "execution_count": 3,
   "metadata": {},
   "outputs": [
    {
     "name": "stdout",
     "output_type": "stream",
     "text": [
      "Error: unsupported operand type(s) for /: 'str' and 'str'\n"
     ]
    }
   ],
   "source": [
    "try:\n",
    "    \"spam\" / \"bacon\" / \"eggs\"\n",
    "except TypeError as TE:\n",
    "    print(f\"Error: {TE}\")"
   ]
  },
  {
   "cell_type": "markdown",
   "metadata": {},
   "source": [
    "## Get Current Working Directory"
   ]
  },
  {
   "cell_type": "code",
   "execution_count": 4,
   "metadata": {},
   "outputs": [
    {
     "name": "stdout",
     "output_type": "stream",
     "text": [
      "c:\\Users\\Chris\\PythonProgramming\\Automate-the-Boring-Stuff\\09_reading_and_writing_files\n"
     ]
    }
   ],
   "source": [
    "current_directory = Path.cwd()\n",
    "print(current_directory)"
   ]
  },
  {
   "cell_type": "markdown",
   "metadata": {},
   "source": [
    "## Get Home Directory"
   ]
  },
  {
   "cell_type": "code",
   "execution_count": 5,
   "metadata": {},
   "outputs": [
    {
     "name": "stdout",
     "output_type": "stream",
     "text": [
      "C:\\Users\\Chris\n"
     ]
    }
   ],
   "source": [
    "home_directory = Path.home()\n",
    "print(home_directory)"
   ]
  },
  {
   "cell_type": "markdown",
   "metadata": {},
   "source": [
    "## Create new folders - ``os.makedirs()``"
   ]
  },
  {
   "cell_type": "code",
   "execution_count": 42,
   "metadata": {},
   "outputs": [],
   "source": [
    "os.makedirs(\n",
    "    \"C:\\\\Users\\\\Chris\\\\OneDrive\\\\Desktop\\\\Important\\\\Automating-the-Boring-Stuff\\\\09_reading_and_writing_files\\\\sample_folder\"\n",
    ")\n",
    "\n",
    "Path(\n",
    "    r\"C:\\Users\\Chris\\OneDrive\\Desktop\\Important\\Automating-the-Boring-Stuff\\09_reading_and_writing_files\\sample_folder\\text_files\"\n",
    ").mkdir()"
   ]
  },
  {
   "cell_type": "markdown",
   "metadata": {},
   "source": [
    "## Handling Absolute and Relative Paths"
   ]
  },
  {
   "cell_type": "code",
   "execution_count": 6,
   "metadata": {},
   "outputs": [
    {
     "name": "stdout",
     "output_type": "stream",
     "text": [
      "Is current directory absolute: True\n",
      "Is p1 absolute: False\n"
     ]
    }
   ],
   "source": [
    "print(f\"Is current directory absolute: {current_directory.is_absolute()}\")\n",
    "\n",
    "print(f\"Is p1 absolute: {p1.is_absolute()}\")"
   ]
  },
  {
   "cell_type": "code",
   "execution_count": 7,
   "metadata": {},
   "outputs": [
    {
     "name": "stdout",
     "output_type": "stream",
     "text": [
      "c:\\Users\\Chris\\PythonProgramming\\Automate-the-Boring-Stuff\\09_reading_and_writing_files\n",
      "False\n",
      "True\n"
     ]
    }
   ],
   "source": [
    "os1 = os.path.abspath(\".\")\n",
    "os2 = os.path.isabs(\".\")\n",
    "os3 = os.path.isabs(os.path.abspath(\".\"))\n",
    "\n",
    "print(os1)\n",
    "print(os2)\n",
    "print(os3)"
   ]
  },
  {
   "cell_type": "markdown",
   "metadata": {},
   "source": [
    "## Parts of a File Path"
   ]
  },
  {
   "cell_type": "code",
   "execution_count": 8,
   "metadata": {},
   "outputs": [
    {
     "name": "stdout",
     "output_type": "stream",
     "text": [
      "Anchor: c:\\\n",
      "Parent: c:\\Users\\Chris\\PythonProgramming\\Automate-the-Boring-Stuff\\09_reading_and_writing_files\n",
      "Name: code_implementation.ipynb\n",
      "Stem: code_implementation\n",
      "Suffix: .ipynb\n",
      "Drive: c:\n"
     ]
    }
   ],
   "source": [
    "current_file = Path.cwd() / Path(\"code_implementation.ipynb\")\n",
    "\n",
    "print(f\"Anchor: {current_file.anchor}\")\n",
    "print(f\"Parent: {current_file.parent}\")\n",
    "print(f\"Name: {current_file.name}\")\n",
    "print(f\"Stem: {current_file.stem}\")\n",
    "print(f\"Suffix: {current_file.suffix}\")\n",
    "print(f\"Drive: {current_file.drive}\")"
   ]
  },
  {
   "cell_type": "code",
   "execution_count": 9,
   "metadata": {},
   "outputs": [
    {
     "name": "stdout",
     "output_type": "stream",
     "text": [
      "c:\\Users\\Chris\\PythonProgramming\\Automate-the-Boring-Stuff\n",
      "c:\\Users\\Chris\\PythonProgramming\n",
      "c:\\Users\\Chris\n",
      "c:\\Users\n",
      "c:\\\n"
     ]
    }
   ],
   "source": [
    "parents = Path.cwd().parents\n",
    "parents_length = len(parents)\n",
    "\n",
    "for x in range(parents_length):\n",
    "    print(parents[x])"
   ]
  },
  {
   "cell_type": "code",
   "execution_count": 10,
   "metadata": {},
   "outputs": [
    {
     "name": "stdout",
     "output_type": "stream",
     "text": [
      "('C:\\\\Windows\\\\System32', 'calc.exe')]\n",
      "\n",
      "C:\\Windows\\System32 calc.exe\n"
     ]
    }
   ],
   "source": [
    "calc_file_path = \"C:\\\\Windows\\\\System32\\\\calc.exe\"\n",
    "\n",
    "dir_name = os.path.dirname(calc_file_path)\n",
    "base_name = os.path.basename(calc_file_path)\n",
    "\n",
    "print(f\"{os.path.split(calc_file_path)}]\\n\")\n",
    "print(dir_name, base_name)"
   ]
  },
  {
   "cell_type": "markdown",
   "metadata": {},
   "source": [
    "## File Size and Folder Contents"
   ]
  },
  {
   "cell_type": "code",
   "execution_count": 11,
   "metadata": {},
   "outputs": [
    {
     "name": "stdout",
     "output_type": "stream",
     "text": [
      "Current File Size: 7854 Bytes\n",
      "\n",
      "Current Directory Files: ['code_implementation.ipynb', 'hello.py', 'images', 'notes.md', 'practice_questions.ipynb']\n"
     ]
    }
   ],
   "source": [
    "current_file_size = os.path.getsize(current_file)\n",
    "current_dir_files = os.listdir(current_directory)\n",
    "\n",
    "print(f\"Current File Size: {current_file_size} Bytes\\n\")\n",
    "print(f\"Current Directory Files: {current_dir_files}\")"
   ]
  },
  {
   "cell_type": "markdown",
   "metadata": {},
   "source": [
    "## Modify Files - Glob Patterns"
   ]
  },
  {
   "cell_type": "code",
   "execution_count": 14,
   "metadata": {},
   "outputs": [
    {
     "data": {
      "text/plain": [
       "[WindowsPath('c:/Users/Chris/PythonProgramming/Automate-the-Boring-Stuff/09_reading_and_writing_files/code_implementation.ipynb'),\n",
       " WindowsPath('c:/Users/Chris/PythonProgramming/Automate-the-Boring-Stuff/09_reading_and_writing_files/hello.py'),\n",
       " WindowsPath('c:/Users/Chris/PythonProgramming/Automate-the-Boring-Stuff/09_reading_and_writing_files/images'),\n",
       " WindowsPath('c:/Users/Chris/PythonProgramming/Automate-the-Boring-Stuff/09_reading_and_writing_files/notes.md'),\n",
       " WindowsPath('c:/Users/Chris/PythonProgramming/Automate-the-Boring-Stuff/09_reading_and_writing_files/practice_questions.ipynb')]"
      ]
     },
     "execution_count": 14,
     "metadata": {},
     "output_type": "execute_result"
    }
   ],
   "source": [
    "# We will use the current_dir\n",
    "\n",
    "current_directory.glob(\"*\")\n",
    "list(current_directory.glob(\"*\"))"
   ]
  }
 ],
 "metadata": {
  "kernelspec": {
   "display_name": "base",
   "language": "python",
   "name": "python3"
  },
  "language_info": {
   "codemirror_mode": {
    "name": "ipython",
    "version": 3
   },
   "file_extension": ".py",
   "mimetype": "text/x-python",
   "name": "python",
   "nbconvert_exporter": "python",
   "pygments_lexer": "ipython3",
   "version": "3.12.2"
  }
 },
 "nbformat": 4,
 "nbformat_minor": 2
}
