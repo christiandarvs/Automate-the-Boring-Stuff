{
 "cells": [
  {
   "cell_type": "code",
   "execution_count": 8,
   "metadata": {},
   "outputs": [
    {
     "name": "stdout",
     "output_type": "stream",
     "text": [
      "20\n",
      "30\n",
      "16\n",
      "3.2857142857142856\n",
      "3\n",
      "2\n",
      "16.0\n"
     ]
    }
   ],
   "source": [
    "print(2 + 3 * 6)\n",
    "print((2 + 3) * 6)\n",
    "print(2**4)\n",
    "print(23 / 7)\n",
    "print(23 // 7)\n",
    "print(23 % 7)\n",
    "print((5 - 1) * ((7 + 1) / (3 - 1)))"
   ]
  },
  {
   "cell_type": "code",
   "execution_count": 2,
   "metadata": {},
   "outputs": [
    {
     "name": "stdout",
     "output_type": "stream",
     "text": [
      "My name is Christian\n",
      "I'm a Python Programmer\n",
      "I'm a Computer Science Student\n"
     ]
    }
   ],
   "source": [
    "print(\"My name is Christian\")\n",
    "print(\"I'm a Python Programmer\")\n",
    "print(\"I'm a Computer Science Student\")"
   ]
  },
  {
   "cell_type": "code",
   "execution_count": 12,
   "metadata": {},
   "outputs": [
    {
     "name": "stdout",
     "output_type": "stream",
     "text": [
      "Python Programming\n",
      "Computer Science\n",
      "GPA: 90\n",
      "Python Python Python \n"
     ]
    }
   ],
   "source": [
    "print(\"Python\" + \" Programming\")\n",
    "print(\"Computer\" + \" Science\")\n",
    "# print('GPA: ' + 90) TypeError: can only concatenate str (not \"int\") to str\n",
    "print(\"GPA: \" + str(90))\n",
    "print(\"Python \" * 3)  # String Replication"
   ]
  },
  {
   "cell_type": "code",
   "execution_count": 14,
   "metadata": {},
   "outputs": [
    {
     "name": "stdout",
     "output_type": "stream",
     "text": [
      "42\n",
      "Hello World\n",
      "True\n"
     ]
    }
   ],
   "source": [
    "spam = 42\n",
    "print(spam)\n",
    "\n",
    "spam = \"Hello World\"\n",
    "print(spam)\n",
    "\n",
    "spam = True\n",
    "print(spam)"
   ]
  },
  {
   "cell_type": "code",
   "execution_count": 18,
   "metadata": {},
   "outputs": [
    {
     "name": "stdout",
     "output_type": "stream",
     "text": [
      "Good Morning! ⛅\n",
      "It is good to meet you, Christian\n",
      "The length of your name is 9\n",
      "You will be 26 in a year\n"
     ]
    }
   ],
   "source": [
    "# First Program\n",
    "print(\"Good Morning! ⛅\")\n",
    "name = input(\"What is your name? \")\n",
    "print(f\"It is good to meet you, {name}\")\n",
    "print(f\"The length of your name is {len(name)}\")\n",
    "age = int(input(\"What is your age? \"))\n",
    "print(\"You will be \" + str(age + 1) + \" in a year\")"
   ]
  }
 ],
 "metadata": {
  "kernelspec": {
   "display_name": "base",
   "language": "python",
   "name": "python3"
  },
  "language_info": {
   "codemirror_mode": {
    "name": "ipython",
    "version": 3
   },
   "file_extension": ".py",
   "mimetype": "text/x-python",
   "name": "python",
   "nbconvert_exporter": "python",
   "pygments_lexer": "ipython3",
   "version": "3.11.5"
  }
 },
 "nbformat": 4,
 "nbformat_minor": 2
}
