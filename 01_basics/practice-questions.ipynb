{
 "cells": [
  {
   "cell_type": "markdown",
   "metadata": {},
   "source": [
    "1. Which of the following are operators, and which are values?\n",
    "   \n",
    "``*`` - Operator\n",
    "\n",
    "``hello`` - Value\n",
    "\n",
    "``-88.8`` - Value\n",
    "\n",
    "``-`` - Operator\n",
    "\n",
    "``/`` - Operator\n",
    "\n",
    "``+`` - Operator\n",
    "\n",
    "``5`` - Value\n"
   ]
  },
  {
   "cell_type": "markdown",
   "metadata": {},
   "source": [
    "2. Which of the following is a variable, and which is a string?\n",
    "\n",
    "``spam`` - Variable\n",
    "\n",
    "\n",
    "``'spam'`` - String\n",
    "\n"
   ]
  },
  {
   "cell_type": "markdown",
   "metadata": {},
   "source": [
    "3. Name three data types.\n",
    "- Int\n",
    "- Float\n",
    "- Str\n",
    "- None "
   ]
  },
  {
   "cell_type": "markdown",
   "metadata": {},
   "source": [
    "4. What is an expression made up of? What do all expressions do?\n",
    "\n",
    "An **expression** is made up of operators and operands. They evaluate and return a value based on the given expression."
   ]
  },
  {
   "cell_type": "markdown",
   "metadata": {},
   "source": [
    "5. This chapter introduced assignment statements, like ``spam = 10``. What is the difference between an expression and a statement?\n",
    "\n",
    "**Expression** - usually have an operator and operands.\n",
    "\n",
    "**Statement** - we assign a value to a variable"
   ]
  },
  {
   "cell_type": "markdown",
   "metadata": {},
   "source": [
    "6. What does the variable bacon contain after the following code runs?\n",
    "\n",
    "``bacon = 20``\n",
    "\n",
    "``bacon + 1``\n",
    "\n",
    "**Answer:** The latest value of the variable ``bacon`` is 21"
   ]
  },
  {
   "cell_type": "markdown",
   "metadata": {},
   "source": [
    "7. What should the following two expressions evaluate to?\n",
    "   \n",
    "``spam' + 'spamspam'`` = ``'spamspamspam'``\n",
    "\n",
    "``'spam' * 3`` = `spamspamspam`"
   ]
  },
  {
   "cell_type": "markdown",
   "metadata": {},
   "source": [
    "8. Why is eggs a valid variable name while 100 is invalid?\n",
    "\n",
    "**Answer:** 100 is an invalid variable name because it is a number"
   ]
  },
  {
   "cell_type": "markdown",
   "metadata": {},
   "source": [
    "9. What three functions can be used to get the integer, floating-point number, or string version of a value?\n",
    "\n",
    "- ``int()``\n",
    "- ``float()``\n",
    "- ``str()``"
   ]
  },
  {
   "cell_type": "markdown",
   "metadata": {},
   "source": [
    "10. Why does this expression cause an error? How can you fix it?\n",
    "\n",
    "``'I have eaten ' + 99 + ' burritos.'``\n",
    "\n",
    "**Answer:** Enclosed the 99 with ``str()``\n",
    "\n",
    "**Solution:** ``'I have eaten ' + str(99) + ' burritos.'``"
   ]
  },
  {
   "cell_type": "code",
   "execution_count": 1,
   "metadata": {},
   "outputs": [
    {
     "name": "stdout",
     "output_type": "stream",
     "text": [
      "I have eaten 99 burritos.\n"
     ]
    }
   ],
   "source": [
    "print(\"I have eaten \" + str(99) + \" burritos.\")"
   ]
  }
 ],
 "metadata": {
  "kernelspec": {
   "display_name": "Python 3",
   "language": "python",
   "name": "python3"
  },
  "language_info": {
   "codemirror_mode": {
    "name": "ipython",
    "version": 3
   },
   "file_extension": ".py",
   "mimetype": "text/x-python",
   "name": "python",
   "nbconvert_exporter": "python",
   "pygments_lexer": "ipython3",
   "version": "3.11.5"
  }
 },
 "nbformat": 4,
 "nbformat_minor": 2
}
