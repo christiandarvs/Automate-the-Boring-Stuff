{
 "cells": [
  {
   "cell_type": "markdown",
   "metadata": {},
   "source": [
    "1. What are the two values of the Boolean data type? How do you write them?\n",
    "\n",
    "- `True`\n",
    "\n",
    "- `False`\n"
   ]
  },
  {
   "cell_type": "markdown",
   "metadata": {},
   "source": [
    "2. What are the three Boolean operators?\n",
    "\n",
    "- `and`\n",
    "\n",
    "- `or`\n",
    "\n",
    "- `not`"
   ]
  },
  {
   "cell_type": "markdown",
   "metadata": {},
   "source": [
    "3. Write out the truth tables of each Boolean operator (that is, every possible combination of Boolean values for the operator and what they evaluate to)."
   ]
  },
  {
   "cell_type": "markdown",
   "metadata": {},
   "source": [
    "4. What do the following expressions evaluate to?\n",
    "\n",
    "`(5 > 4) and (3 == 5)` : **False**\n",
    "\n",
    "`not (5 > 4)` : **False**\n",
    "\n",
    "`(5 > 4) or (3 == 5)` : **True**\n",
    "\n",
    "`not ((5 > 4) or (3 == 5))` : **False**\n",
    "\n",
    "`(True and True) and (True == False)` : **False**\n",
    "\n",
    "`(not False) or (not True)` : **True**"
   ]
  },
  {
   "cell_type": "markdown",
   "metadata": {},
   "source": [
    "5. What are the six comparison operators?\n",
    "\n",
    "- **Greater than ``>``**\n",
    "\n",
    "- **Less than ``<``**\n",
    "\n",
    "- **Greater than equal ``>=``**\n",
    "\n",
    "- **Less than ``<=``**\n",
    "\n",
    "- **Equal to ``==``**\n",
    "\n",
    "- **Not equal to ``!=``**\n",
    "\n"
   ]
  },
  {
   "cell_type": "markdown",
   "metadata": {},
   "source": [
    "6. What is the difference between the equal to operator and the assignment operator?\n",
    "\n",
    "- In the assignment ``=`` operator, you assign a value to a variable. The equal to ``==`` operator checks whether the 2 variables have the same value."
   ]
  },
  {
   "cell_type": "markdown",
   "metadata": {},
   "source": [
    "7.  Explain what a condition is and where you would use one.\n",
    "\n",
    "- Condition helps us in decision-making, especially when there are requirements that we need to satisfy. One example of a condition is applying for a driver's license, wherein the applicant must be above the age of 18 (Philippines)."
   ]
  }
 ],
 "metadata": {
  "kernelspec": {
   "display_name": "Python 3",
   "language": "python",
   "name": "python3"
  },
  "language_info": {
   "codemirror_mode": {
    "name": "ipython",
    "version": 3
   },
   "file_extension": ".py",
   "mimetype": "text/x-python",
   "name": "python",
   "nbconvert_exporter": "python",
   "pygments_lexer": "ipython3",
   "version": "3.11.7"
  }
 },
 "nbformat": 4,
 "nbformat_minor": 2
}
