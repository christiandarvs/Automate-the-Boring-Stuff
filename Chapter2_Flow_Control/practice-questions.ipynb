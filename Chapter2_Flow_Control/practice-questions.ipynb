{
 "cells": [
  {
   "cell_type": "markdown",
   "metadata": {},
   "source": [
    "1. What are the two values of the Boolean data type? How do you write them?\n",
    "\n",
    "- `True`\n",
    "\n",
    "- `False`\n"
   ]
  },
  {
   "cell_type": "markdown",
   "metadata": {},
   "source": [
    "2. What are the three Boolean operators?\n",
    "\n",
    "- `and`\n",
    "\n",
    "- `or`\n",
    "\n",
    "- `not`"
   ]
  },
  {
   "cell_type": "markdown",
   "metadata": {},
   "source": [
    "3. Write out the truth tables of each Boolean operator (that is, every possible combination of Boolean values for the operator and what they evaluate to).\n",
    "\n",
    "**AND OPERATOR**\n",
    "|  p  |q   | p and q  |\n",
    "|---|---|---|\n",
    "| T  | T  | T  |\n",
    "|  T | F |  F |\n",
    "|  F |  T |  F |\n",
    "|  F | F  |  F |\n",
    "\n",
    "**OR OPERATOR**\n",
    "|  p  |q   | p or q  |\n",
    "|---|---|---|\n",
    "| T  | T  | T  |\n",
    "|  T | F |  T |\n",
    "|  F |  T |  T |\n",
    "|  F | F  |  F |\n",
    "\n",
    "**NOT OPERATOR**\n",
    "|  p  |q   | not p | not q |\n",
    "|---|---|---| --- |\n",
    "| T  | T  | F  | F |\n",
    "|  T | F |  F |  T | \n",
    "|  F |  T |  T | F |\n",
    "|  F | F  |  T | T |"
   ]
  },
  {
   "cell_type": "markdown",
   "metadata": {},
   "source": [
    "4. What do the following expressions evaluate to?\n",
    "\n",
    "`(5 > 4) and (3 == 5)` : **False**\n",
    "\n",
    "`not (5 > 4)` : **False**\n",
    "\n",
    "`(5 > 4) or (3 == 5)` : **True**\n",
    "\n",
    "`not ((5 > 4) or (3 == 5))` : **False**\n",
    "\n",
    "`(True and True) and (True == False)` : **False**\n",
    "\n",
    "`(not False) or (not True)` : **True**"
   ]
  },
  {
   "cell_type": "markdown",
   "metadata": {},
   "source": [
    "5. What are the six comparison operators?\n",
    "\n",
    "- **Greater than ``>``**\n",
    "\n",
    "- **Less than ``<``**\n",
    "\n",
    "- **Greater than equal ``>=``**\n",
    "\n",
    "- **Less than ``<=``**\n",
    "\n",
    "- **Equal to ``==``**\n",
    "\n",
    "- **Not equal to ``!=``**\n",
    "\n"
   ]
  },
  {
   "cell_type": "markdown",
   "metadata": {},
   "source": [
    "6. What is the difference between the equal to operator and the assignment operator?\n",
    "\n",
    "- In the assignment ``=`` operator, you assign a value to a variable. The equal to ``==`` operator checks whether the 2 variables have the same value."
   ]
  },
  {
   "cell_type": "markdown",
   "metadata": {},
   "source": [
    "7.  Explain what a condition is and where you would use one.\n",
    "\n",
    "- Condition helps us in decision-making, especially when there are requirements that we need to satisfy. One example of a condition is applying for a driver's license, wherein the applicant must be above the age of 18 (Philippines)."
   ]
  },
  {
   "cell_type": "code",
   "execution_count": 5,
   "metadata": {},
   "outputs": [
    {
     "name": "stdout",
     "output_type": "stream",
     "text": [
      "ham\n",
      "spam\n",
      "spam\n"
     ]
    }
   ],
   "source": [
    "# 8. Identify the three blocks in this code:\n",
    "\n",
    "spam = 0\n",
    "if spam == 10:\n",
    "    print(\"eggs\")\n",
    "if spam > 5:\n",
    "    print(\"bacon\")\n",
    "else:\n",
    "    print(\"ham\")\n",
    "print(\"spam\")\n",
    "print(\"spam\")\n",
    "\n",
    "# spam == 10, spam > 5, else"
   ]
  },
  {
   "cell_type": "code",
   "execution_count": 6,
   "metadata": {},
   "outputs": [
    {
     "name": "stdout",
     "output_type": "stream",
     "text": [
      "Greetings\n"
     ]
    }
   ],
   "source": [
    "# 9. Write code that prints Hello if 1 is stored in spam, prints Howdy if 2 is stored in spam, and prints Greetings! if anything else is stored in spam.\n",
    "\n",
    "spam = 0\n",
    "\n",
    "if spam == 1:\n",
    "    print(\"Hello\")\n",
    "elif spam == 2:\n",
    "    print(\"Howdy\")\n",
    "else:\n",
    "    print(\"Greetings\")"
   ]
  },
  {
   "cell_type": "markdown",
   "metadata": {},
   "source": [
    "10. What is the difference between break and continue?\n",
    "- Break - The ``break`` keyword breaks out the loop, thus stopping it from iterating.\n",
    "- Continue - The ``continue`` keyword skips the condition\n"
   ]
  },
  {
   "cell_type": "code",
   "execution_count": 8,
   "metadata": {},
   "outputs": [
    {
     "name": "stdout",
     "output_type": "stream",
     "text": [
      "0\n",
      "1\n",
      "2\n",
      "3\n",
      "4\n",
      "5\n",
      "6\n",
      "7\n",
      "8\n",
      "9\n",
      "\n",
      "0\n",
      "1\n",
      "2\n",
      "3\n",
      "4\n",
      "5\n",
      "6\n",
      "7\n",
      "8\n",
      "9\n",
      "\n",
      "0\n",
      "1\n",
      "2\n",
      "3\n",
      "4\n",
      "5\n",
      "6\n",
      "7\n",
      "8\n",
      "9\n"
     ]
    }
   ],
   "source": [
    "# 11. What is the difference between range(10), range(0, 10), and range(0, 10, 1) in a for loop?\n",
    "\n",
    "for a in range(10):\n",
    "    print(a)\n",
    "    # we didn't specify the start and step value, so by default their values are set to 0 and 1.\n",
    "print()\n",
    "\n",
    "for b in range(0, 10):\n",
    "    print(b)\n",
    "    # we didn't specify the step value, so by default the value is set to 1.\n",
    "print()\n",
    "\n",
    "for c in range(0, 10, 1):\n",
    "    # we specified all the parameters of the range(), therefore the function knows where to start, stop and step.\n",
    "    print(c)"
   ]
  },
  {
   "cell_type": "code",
   "execution_count": 7,
   "metadata": {},
   "outputs": [
    {
     "name": "stdout",
     "output_type": "stream",
     "text": [
      "----- For Loop -----\n",
      "1\n",
      "2\n",
      "3\n",
      "4\n",
      "5\n",
      "6\n",
      "7\n",
      "8\n",
      "9\n",
      "10\n",
      "\n",
      "----- While Loop -----\n",
      "1\n",
      "2\n",
      "3\n",
      "4\n",
      "5\n",
      "6\n",
      "7\n",
      "8\n",
      "9\n",
      "10\n"
     ]
    }
   ],
   "source": [
    "# 12. Write a short program that prints the numbers 1 to 10 using a for loop. Then write an equivalent program that prints the numbers 1 to 10 using a while loop.\n",
    "\n",
    "print(\"----- For Loop -----\")\n",
    "for x in range(1, 11):\n",
    "    print(x)\n",
    "\n",
    "print(\"\\n----- While Loop -----\")\n",
    "y = 1\n",
    "while y <= 10:\n",
    "    print(y)\n",
    "    y += 1"
   ]
  },
  {
   "cell_type": "markdown",
   "metadata": {},
   "source": [
    "13. If you had a function named ``bacon()`` inside a module named ``spam``, how would you call it after importing ``spam``?\n",
    "\n",
    "``import spam``\n",
    "\n",
    "``spam.bacon()``"
   ]
  }
 ],
 "metadata": {
  "kernelspec": {
   "display_name": "Python 3",
   "language": "python",
   "name": "python3"
  },
  "language_info": {
   "codemirror_mode": {
    "name": "ipython",
    "version": 3
   },
   "file_extension": ".py",
   "mimetype": "text/x-python",
   "name": "python",
   "nbconvert_exporter": "python",
   "pygments_lexer": "ipython3",
   "version": "3.11.7"
  }
 },
 "nbformat": 4,
 "nbformat_minor": 2
}
