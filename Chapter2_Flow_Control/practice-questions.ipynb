{
 "cells": [
  {
   "cell_type": "code",
   "execution_count": 5,
   "metadata": {},
   "outputs": [
    {
     "name": "stdout",
     "output_type": "stream",
     "text": [
      "['Toyota', 'Honda', 'Ford', 'Chevrolet', 'Volkswagen', 'BMW', 'Mercedes-Benz', 'Audi', 'Nissan', 'Hyundai']\n"
     ]
    }
   ],
   "source": [
    "car_brands = [\n",
    "    \"Toyota\",\n",
    "    \"Honda\",\n",
    "    \"Ford\",\n",
    "    \"Chevrolet\",\n",
    "    \"Volkswagen\",\n",
    "    \"BMW\",\n",
    "    \"Mercedes-Benz\",\n",
    "    \"Audi\",\n",
    "    \"Nissan\",\n",
    "    \"Hyundai\",\n",
    "]\n",
    "print(car_brands)"
   ]
  }
 ],
 "metadata": {
  "kernelspec": {
   "display_name": "Python 3",
   "language": "python",
   "name": "python3"
  },
  "language_info": {
   "codemirror_mode": {
    "name": "ipython",
    "version": 3
   },
   "file_extension": ".py",
   "mimetype": "text/x-python",
   "name": "python",
   "nbconvert_exporter": "python",
   "pygments_lexer": "ipython3",
   "version": "3.11.5"
  }
 },
 "nbformat": 4,
 "nbformat_minor": 2
}
