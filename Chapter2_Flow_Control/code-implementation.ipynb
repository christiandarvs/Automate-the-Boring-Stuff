{
 "cells": [
  {
   "cell_type": "markdown",
   "metadata": {},
   "source": [
    "### Conditional Operators"
   ]
  },
  {
   "cell_type": "code",
   "execution_count": 2,
   "metadata": {},
   "outputs": [
    {
     "name": "stdout",
     "output_type": "stream",
     "text": [
      "10 == 15: False\n",
      "10 != 15: True\n",
      "10 < 15: True\n",
      "10 > 15: False\n",
      "10 <= 15: True\n",
      "10 >= 15: False\n"
     ]
    }
   ],
   "source": [
    "first_num = 10\n",
    "second_num = 15\n",
    "\n",
    "print(f\"{first_num} == {second_num}: {first_num == second_num}\")\n",
    "print(f\"{first_num} != {second_num}: {first_num != second_num}\")\n",
    "print(f\"{first_num} < {second_num}: {first_num < second_num}\")\n",
    "print(f\"{first_num} > {second_num}: {first_num > second_num}\")\n",
    "print(f\"{first_num} <= {second_num}: {first_num <= second_num}\")\n",
    "print(f\"{first_num} >= {second_num}: {first_num >= second_num}\")"
   ]
  },
  {
   "cell_type": "markdown",
   "metadata": {},
   "source": [
    "### Boolean Operators"
   ]
  },
  {
   "cell_type": "code",
   "execution_count": 3,
   "metadata": {},
   "outputs": [
    {
     "name": "stdout",
     "output_type": "stream",
     "text": [
      "----- AND OPERATOR -----\n",
      "True and True: True\n",
      "True and False: False\n",
      "False and True: False\n",
      "False and False: False\n",
      "\n",
      "----- OR OPERATOR -----\n",
      "True or True: True\n",
      "True or False: True\n",
      "False or True: True\n",
      "False or False: False\n",
      "\n",
      "----- NOT OPERATOR -----\n",
      "Not True: False\n",
      "Not False: True\n"
     ]
    }
   ],
   "source": [
    "print(\"----- AND OPERATOR -----\")\n",
    "print(f\"True and True: {True and True}\")\n",
    "print(f\"True and False: {True and False}\")\n",
    "print(f\"False and True: {False and True}\")\n",
    "print(f\"False and False: {False and False}\\n\")\n",
    "\n",
    "print(\"----- OR OPERATOR -----\")\n",
    "print(f\"True or True: {True or True}\")\n",
    "print(f\"True or False: {True or False}\")\n",
    "print(f\"False or True: {False or True}\")\n",
    "print(f\"False or False: {False or False}\\n\")\n",
    "\n",
    "print(\"----- NOT OPERATOR -----\")\n",
    "print(f\"Not True: {not True}\")\n",
    "print(f\"Not False: {not False}\")"
   ]
  },
  {
   "cell_type": "code",
   "execution_count": 4,
   "metadata": {},
   "outputs": [
    {
     "name": "stdout",
     "output_type": "stream",
     "text": [
      "True\n",
      "False\n",
      "True\n"
     ]
    }
   ],
   "source": [
    "print((4 < 5) and (5 < 6))\n",
    "print((4 < 5) and (9 < 6))\n",
    "print((1 == 2) or (2 == 2))"
   ]
  },
  {
   "cell_type": "markdown",
   "metadata": {},
   "source": [
    "### If - Else Statement Example"
   ]
  },
  {
   "cell_type": "code",
   "execution_count": 5,
   "metadata": {},
   "outputs": [
    {
     "name": "stdout",
     "output_type": "stream",
     "text": [
      "Hello, Admin ABC\n",
      "Access Granted\n"
     ]
    }
   ],
   "source": [
    "username = \"admin\"\n",
    "password = \"123\"\n",
    "\n",
    "if username == \"admin\":\n",
    "    print(\"Hello, Admin ABC\")\n",
    "    if password == \"123\":\n",
    "        print(\"Access Granted\")\n",
    "    else:\n",
    "        print(\"Wrong Password...\")"
   ]
  },
  {
   "cell_type": "markdown",
   "metadata": {},
   "source": [
    "### `If` Statement"
   ]
  },
  {
   "cell_type": "code",
   "execution_count": 6,
   "metadata": {},
   "outputs": [
    {
     "name": "stdout",
     "output_type": "stream",
     "text": [
      "Eyy, a Python Programmer!\n"
     ]
    }
   ],
   "source": [
    "programming_language = \"Python\"\n",
    "\n",
    "if programming_language == \"Python\":\n",
    "    print(\"Eyy, a Python Programmer!\")\n",
    "\n",
    "# In the if statement, we are evaluating whether the value of the variable 'programming_language' is Python. If it's the same, then it will execute the clause. Since the code doesn't have an else statement when the condition is false, it won't do anything"
   ]
  },
  {
   "cell_type": "markdown",
   "metadata": {},
   "source": [
    "### Else Statement"
   ]
  },
  {
   "cell_type": "code",
   "execution_count": 7,
   "metadata": {},
   "outputs": [
    {
     "name": "stdout",
     "output_type": "stream",
     "text": [
      "I see. You're a Java Programmer.\n"
     ]
    }
   ],
   "source": [
    "programming_language = \"Java\"\n",
    "\n",
    "if programming_language == \"Python\":\n",
    "    print(\"Eyy, a Python Programmer!\")\n",
    "else:\n",
    "    print(f\"I see. You're a {programming_language.title()} Programmer.\")"
   ]
  },
  {
   "cell_type": "markdown",
   "metadata": {},
   "source": [
    "### Elif Statement"
   ]
  },
  {
   "cell_type": "code",
   "execution_count": 8,
   "metadata": {},
   "outputs": [
    {
     "name": "stdout",
     "output_type": "stream",
     "text": [
      "Okay. You must be a game developer?\n"
     ]
    }
   ],
   "source": [
    "programming_language = \"C#\"\n",
    "\n",
    "if programming_language == \"Python\":\n",
    "    print(\"Eyy, a Python Programmer!\")\n",
    "elif programming_language == \"C#\":\n",
    "    print(\"Okay. You must be a game developer?\")\n",
    "else:\n",
    "    print(f\"I see. You're a {programming_language.title()} Programmer.\")"
   ]
  },
  {
   "cell_type": "markdown",
   "metadata": {},
   "source": [
    "### While Loop"
   ]
  },
  {
   "cell_type": "code",
   "execution_count": 9,
   "metadata": {},
   "outputs": [
    {
     "name": "stdout",
     "output_type": "stream",
     "text": [
      "1 Pushup\n",
      "2 Pushup\n",
      "3 Pushup\n",
      "4 Pushup\n",
      "5 Pushup\n"
     ]
    }
   ],
   "source": [
    "current_rep = 0\n",
    "n_of_reps = 5\n",
    "\n",
    "while current_rep < n_of_reps:\n",
    "    print(f\"{current_rep + 1} Pushup\")\n",
    "    current_rep += 1"
   ]
  },
  {
   "cell_type": "markdown",
   "metadata": {},
   "source": [
    "### Break Statement"
   ]
  },
  {
   "cell_type": "code",
   "execution_count": 10,
   "metadata": {},
   "outputs": [
    {
     "name": "stdout",
     "output_type": "stream",
     "text": [
      "Welcome back!\n",
      "\n",
      "Thank you for using our system!\n"
     ]
    }
   ],
   "source": [
    "while True:\n",
    "    user_name = input(\"Enter your name: \").lower()\n",
    "    if user_name == \"christian\":\n",
    "        print(\"Welcome back!\")\n",
    "        break\n",
    "    else:\n",
    "        print(\"You are not the user that we are looking for.\")\n",
    "\n",
    "print(\"\\nThank you for using our system!\")"
   ]
  },
  {
   "cell_type": "markdown",
   "metadata": {},
   "source": [
    "### Continue Statement"
   ]
  },
  {
   "cell_type": "code",
   "execution_count": 11,
   "metadata": {},
   "outputs": [
    {
     "name": "stdout",
     "output_type": "stream",
     "text": [
      "Current Number: 1\n",
      "Current Number: 3\n",
      "Current Number: 5\n",
      "Current Number: 7\n",
      "Current Number: 9\n"
     ]
    }
   ],
   "source": [
    "counter = 0\n",
    "n_of_iterations = 10\n",
    "\n",
    "while counter < n_of_iterations:\n",
    "    counter += 1\n",
    "\n",
    "    if counter % 2 == 0:\n",
    "        continue  # skip the rest of code for even numbers\n",
    "\n",
    "    print(f\"Current Number: {counter}\")"
   ]
  },
  {
   "cell_type": "markdown",
   "metadata": {},
   "source": [
    "### For Loop and `range() `"
   ]
  },
  {
   "cell_type": "code",
   "execution_count": 12,
   "metadata": {},
   "outputs": [
    {
     "name": "stdout",
     "output_type": "stream",
     "text": [
      "1 Pushup\n",
      "2 Pushup\n",
      "3 Pushup\n",
      "4 Pushup\n",
      "5 Pushup\n"
     ]
    }
   ],
   "source": [
    "for rep in range(5):\n",
    "    print(f\"{rep + 1} Pushup\")"
   ]
  },
  {
   "cell_type": "code",
   "execution_count": 13,
   "metadata": {},
   "outputs": [
    {
     "name": "stdout",
     "output_type": "stream",
     "text": [
      "Total: 5050\n"
     ]
    }
   ],
   "source": [
    "total = 0\n",
    "for num in range(101):\n",
    "    # total = total + num\n",
    "    total += num\n",
    "\n",
    "print(f\"Total: {total}\")"
   ]
  },
  {
   "cell_type": "markdown",
   "metadata": {},
   "source": [
    "### `range(start, stop, step)` parameters"
   ]
  },
  {
   "cell_type": "code",
   "execution_count": 14,
   "metadata": {},
   "outputs": [
    {
     "name": "stdout",
     "output_type": "stream",
     "text": [
      "1\n",
      "2\n",
      "3\n",
      "4\n",
      "5\n"
     ]
    }
   ],
   "source": [
    "for x in range(1, 6):\n",
    "    print(x)\n",
    "\n",
    "# In the range function, the last iteration value is stop - 1,\n",
    "# where stop is the exclusive upper limit specified as the stop parameter."
   ]
  },
  {
   "cell_type": "code",
   "execution_count": 15,
   "metadata": {},
   "outputs": [
    {
     "name": "stdout",
     "output_type": "stream",
     "text": [
      "0\n",
      "2\n",
      "4\n",
      "6\n",
      "8\n",
      "10\n"
     ]
    }
   ],
   "source": [
    "for y in range(0, 11, 2):\n",
    "    print(y)\n",
    "\n",
    "# It will count from 0 to 10 by intervals of 2"
   ]
  },
  {
   "cell_type": "markdown",
   "metadata": {},
   "source": [
    "### Importing a module"
   ]
  },
  {
   "cell_type": "code",
   "execution_count": 16,
   "metadata": {},
   "outputs": [
    {
     "name": "stdout",
     "output_type": "stream",
     "text": [
      "1\n",
      "10\n",
      "2\n",
      "6\n",
      "10\n"
     ]
    }
   ],
   "source": [
    "import random\n",
    "\n",
    "for z in range(5):\n",
    "    print(random.randint(1, 10))"
   ]
  },
  {
   "cell_type": "markdown",
   "metadata": {},
   "source": [
    "### Guess the random number"
   ]
  },
  {
   "cell_type": "code",
   "execution_count": 17,
   "metadata": {},
   "outputs": [
    {
     "name": "stdout",
     "output_type": "stream",
     "text": [
      "I'm thinking of a number between 1 and 20\n",
      "Too High\n",
      "Too High\n",
      "Too High\n",
      "Too Low\n",
      "Too High\n",
      "Too High\n",
      "Too Low\n",
      "You are correct!\n",
      "\n",
      "Thank you for playing! 😀\n"
     ]
    }
   ],
   "source": [
    "random_number = random.randint(1, 20)\n",
    "\n",
    "print(\"I'm thinking of a number between 1 and 20\")\n",
    "while True:\n",
    "    try:\n",
    "        user_guess = int(input(\"Take a guess: \"))\n",
    "        if user_guess > random_number:\n",
    "            print(\"Too High\")\n",
    "        elif user_guess < random_number:\n",
    "            print(\"Too Low\")\n",
    "        elif user_guess == random_number:\n",
    "            print(\"You are correct!\")\n",
    "            break\n",
    "    except ValueError:\n",
    "        print(\"Please enter an integer.\")\n",
    "\n",
    "print(\"\\nThank you for playing! 😀\")"
   ]
  },
  {
   "cell_type": "markdown",
   "metadata": {},
   "source": [
    "### Rock Paper Scissor"
   ]
  },
  {
   "cell_type": "code",
   "execution_count": 13,
   "metadata": {},
   "outputs": [
    {
     "name": "stdout",
     "output_type": "stream",
     "text": [
      "[0] - Rock\n",
      "[1] - Paper\n",
      "[2] - Scissors\n",
      "[3] - Exit\n",
      "----- Round 1 -----\n",
      "You chose: 1\n",
      "Paper vs. Scissors: AI\n",
      "\n",
      "AI Score: 1\n",
      "Player Score: 0\n",
      "\n",
      "----- Round 2 -----\n",
      "You chose: 2\n",
      "Scissors vs. Paper: Player\n",
      "\n",
      "AI Score: 1\n",
      "Player Score: 1\n",
      "\n",
      "----- Round 3 -----\n",
      "You chose: 1\n",
      "Paper vs. Rock: Player\n",
      "\n",
      "AI Score: 1\n",
      "Player Score: 2\n",
      "\n",
      "----- Round 4 -----\n",
      "You chose: 2\n",
      "Scissors vs. Rock: AI\n",
      "\n",
      "AI Score: 2\n",
      "Player Score: 2\n",
      "\n",
      "Please choose from the options above.\n",
      "----- Round 5 -----\n",
      "You chose: 2\n",
      "Scissors vs. Rock: AI\n",
      "\n",
      "AI Score: 3\n",
      "Player Score: 2\n",
      "\n",
      "Please choose from the options above.\n",
      "----- Round 6 -----\n",
      "You chose: 2\n",
      "Scissors vs. Rock: AI\n",
      "\n",
      "AI Score: 4\n",
      "Player Score: 2\n",
      "\n",
      "----- Round 7 -----\n",
      "You chose: 2\n",
      "Scissors vs. Paper: Player\n",
      "\n",
      "AI Score: 4\n",
      "Player Score: 3\n",
      "\n",
      "----- Round 8 -----\n",
      "You chose: 2\n",
      "Scissors vs. Scissors: Draw\n",
      "\n",
      "AI Score: 4\n",
      "Player Score: 3\n",
      "\n",
      "----- Round 9 -----\n",
      "You chose: 2\n",
      "Scissors vs. Paper: Player\n",
      "\n",
      "AI Score: 4\n",
      "Player Score: 4\n",
      "\n",
      "----- Round 10 -----\n",
      "You chose: 2\n",
      "Scissors vs. Rock: AI\n",
      "\n",
      "AI Score: 5\n",
      "Player Score: 4\n",
      "\n",
      "\n",
      "Winner: AI\n"
     ]
    }
   ],
   "source": [
    "import random\n",
    "\n",
    "print(\"[0] - Rock\\n[1] - Paper\\n[2] - Scissors\\n[3] - Exit\")\n",
    "\n",
    "\n",
    "AI_score = 0\n",
    "player_score = 0\n",
    "choices = [\"Rock\", \"Paper\", \"Scissors\"]\n",
    "current_round = 1\n",
    "\n",
    "while AI_score < 5 and player_score < 5:\n",
    "    choice = int(input(\"Enter your choice: \"))\n",
    "    if choice == 0 or choice == 1 or choice == 2 or choice == 3:\n",
    "        print(f\"----- Round {current_round} -----\")\n",
    "        print(f\"You chose: {choice}\")\n",
    "        random_number = random.randint(0, 2)\n",
    "        if choice == 3:\n",
    "            print(\"\\nThank you for playing! 😃\")\n",
    "            break\n",
    "        elif choice == 0 and random_number == 0:\n",
    "            print(f\"{choices[choice]} vs. {choices[random_number]}: Draw\")\n",
    "        elif choice == 0 and random_number == 1:\n",
    "            print(f\"{choices[choice]} vs. {choices[random_number]}: AI\")\n",
    "            AI_score += 1\n",
    "        elif choice == 0 and random_number == 2:\n",
    "            print(f\"{choices[choice]} vs. {choices[random_number]}: Player\")\n",
    "            player_score += 1\n",
    "        elif choice == 1 and random_number == 0:\n",
    "            print(f\"{choices[choice]} vs. {choices[random_number]}: Player\")\n",
    "            player_score += 1\n",
    "        elif choice == 1 and random_number == 1:\n",
    "            print(f\"{choices[choice]} vs. {choices[random_number]}: Draw\")\n",
    "        elif choice == 1 and random_number == 2:\n",
    "            print(f\"{choices[choice]} vs. {choices[random_number]}: AI\")\n",
    "            AI_score += 1\n",
    "        elif choice == 2 and random_number == 0:\n",
    "            print(f\"{choices[choice]} vs. {choices[random_number]}: AI\")\n",
    "            AI_score += 1\n",
    "        elif choice == 2 and random_number == 1:\n",
    "            print(f\"{choices[choice]} vs. {choices[random_number]}: Player\")\n",
    "            player_score += 1\n",
    "        elif choice == 2 and random_number == 2:\n",
    "            print(f\"{choices[choice]} vs. {choices[random_number]}: Draw\")\n",
    "\n",
    "        print(f\"\\nAI Score: {AI_score}\")\n",
    "        print(f\"Player Score: {player_score}\\n\")\n",
    "        current_round += 1\n",
    "    else:\n",
    "        print(\"Please choose from the options above.\")\n",
    "\n",
    "if AI_score == 5:\n",
    "    print(\"Winner: AI\")\n",
    "elif player_score == 5:\n",
    "    print(\"Winner: Player!\")"
   ]
  }
 ],
 "metadata": {
  "kernelspec": {
   "display_name": "base",
   "language": "python",
   "name": "python3"
  },
  "language_info": {
   "codemirror_mode": {
    "name": "ipython",
    "version": 3
   },
   "file_extension": ".py",
   "mimetype": "text/x-python",
   "name": "python",
   "nbconvert_exporter": "python",
   "pygments_lexer": "ipython3",
   "version": "3.11.7"
  }
 },
 "nbformat": 4,
 "nbformat_minor": 2
}
