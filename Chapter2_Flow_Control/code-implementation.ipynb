{
 "cells": [
  {
   "cell_type": "code",
   "execution_count": 13,
   "metadata": {},
   "outputs": [
    {
     "name": "stdout",
     "output_type": "stream",
     "text": [
      "10 == 15: False\n",
      "10 != 15: True\n",
      "10 < 15: True\n",
      "10 > 15: False\n",
      "10 <= 15: True\n",
      "10 >= 15: False\n"
     ]
    }
   ],
   "source": [
    "first_num = 10\n",
    "second_num = 15\n",
    "\n",
    "print(f\"{first_num} == {second_num}: {first_num == second_num}\")\n",
    "print(f\"{first_num} != {second_num}: {first_num != second_num}\")\n",
    "print(f\"{first_num} < {second_num}: {first_num < second_num}\")\n",
    "print(f\"{first_num} > {second_num}: {first_num > second_num}\")\n",
    "print(f\"{first_num} <= {second_num}: {first_num <= second_num}\")\n",
    "print(f\"{first_num} >= {second_num}: {first_num >= second_num}\")"
   ]
  },
  {
   "cell_type": "code",
   "execution_count": 27,
   "metadata": {},
   "outputs": [
    {
     "name": "stdout",
     "output_type": "stream",
     "text": [
      "----- AND OPERATOR -----\n",
      "True and True: True\n",
      "True and False: False\n",
      "False and True: False\n",
      "False and False: False\n",
      "\n",
      "----- OR OPERATOR -----\n",
      "True or True: True\n",
      "True or False: True\n",
      "False or True: True\n",
      "False or False: False\n",
      "\n",
      "----- NOT OPERATOR -----\n",
      "Not True: False\n",
      "Not False: True\n"
     ]
    }
   ],
   "source": [
    "print(\"----- AND OPERATOR -----\")\n",
    "print(f\"True and True: {True and True}\")\n",
    "print(f\"True and False: {True and False}\")\n",
    "print(f\"False and True: {False and True}\")\n",
    "print(f\"False and False: {False and False}\\n\")\n",
    "\n",
    "print(\"----- OR OPERATOR -----\")\n",
    "print(f\"True or True: {True or True}\")\n",
    "print(f\"True or False: {True or False}\")\n",
    "print(f\"False or True: {False or True}\")\n",
    "print(f\"False or False: {False or False}\\n\")\n",
    "\n",
    "print(\"----- NOT OPERATOR -----\")\n",
    "print(f\"Not True: {not True}\")\n",
    "print(f\"Not False: {not False}\")"
   ]
  }
 ],
 "metadata": {
  "kernelspec": {
   "display_name": "base",
   "language": "python",
   "name": "python3"
  },
  "language_info": {
   "codemirror_mode": {
    "name": "ipython",
    "version": 3
   },
   "file_extension": ".py",
   "mimetype": "text/x-python",
   "name": "python",
   "nbconvert_exporter": "python",
   "pygments_lexer": "ipython3",
   "version": "3.11.5"
  }
 },
 "nbformat": 4,
 "nbformat_minor": 2
}
