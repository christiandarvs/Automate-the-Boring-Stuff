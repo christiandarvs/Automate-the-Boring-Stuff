{
 "cells": [
  {
   "cell_type": "markdown",
   "metadata": {},
   "source": [
    "### Conditional Operators"
   ]
  },
  {
   "cell_type": "code",
   "execution_count": 1,
   "metadata": {},
   "outputs": [
    {
     "name": "stdout",
     "output_type": "stream",
     "text": [
      "10 == 15: False\n",
      "10 != 15: True\n",
      "10 < 15: True\n",
      "10 > 15: False\n",
      "10 <= 15: True\n",
      "10 >= 15: False\n"
     ]
    }
   ],
   "source": [
    "first_num = 10\n",
    "second_num = 15\n",
    "\n",
    "print(f\"{first_num} == {second_num}: {first_num == second_num}\")\n",
    "print(f\"{first_num} != {second_num}: {first_num != second_num}\")\n",
    "print(f\"{first_num} < {second_num}: {first_num < second_num}\")\n",
    "print(f\"{first_num} > {second_num}: {first_num > second_num}\")\n",
    "print(f\"{first_num} <= {second_num}: {first_num <= second_num}\")\n",
    "print(f\"{first_num} >= {second_num}: {first_num >= second_num}\")"
   ]
  },
  {
   "cell_type": "markdown",
   "metadata": {},
   "source": [
    "### Boolean Operators"
   ]
  },
  {
   "cell_type": "code",
   "execution_count": 2,
   "metadata": {},
   "outputs": [
    {
     "name": "stdout",
     "output_type": "stream",
     "text": [
      "----- AND OPERATOR -----\n",
      "True and True: True\n",
      "True and False: False\n",
      "False and True: False\n",
      "False and False: False\n",
      "\n",
      "----- OR OPERATOR -----\n",
      "True or True: True\n",
      "True or False: True\n",
      "False or True: True\n",
      "False or False: False\n",
      "\n",
      "----- NOT OPERATOR -----\n",
      "Not True: False\n",
      "Not False: True\n"
     ]
    }
   ],
   "source": [
    "print(\"----- AND OPERATOR -----\")\n",
    "print(f\"True and True: {True and True}\")\n",
    "print(f\"True and False: {True and False}\")\n",
    "print(f\"False and True: {False and True}\")\n",
    "print(f\"False and False: {False and False}\\n\")\n",
    "\n",
    "print(\"----- OR OPERATOR -----\")\n",
    "print(f\"True or True: {True or True}\")\n",
    "print(f\"True or False: {True or False}\")\n",
    "print(f\"False or True: {False or True}\")\n",
    "print(f\"False or False: {False or False}\\n\")\n",
    "\n",
    "print(\"----- NOT OPERATOR -----\")\n",
    "print(f\"Not True: {not True}\")\n",
    "print(f\"Not False: {not False}\")"
   ]
  },
  {
   "cell_type": "code",
   "execution_count": 3,
   "metadata": {},
   "outputs": [
    {
     "name": "stdout",
     "output_type": "stream",
     "text": [
      "True\n",
      "False\n",
      "True\n"
     ]
    }
   ],
   "source": [
    "print((4 < 5) and (5 < 6))\n",
    "print((4 < 5) and (9 < 6))\n",
    "print((1 == 2) or (2 == 2))"
   ]
  },
  {
   "cell_type": "markdown",
   "metadata": {},
   "source": [
    "### If - Else Statement Example"
   ]
  },
  {
   "cell_type": "code",
   "execution_count": 4,
   "metadata": {},
   "outputs": [
    {
     "name": "stdout",
     "output_type": "stream",
     "text": [
      "Hello, Admin ABC\n",
      "Access Granted\n"
     ]
    }
   ],
   "source": [
    "username = \"admin\"\n",
    "password = \"123\"\n",
    "\n",
    "if username == \"admin\":\n",
    "    print(\"Hello, Admin ABC\")\n",
    "    if password == \"123\":\n",
    "        print(\"Access Granted\")\n",
    "    else:\n",
    "        print(\"Wrong Password...\")"
   ]
  },
  {
   "cell_type": "markdown",
   "metadata": {},
   "source": [
    "### `If` Statement"
   ]
  },
  {
   "cell_type": "code",
   "execution_count": 10,
   "metadata": {},
   "outputs": [
    {
     "name": "stdout",
     "output_type": "stream",
     "text": [
      "Eyy, a Python Programmer!\n"
     ]
    }
   ],
   "source": [
    "programming_language = \"Python\"\n",
    "\n",
    "if programming_language == \"Python\":\n",
    "    print(\"Eyy, a Python Programmer!\")\n",
    "\n",
    "# In the if statement, we are evaluating whether the value of the variable 'programming_language' is Python. If it's the same, then it will execute the clause. Since the code doesn't have an else statement when the condition is false, it won't do anything"
   ]
  },
  {
   "cell_type": "markdown",
   "metadata": {},
   "source": [
    "### Else Statement"
   ]
  },
  {
   "cell_type": "code",
   "execution_count": 11,
   "metadata": {},
   "outputs": [
    {
     "name": "stdout",
     "output_type": "stream",
     "text": [
      "I see. You're a Java Programmer.\n"
     ]
    }
   ],
   "source": [
    "programming_language = \"Java\"\n",
    "\n",
    "if programming_language == \"Python\":\n",
    "    print(\"Eyy, a Python Programmer!\")\n",
    "else:\n",
    "    print(f\"I see. You're a {programming_language.title()} Programmer.\")"
   ]
  },
  {
   "cell_type": "markdown",
   "metadata": {},
   "source": [
    "### Elif Statement"
   ]
  },
  {
   "cell_type": "code",
   "execution_count": 9,
   "metadata": {},
   "outputs": [
    {
     "name": "stdout",
     "output_type": "stream",
     "text": [
      "Okay. You must be a game developer?\n"
     ]
    }
   ],
   "source": [
    "programming_language = \"C#\"\n",
    "\n",
    "if programming_language == \"Python\":\n",
    "    print(\"Eyy, a Python Programmer!\")\n",
    "elif programming_language == \"C#\":\n",
    "    print(\"Okay. You must be a game developer?\")\n",
    "else:\n",
    "    print(f\"I see. You're a {programming_language.title()} Programmer.\")"
   ]
  },
  {
   "cell_type": "markdown",
   "metadata": {},
   "source": [
    "### While Loop"
   ]
  },
  {
   "cell_type": "code",
   "execution_count": 19,
   "metadata": {},
   "outputs": [
    {
     "name": "stdout",
     "output_type": "stream",
     "text": [
      "1 Pushup\n",
      "2 Pushup\n",
      "3 Pushup\n",
      "4 Pushup\n",
      "5 Pushup\n"
     ]
    }
   ],
   "source": [
    "current_rep = 0\n",
    "n_of_reps = 5\n",
    "\n",
    "while current_rep < n_of_reps:\n",
    "    print(f\"{current_rep + 1} Pushup\")\n",
    "    current_rep += 1"
   ]
  },
  {
   "cell_type": "markdown",
   "metadata": {},
   "source": [
    "### Break Statement"
   ]
  },
  {
   "cell_type": "code",
   "execution_count": 6,
   "metadata": {},
   "outputs": [
    {
     "name": "stdout",
     "output_type": "stream",
     "text": [
      "You are not the user that we are looking for.\n",
      "Welcome back!\n",
      "\n",
      "Thank you for using our system!\n"
     ]
    }
   ],
   "source": [
    "while True:\n",
    "    user_name = input(\"Enter your name: \").lower()\n",
    "    if user_name == \"christian\":\n",
    "        print(\"Welcome back!\")\n",
    "        break\n",
    "    else:\n",
    "        print(\"You are not the user that we are looking for.\")\n",
    "\n",
    "print(\"\\nThank you for using our system!\")"
   ]
  },
  {
   "cell_type": "markdown",
   "metadata": {},
   "source": [
    "### Continue Statement"
   ]
  },
  {
   "cell_type": "code",
   "execution_count": 7,
   "metadata": {},
   "outputs": [
    {
     "name": "stdout",
     "output_type": "stream",
     "text": [
      "Current Number: 1\n",
      "Current Number: 3\n",
      "Current Number: 5\n",
      "Current Number: 7\n",
      "Current Number: 9\n"
     ]
    }
   ],
   "source": [
    "counter = 0\n",
    "n_of_iterations = 10\n",
    "\n",
    "while counter < n_of_iterations:\n",
    "    counter += 1\n",
    "\n",
    "    if counter % 2 == 0:\n",
    "        continue  # skip the rest of code for even numbers\n",
    "\n",
    "    print(f\"Current Number: {counter}\")"
   ]
  },
  {
   "cell_type": "markdown",
   "metadata": {},
   "source": [
    "### For Loop and `range() `"
   ]
  },
  {
   "cell_type": "code",
   "execution_count": 25,
   "metadata": {},
   "outputs": [
    {
     "name": "stdout",
     "output_type": "stream",
     "text": [
      "1 Pushup\n",
      "2 Pushup\n",
      "3 Pushup\n",
      "4 Pushup\n",
      "5 Pushup\n"
     ]
    }
   ],
   "source": [
    "for rep in range(5):\n",
    "    print(f\"{rep + 1} Pushup\")"
   ]
  },
  {
   "cell_type": "code",
   "execution_count": 26,
   "metadata": {},
   "outputs": [
    {
     "name": "stdout",
     "output_type": "stream",
     "text": [
      "Total: 5050\n"
     ]
    }
   ],
   "source": [
    "total = 0\n",
    "for num in range(101):\n",
    "    # total = total + num\n",
    "    total += num\n",
    "\n",
    "print(f\"Total: {total}\")"
   ]
  },
  {
   "cell_type": "markdown",
   "metadata": {},
   "source": [
    "### `range(start, stop, step)` parameters"
   ]
  },
  {
   "cell_type": "code",
   "execution_count": 38,
   "metadata": {},
   "outputs": [
    {
     "name": "stdout",
     "output_type": "stream",
     "text": [
      "1\n",
      "2\n",
      "3\n",
      "4\n",
      "5\n"
     ]
    }
   ],
   "source": [
    "for x in range(1, 6):\n",
    "    print(x)\n",
    "\n",
    "# In the range function, the last iteration value is stop - 1,\n",
    "# where stop is the exclusive upper limit specified as the stop parameter."
   ]
  },
  {
   "cell_type": "code",
   "execution_count": 43,
   "metadata": {},
   "outputs": [
    {
     "name": "stdout",
     "output_type": "stream",
     "text": [
      "0\n",
      "2\n",
      "4\n",
      "6\n",
      "8\n",
      "10\n"
     ]
    }
   ],
   "source": [
    "for y in range(0, 11, 2):\n",
    "    print(y)\n",
    "\n",
    "# It will count from 0 to 10 by intervals of 2"
   ]
  },
  {
   "cell_type": "code",
   "execution_count": 8,
   "metadata": {},
   "outputs": [
    {
     "name": "stdout",
     "output_type": "stream",
     "text": [
      "10\n",
      "1\n",
      "10\n",
      "6\n",
      "1\n"
     ]
    }
   ],
   "source": [
    "import random\n",
    "\n",
    "for z in range(5):\n",
    "    print(random.randint(1, 10))"
   ]
  },
  {
   "cell_type": "code",
   "execution_count": 8,
   "metadata": {},
   "outputs": [
    {
     "name": "stdout",
     "output_type": "stream",
     "text": [
      "hello world\n",
      "hello\n",
      "meow\n"
     ]
    }
   ],
   "source": [
    "import sys\n",
    "\n",
    "# while True:\n",
    "#     pass\n",
    "\n",
    "print(\"hello world\")\n",
    "print(\"hello\")\n",
    "print('meow')a"
   ]
  }
 ],
 "metadata": {
  "kernelspec": {
   "display_name": "base",
   "language": "python",
   "name": "python3"
  },
  "language_info": {
   "codemirror_mode": {
    "name": "ipython",
    "version": 3
   },
   "file_extension": ".py",
   "mimetype": "text/x-python",
   "name": "python",
   "nbconvert_exporter": "python",
   "pygments_lexer": "ipython3",
   "version": "3.11.7"
  }
 },
 "nbformat": 4,
 "nbformat_minor": 2
}
