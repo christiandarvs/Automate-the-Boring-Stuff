{
 "cells": [
  {
   "cell_type": "markdown",
   "metadata": {},
   "source": [
    "## List Data Type"
   ]
  },
  {
   "cell_type": "code",
   "execution_count": 19,
   "metadata": {},
   "outputs": [
    {
     "name": "stdout",
     "output_type": "stream",
     "text": [
      "Programming Languages: ['Python', 'Java', 'Kotlin', 'C#', 'R']\n",
      "Scores: [90, 95, 100, 85, 92]\n"
     ]
    }
   ],
   "source": [
    "programming_languages = [\"Python\", \"Java\", \"Kotlin\", \"C#\", \"R\"]\n",
    "scores = [90, 95, 100, 85, 92]\n",
    "\n",
    "print(f\"Programming Languages: {programming_languages}\")\n",
    "print(f\"Scores: {scores}\")"
   ]
  },
  {
   "cell_type": "markdown",
   "metadata": {},
   "source": [
    "## Access Elements"
   ]
  },
  {
   "cell_type": "code",
   "execution_count": 20,
   "metadata": {},
   "outputs": [
    {
     "name": "stdout",
     "output_type": "stream",
     "text": [
      "First Element from the Programming Languages: Python\n",
      "First Element from the Scores: 90\n",
      "\n",
      "Last Element from the Programming Languages: R\n",
      "Last Element from the Scores: 92\n",
      "\n"
     ]
    }
   ],
   "source": [
    "# Access the 1st element\n",
    "first_programming_language = programming_languages[0]\n",
    "first_score = scores[0]\n",
    "\n",
    "# Access the last element (Negative-indexing)\n",
    "last_programming_language = programming_languages[-1]\n",
    "last_score = scores[-1]\n",
    "\n",
    "print(f\"First Element from the Programming Languages: {first_programming_language}\")\n",
    "print(f\"First Element from the Scores: {first_score}\\n\")\n",
    "\n",
    "print(f\"Last Element from the Programming Languages: {last_programming_language}\")\n",
    "print(f\"Last Element from the Scores: {last_score}\\n\")"
   ]
  },
  {
   "cell_type": "markdown",
   "metadata": {},
   "source": [
    "## Negative Indexing"
   ]
  },
  {
   "cell_type": "code",
   "execution_count": 21,
   "metadata": {},
   "outputs": [
    {
     "name": "stdout",
     "output_type": "stream",
     "text": [
      "['Python', 'Java', 'Kotlin', 'C#', 'R']\n",
      "R\n",
      "C#\n",
      "Kotlin\n",
      "Java\n",
      "Python\n"
     ]
    }
   ],
   "source": [
    "print(programming_languages)\n",
    "\n",
    "print(programming_languages[-1])\n",
    "print(programming_languages[-2])\n",
    "print(programming_languages[-3])\n",
    "print(programming_languages[-4])\n",
    "print(programming_languages[-5])"
   ]
  },
  {
   "cell_type": "markdown",
   "metadata": {},
   "source": [
    "## Index Slicing"
   ]
  },
  {
   "cell_type": "code",
   "execution_count": 22,
   "metadata": {},
   "outputs": [
    {
     "name": "stdout",
     "output_type": "stream",
     "text": [
      "['Python', 'Java', 'Kotlin']\n",
      "['Python', 'Java']\n",
      "['Python']\n",
      "['Python', 'Java', 'Kotlin', 'C#', 'R']\n"
     ]
    }
   ],
   "source": [
    "print(programming_languages[:3])\n",
    "print(programming_languages[:2])\n",
    "print(programming_languages[:1])\n",
    "print(programming_languages[:])\n",
    "\n",
    "# By default, it will start from 0 until the n-1 element"
   ]
  },
  {
   "cell_type": "markdown",
   "metadata": {},
   "source": [
    "## Indexing Error\n",
    "- This occurs when we use an index that exceeds the length of the list\n",
    "- This occurs when we use an index that is **NOT** an **INTEGER**"
   ]
  },
  {
   "cell_type": "code",
   "execution_count": 23,
   "metadata": {},
   "outputs": [
    {
     "name": "stdout",
     "output_type": "stream",
     "text": [
      "Error: list index out of range\n",
      "Error: list indices must be integers or slices, not str\n"
     ]
    }
   ],
   "source": [
    "try:\n",
    "    print(programming_languages[100000])\n",
    "except IndexError as IE:\n",
    "    print(f\"Error: {IE}\")\n",
    "\n",
    "try:\n",
    "    print(programming_languages[\"Python\"])\n",
    "    # print(programming_languages[1.4]) try to uncomment this\n",
    "except TypeError as TE:\n",
    "    print(f\"Error: {TE}\")"
   ]
  },
  {
   "cell_type": "markdown",
   "metadata": {},
   "source": [
    "## ``len()``"
   ]
  },
  {
   "cell_type": "code",
   "execution_count": 24,
   "metadata": {},
   "outputs": [
    {
     "name": "stdout",
     "output_type": "stream",
     "text": [
      "Length of Programming Languages: 5\n",
      "Length of Scores: 5\n",
      "Length of the word \"Hello World\": 11\n"
     ]
    }
   ],
   "source": [
    "programming_languages_length = len(programming_languages)\n",
    "scores_length = len(scores)\n",
    "\n",
    "print(f\"Length of Programming Languages: {programming_languages_length}\")\n",
    "print(f\"Length of Scores: {scores_length}\")\n",
    "\n",
    "print(f'Length of the word \"Hello World\": {len(\"Hello World\")}')"
   ]
  },
  {
   "cell_type": "markdown",
   "metadata": {},
   "source": [
    "## Reassign Value"
   ]
  },
  {
   "cell_type": "code",
   "execution_count": 25,
   "metadata": {},
   "outputs": [
    {
     "name": "stdout",
     "output_type": "stream",
     "text": [
      "Before Update: ['Python', 'Java', 'Kotlin', 'C#', 'R']\n",
      "After Update: ['JavaScript', 'Swift', 'Go', 'PHP', 'SQL']\n"
     ]
    }
   ],
   "source": [
    "# Let's say we want to change the elements of our list, without creating a new list.\n",
    "\n",
    "print(f\"Before Update: {programming_languages}\")\n",
    "programming_languages[0] = \"JavaScript\"\n",
    "programming_languages[1] = \"Swift\"\n",
    "programming_languages[2] = \"Go\"\n",
    "programming_languages[3] = \"PHP\"\n",
    "programming_languages[4] = \"SQL\"\n",
    "print(f\"After Update: {programming_languages}\")"
   ]
  },
  {
   "cell_type": "markdown",
   "metadata": {},
   "source": [
    "## Concatenation and Replication"
   ]
  },
  {
   "cell_type": "code",
   "execution_count": 26,
   "metadata": {},
   "outputs": [
    {
     "name": "stdout",
     "output_type": "stream",
     "text": [
      "Countries with their Population: ['Philippines', 'Japan', 'Korea', 'China', 115.56, 123.3, 51.78, 1.41]\n",
      "\n",
      "[None, None, None, None, None, None, None, None]\n"
     ]
    }
   ],
   "source": [
    "# Concatenation\n",
    "countries = [\"Philippines\", \"Japan\", \"Korea\", \"China\"]\n",
    "population = [115.56, 123.3, 51.78, 1.41]\n",
    "\n",
    "countries_with_population = countries + population\n",
    "print(f\"Countries with their Population: {countries_with_population}\\n\")\n",
    "\n",
    "# Replication\n",
    "student_id_numbers = [None] * 8\n",
    "print(student_id_numbers)"
   ]
  },
  {
   "cell_type": "markdown",
   "metadata": {},
   "source": [
    "## Remove Element using ``del``"
   ]
  },
  {
   "cell_type": "code",
   "execution_count": 27,
   "metadata": {},
   "outputs": [
    {
     "name": "stdout",
     "output_type": "stream",
     "text": [
      "Before Deletion: ['Kendrick', 'Drake', 'Carti', 'Travis', 'Juice', 'Metro']\n",
      "First Deletion: ['Drake', 'Carti', 'Travis', 'Juice', 'Metro']\n",
      "Second Deletion: ['Drake', 'Travis', 'Juice', 'Metro']\n",
      "Third Deletion: ['Drake', 'Travis', 'Metro']\n"
     ]
    }
   ],
   "source": [
    "names = [\"Kendrick\", \"Drake\", \"Carti\", \"Travis\", \"Juice\", \"Metro\"]\n",
    "\n",
    "print(f\"Before Deletion: {names}\")\n",
    "\n",
    "del names[0]\n",
    "print(f\"First Deletion: {names}\")\n",
    "\n",
    "del names[1]\n",
    "print(f\"Second Deletion: {names}\")\n",
    "\n",
    "del names[2]\n",
    "print(f\"Third Deletion: {names}\")"
   ]
  },
  {
   "cell_type": "code",
   "execution_count": 28,
   "metadata": {},
   "outputs": [
    {
     "name": "stdout",
     "output_type": "stream",
     "text": [
      "Red is added...\n",
      "Colours: ['Red']\n",
      "\n",
      "Blue is added...\n",
      "Colours: ['Red', 'Blue']\n",
      "\n",
      "Orange is added...\n",
      "Colours: ['Red', 'Blue', 'Orange']\n",
      "\n",
      "We hope to see you again!\n"
     ]
    }
   ],
   "source": [
    "# Working with list\n",
    "colours = []\n",
    "while True:\n",
    "    colours_length = len(colours)\n",
    "    colour_name = input(\n",
    "        f\"Enter the name of colour {colours_length + 1} [press Enter - Quit]: \"\n",
    "    ).title()\n",
    "    if colour_name == \"\":\n",
    "        break\n",
    "    else:\n",
    "        colours.append(colour_name)\n",
    "        print(f\"{colour_name} is added...\")\n",
    "        print(f\"Colours: {colours}\\n\")\n",
    "print(\"We hope to see you again!\")"
   ]
  },
  {
   "cell_type": "markdown",
   "metadata": {},
   "source": [
    "## For Loops with Lists"
   ]
  },
  {
   "cell_type": "code",
   "execution_count": 38,
   "metadata": {},
   "outputs": [
    {
     "name": "stdout",
     "output_type": "stream",
     "text": [
      "Programming Language 1: JavaScript\n",
      "Programming Language 2: Swift\n",
      "Programming Language 3: Go\n",
      "Programming Language 4: PHP\n",
      "Programming Language 5: SQL\n",
      "\n",
      "Programming Language: JavaScript\n",
      "Programming Language: Swift\n",
      "Programming Language: Go\n",
      "Programming Language: PHP\n",
      "Programming Language: SQL\n"
     ]
    }
   ],
   "source": [
    "# This is useful when you need to keep track of the position of each element in the list.\n",
    "for i in range(len(programming_languages)):\n",
    "    print(f\"Programming Language {i + 1}: {programming_languages[i]}\")\n",
    "\n",
    "print()\n",
    "\n",
    "# This is useful when you only care about the value of each element, and not its position in the list.\n",
    "for programming_language in programming_languages:\n",
    "    print(f\"Programming Language: {programming_language}\")"
   ]
  },
  {
   "cell_type": "markdown",
   "metadata": {},
   "source": [
    "## ``in`` and ``not in`` operators"
   ]
  },
  {
   "cell_type": "code",
   "execution_count": 70,
   "metadata": {},
   "outputs": [
    {
     "name": "stdout",
     "output_type": "stream",
     "text": [
      "['JavaScript', 'Swift', 'Go', 'PHP', 'SQL']\n",
      "\n",
      "Java IN programming_languages? False\n",
      "Python IN programming_languages? False\n",
      "Kotlin IN programming_languages? False\n",
      "Ruby IN programming_languages? False\n",
      "Julia IN programming_languages? False\n",
      "\n",
      "Java NOT IN programming_languages? True\n",
      "Python NOT IN programming_languages? True\n",
      "Kotlin NOT IN programming_languages? True\n",
      "Ruby NOT IN programming_languages? True\n",
      "Julia NOT IN programming_languages? True\n"
     ]
    }
   ],
   "source": [
    "print(f\"{programming_languages}\\n\")\n",
    "\n",
    "print(f\"Java IN programming_languages? {'Java' in programming_languages}\")\n",
    "print(f\"Python IN programming_languages? {'Python' in programming_languages}\")\n",
    "print(f\"Kotlin IN programming_languages? {'Kotlin' in programming_languages}\")\n",
    "print(f\"Ruby IN programming_languages? {'Ruby' in programming_languages}\")\n",
    "print(f\"Julia IN programming_languages? {'Julia' in programming_languages}\")\n",
    "\n",
    "print()\n",
    "\n",
    "print(f\"Java NOT IN programming_languages? {'Java' not in programming_languages}\")\n",
    "print(f\"Python NOT IN programming_languages? {'Python' not in programming_languages}\")\n",
    "print(f\"Kotlin NOT IN programming_languages? {'Kotlin' not in programming_languages}\")\n",
    "print(f\"Ruby NOT IN programming_languages? {'Ruby' not in programming_languages}\")\n",
    "print(f\"Julia NOT IN programming_languages? {'Julia' not in programming_languages}\")"
   ]
  },
  {
   "cell_type": "markdown",
   "metadata": {},
   "source": [
    "## Multi - Assignment Trick"
   ]
  }
 ],
 "metadata": {
  "kernelspec": {
   "display_name": "base",
   "language": "python",
   "name": "python3"
  },
  "language_info": {
   "codemirror_mode": {
    "name": "ipython",
    "version": 3
   },
   "file_extension": ".py",
   "mimetype": "text/x-python",
   "name": "python",
   "nbconvert_exporter": "python",
   "pygments_lexer": "ipython3",
   "version": "3.11.7"
  }
 },
 "nbformat": 4,
 "nbformat_minor": 2
}
