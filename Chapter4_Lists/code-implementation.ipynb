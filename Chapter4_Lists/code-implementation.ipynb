{
 "cells": [
  {
   "cell_type": "markdown",
   "metadata": {},
   "source": [
    "## List Data Type"
   ]
  },
  {
   "cell_type": "code",
   "execution_count": 2,
   "metadata": {},
   "outputs": [
    {
     "name": "stdout",
     "output_type": "stream",
     "text": [
      "Programming Languages: ['Python', 'Java', 'Kotlin', 'C#', 'R']\n",
      "Scores: [90, 95, 100, 85, 92]\n"
     ]
    }
   ],
   "source": [
    "programming_languages = [\"Python\", \"Java\", \"Kotlin\", \"C#\", \"R\"]\n",
    "scores = [90, 95, 100, 85, 92]\n",
    "\n",
    "print(f\"Programming Languages: {programming_languages}\")\n",
    "print(f\"Scores: {scores}\")"
   ]
  },
  {
   "cell_type": "markdown",
   "metadata": {},
   "source": [
    "## Access Elements"
   ]
  },
  {
   "cell_type": "code",
   "execution_count": 3,
   "metadata": {},
   "outputs": [
    {
     "name": "stdout",
     "output_type": "stream",
     "text": [
      "First Element from the Programming Languages: Python\n",
      "First Element from the Scores: 90\n",
      "\n",
      "Last Element from the Programming Languages: R\n",
      "Last Element from the Scores: 92\n",
      "\n"
     ]
    }
   ],
   "source": [
    "# Access the 1st element\n",
    "first_programming_language = programming_languages[0]\n",
    "first_score = scores[0]\n",
    "\n",
    "# Access the last element (Negative-indexing)\n",
    "last_programming_language = programming_languages[-1]\n",
    "last_score = scores[-1]\n",
    "\n",
    "print(f\"First Element from the Programming Languages: {first_programming_language}\")\n",
    "print(f\"First Element from the Scores: {first_score}\\n\")\n",
    "\n",
    "print(f\"Last Element from the Programming Languages: {last_programming_language}\")\n",
    "print(f\"Last Element from the Scores: {last_score}\\n\")"
   ]
  },
  {
   "cell_type": "markdown",
   "metadata": {},
   "source": [
    "## Negative Indexing"
   ]
  },
  {
   "cell_type": "code",
   "execution_count": 4,
   "metadata": {},
   "outputs": [
    {
     "name": "stdout",
     "output_type": "stream",
     "text": [
      "['Python', 'Java', 'Kotlin', 'C#', 'R']\n",
      "R\n",
      "C#\n",
      "Kotlin\n",
      "Java\n",
      "Python\n"
     ]
    }
   ],
   "source": [
    "print(programming_languages)\n",
    "\n",
    "print(programming_languages[-1])\n",
    "print(programming_languages[-2])\n",
    "print(programming_languages[-3])\n",
    "print(programming_languages[-4])\n",
    "print(programming_languages[-5])"
   ]
  },
  {
   "cell_type": "markdown",
   "metadata": {},
   "source": [
    "## Index Slicing"
   ]
  },
  {
   "cell_type": "code",
   "execution_count": 5,
   "metadata": {},
   "outputs": [
    {
     "name": "stdout",
     "output_type": "stream",
     "text": [
      "['Python', 'Java', 'Kotlin']\n",
      "['Python', 'Java']\n",
      "['Python']\n",
      "['Python', 'Java', 'Kotlin', 'C#', 'R']\n"
     ]
    }
   ],
   "source": [
    "print(programming_languages[:3])\n",
    "print(programming_languages[:2])\n",
    "print(programming_languages[:1])\n",
    "print(programming_languages[:])\n",
    "\n",
    "# By default, it will start from 0 until the n-1 element"
   ]
  },
  {
   "cell_type": "markdown",
   "metadata": {},
   "source": [
    "## Indexing Error\n",
    "- This occurs when we use an index that exceeds the length of the list\n",
    "- This occurs when we use an index that is **NOT** an **INTEGER**"
   ]
  },
  {
   "cell_type": "code",
   "execution_count": 6,
   "metadata": {},
   "outputs": [
    {
     "name": "stdout",
     "output_type": "stream",
     "text": [
      "Error: list index out of range\n",
      "Error: list indices must be integers or slices, not str\n"
     ]
    }
   ],
   "source": [
    "try:\n",
    "    print(programming_languages[100000])\n",
    "except IndexError as IE:\n",
    "    print(f\"Error: {IE}\")\n",
    "\n",
    "try:\n",
    "    print(programming_languages[\"Python\"])\n",
    "    # print(programming_languages[1.4]) try to uncomment this\n",
    "except TypeError as TE:\n",
    "    print(f\"Error: {TE}\")"
   ]
  },
  {
   "cell_type": "markdown",
   "metadata": {},
   "source": [
    "## ``len()``"
   ]
  },
  {
   "cell_type": "code",
   "execution_count": 7,
   "metadata": {},
   "outputs": [
    {
     "name": "stdout",
     "output_type": "stream",
     "text": [
      "Length of Programming Languages: 5\n",
      "Length of Scores: 5\n",
      "Length of the word \"Hello World\": 11\n"
     ]
    }
   ],
   "source": [
    "programming_languages_length = len(programming_languages)\n",
    "scores_length = len(scores)\n",
    "\n",
    "print(f\"Length of Programming Languages: {programming_languages_length}\")\n",
    "print(f\"Length of Scores: {scores_length}\")\n",
    "\n",
    "print(f'Length of the word \"Hello World\": {len(\"Hello World\")}')"
   ]
  },
  {
   "cell_type": "markdown",
   "metadata": {},
   "source": [
    "## Reassign Value"
   ]
  },
  {
   "cell_type": "code",
   "execution_count": 8,
   "metadata": {},
   "outputs": [
    {
     "name": "stdout",
     "output_type": "stream",
     "text": [
      "Before Update: ['Python', 'Java', 'Kotlin', 'C#', 'R']\n",
      "After Update: ['JavaScript', 'Swift', 'Go', 'PHP', 'SQL']\n"
     ]
    }
   ],
   "source": [
    "# Let's say we want to change the elements of our list, without creating a new list.\n",
    "\n",
    "print(f\"Before Update: {programming_languages}\")\n",
    "programming_languages[0] = \"JavaScript\"\n",
    "programming_languages[1] = \"Swift\"\n",
    "programming_languages[2] = \"Go\"\n",
    "programming_languages[3] = \"PHP\"\n",
    "programming_languages[4] = \"SQL\"\n",
    "print(f\"After Update: {programming_languages}\")"
   ]
  },
  {
   "cell_type": "markdown",
   "metadata": {},
   "source": [
    "## Concatenation and Replication"
   ]
  },
  {
   "cell_type": "code",
   "execution_count": 9,
   "metadata": {},
   "outputs": [
    {
     "name": "stdout",
     "output_type": "stream",
     "text": [
      "Countries with their Population: ['Philippines', 'Japan', 'Korea', 'China', 115.56, 123.3, 51.78, 1.41]\n",
      "\n",
      "[None, None, None, None, None, None, None, None]\n"
     ]
    }
   ],
   "source": [
    "# Concatenation\n",
    "countries = [\"Philippines\", \"Japan\", \"Korea\", \"China\"]\n",
    "population = [115.56, 123.3, 51.78, 1.41]\n",
    "\n",
    "countries_with_population = countries + population\n",
    "print(f\"Countries with their Population: {countries_with_population}\\n\")\n",
    "\n",
    "# Replication\n",
    "student_id_numbers = [None] * 8\n",
    "print(student_id_numbers)"
   ]
  },
  {
   "cell_type": "markdown",
   "metadata": {},
   "source": [
    "## Remove Element using ``del``"
   ]
  },
  {
   "cell_type": "code",
   "execution_count": 10,
   "metadata": {},
   "outputs": [
    {
     "name": "stdout",
     "output_type": "stream",
     "text": [
      "Before Deletion: ['Kendrick', 'Drake', 'Carti', 'Travis', 'Juice', 'Metro']\n",
      "First Deletion: ['Drake', 'Carti', 'Travis', 'Juice', 'Metro']\n",
      "Second Deletion: ['Drake', 'Travis', 'Juice', 'Metro']\n",
      "Third Deletion: ['Drake', 'Travis', 'Metro']\n"
     ]
    }
   ],
   "source": [
    "names = [\"Kendrick\", \"Drake\", \"Carti\", \"Travis\", \"Juice\", \"Metro\"]\n",
    "\n",
    "print(f\"Before Deletion: {names}\")\n",
    "\n",
    "del names[0]\n",
    "print(f\"First Deletion: {names}\")\n",
    "\n",
    "del names[1]\n",
    "print(f\"Second Deletion: {names}\")\n",
    "\n",
    "del names[2]\n",
    "print(f\"Third Deletion: {names}\")"
   ]
  },
  {
   "cell_type": "code",
   "execution_count": 11,
   "metadata": {},
   "outputs": [
    {
     "name": "stdout",
     "output_type": "stream",
     "text": [
      "Red is added...\n",
      "Colours: ['Red']\n",
      "\n",
      "Blue is added...\n",
      "Colours: ['Red', 'Blue']\n",
      "\n",
      "Green is added...\n",
      "Colours: ['Red', 'Blue', 'Green']\n",
      "\n",
      "We hope to see you again!\n"
     ]
    }
   ],
   "source": [
    "# Working with list\n",
    "colours = []\n",
    "while True:\n",
    "    colours_length = len(colours)\n",
    "    colour_name = input(\n",
    "        f\"Enter the name of colour {colours_length + 1} [press Enter - Quit]: \"\n",
    "    ).title()\n",
    "    if colour_name == \"\":\n",
    "        break\n",
    "    else:\n",
    "        colours.append(colour_name)\n",
    "        print(f\"{colour_name} is added...\")\n",
    "        print(f\"Colours: {colours}\\n\")\n",
    "print(\"We hope to see you again!\")"
   ]
  },
  {
   "cell_type": "markdown",
   "metadata": {},
   "source": [
    "## For Loops with Lists"
   ]
  },
  {
   "cell_type": "code",
   "execution_count": 12,
   "metadata": {},
   "outputs": [
    {
     "name": "stdout",
     "output_type": "stream",
     "text": [
      "Programming Language 1: JavaScript\n",
      "Programming Language 2: Swift\n",
      "Programming Language 3: Go\n",
      "Programming Language 4: PHP\n",
      "Programming Language 5: SQL\n",
      "\n",
      "Programming Language: JavaScript\n",
      "Programming Language: Swift\n",
      "Programming Language: Go\n",
      "Programming Language: PHP\n",
      "Programming Language: SQL\n"
     ]
    }
   ],
   "source": [
    "# This is useful when you need to keep track of the position of each element in the list.\n",
    "for i in range(len(programming_languages)):\n",
    "    print(f\"Programming Language {i + 1}: {programming_languages[i]}\")\n",
    "\n",
    "print()\n",
    "\n",
    "# This is useful when you only care about the value of each element, and not its position in the list.\n",
    "for programming_language in programming_languages:\n",
    "    print(f\"Programming Language: {programming_language}\")"
   ]
  },
  {
   "cell_type": "markdown",
   "metadata": {},
   "source": [
    "## ``in`` and ``not in`` operators"
   ]
  },
  {
   "cell_type": "code",
   "execution_count": 13,
   "metadata": {},
   "outputs": [
    {
     "name": "stdout",
     "output_type": "stream",
     "text": [
      "['JavaScript', 'Swift', 'Go', 'PHP', 'SQL']\n",
      "\n",
      "Java IN programming_languages? False\n",
      "Python IN programming_languages? False\n",
      "Kotlin IN programming_languages? False\n",
      "Ruby IN programming_languages? False\n",
      "Julia IN programming_languages? False\n",
      "\n",
      "Java NOT IN programming_languages? True\n",
      "Python NOT IN programming_languages? True\n",
      "Kotlin NOT IN programming_languages? True\n",
      "Ruby NOT IN programming_languages? True\n",
      "Julia NOT IN programming_languages? True\n"
     ]
    }
   ],
   "source": [
    "print(f\"{programming_languages}\\n\")\n",
    "\n",
    "print(f\"Java IN programming_languages? {'Java' in programming_languages}\")\n",
    "print(f\"Python IN programming_languages? {'Python' in programming_languages}\")\n",
    "print(f\"Kotlin IN programming_languages? {'Kotlin' in programming_languages}\")\n",
    "print(f\"Ruby IN programming_languages? {'Ruby' in programming_languages}\")\n",
    "print(f\"Julia IN programming_languages? {'Julia' in programming_languages}\")\n",
    "\n",
    "print()\n",
    "\n",
    "print(f\"Java NOT IN programming_languages? {'Java' not in programming_languages}\")\n",
    "print(f\"Python NOT IN programming_languages? {'Python' not in programming_languages}\")\n",
    "print(f\"Kotlin NOT IN programming_languages? {'Kotlin' not in programming_languages}\")\n",
    "print(f\"Ruby NOT IN programming_languages? {'Ruby' not in programming_languages}\")\n",
    "print(f\"Julia NOT IN programming_languages? {'Julia' not in programming_languages}\")"
   ]
  },
  {
   "cell_type": "markdown",
   "metadata": {},
   "source": [
    "## Multi - Assignment Trick"
   ]
  },
  {
   "cell_type": "code",
   "execution_count": 14,
   "metadata": {},
   "outputs": [
    {
     "name": "stdout",
     "output_type": "stream",
     "text": [
      "Person: ['John', 25, 'Software Developer', 'Japan']\n",
      "\n",
      "Person Name: John\n",
      "Person Age: 25\n",
      "Person Work: Software Developer\n",
      "Person Country: Japan\n",
      "\n",
      "Error: not enough values to unpack (expected 4, got 3)\n"
     ]
    }
   ],
   "source": [
    "person = [\"John\", 25, \"Software Developer\", \"Japan\"]\n",
    "person_name, person_age, person_work, person_country = person\n",
    "print(f\"Person: {person}\\n\")\n",
    "print(f\"Person Name: {person_name}\")\n",
    "print(f\"Person Age: {person_age}\")\n",
    "print(f\"Person Work: {person_work}\")\n",
    "print(f\"Person Country: {person_country}\\n\")\n",
    "\n",
    "cat = [\n",
    "    \"orange\",\n",
    "    \"chonky\",\n",
    "    \"fast\",\n",
    "]\n",
    "\n",
    "try:\n",
    "    colour, size, speed, nationality = cat\n",
    "except ValueError as VE:\n",
    "    print(f\"Error: {VE}\")"
   ]
  },
  {
   "cell_type": "markdown",
   "metadata": {},
   "source": [
    "## ``enumerate()``"
   ]
  },
  {
   "cell_type": "code",
   "execution_count": 15,
   "metadata": {},
   "outputs": [
    {
     "name": "stdout",
     "output_type": "stream",
     "text": [
      "Laptop Brand 1: Apple\n",
      "Laptop Brand 2: Dell\n",
      "Laptop Brand 3: Lenovo\n",
      "Laptop Brand 4: Acer\n",
      "Laptop Brand 5: Asus\n"
     ]
    }
   ],
   "source": [
    "laptop_brands = [\"Apple\", \"Dell\", \"Lenovo\", \"Acer\", \"Asus\"]\n",
    "for count, laptop_brand in enumerate(laptop_brands):\n",
    "    print(f\"Laptop Brand {count + 1}: {laptop_brand}\")"
   ]
  },
  {
   "cell_type": "markdown",
   "metadata": {},
   "source": [
    "## ``random.choice()`` and ``random.shuffle()``"
   ]
  },
  {
   "cell_type": "code",
   "execution_count": 16,
   "metadata": {},
   "outputs": [
    {
     "name": "stdout",
     "output_type": "stream",
     "text": [
      "Foods: ['Fries', 'Burger', 'Nuggets', 'Pizza', 'Chocolate', 'Chips']\n",
      "\n",
      "Chips\n",
      "Chocolate\n",
      "Nuggets\n",
      "\n",
      "Before Shuffle: ['Fries', 'Burger', 'Nuggets', 'Pizza', 'Chocolate', 'Chips']\n",
      "After Shuffle: ['Chips', 'Burger', 'Pizza', 'Nuggets', 'Fries', 'Chocolate']\n"
     ]
    }
   ],
   "source": [
    "import random\n",
    "\n",
    "foods = [\"Fries\", \"Burger\", \"Nuggets\", \"Pizza\", \"Chocolate\", \"Chips\"]\n",
    "print(f\"Foods: {foods}\\n\")\n",
    "\n",
    "# Random Foods\n",
    "for x in range(3):\n",
    "    print(random.choice(foods))\n",
    "\n",
    "# Shuffle List\n",
    "print(f\"\\nBefore Shuffle: {foods}\")\n",
    "random.shuffle(foods)\n",
    "print(f\"After Shuffle: {foods}\")"
   ]
  },
  {
   "cell_type": "markdown",
   "metadata": {},
   "source": [
    "## ``index()``"
   ]
  },
  {
   "cell_type": "code",
   "execution_count": 17,
   "metadata": {},
   "outputs": [
    {
     "name": "stdout",
     "output_type": "stream",
     "text": [
      "['JavaScript', 'Swift', 'Go', 'PHP', 'SQL']\n",
      "\n",
      "Index of Go: 2\n",
      "Index of SQL: 4\n",
      "Index of PHP: 3\n",
      "Error: 'Java' is not in list\n"
     ]
    }
   ],
   "source": [
    "print(f\"{programming_languages}\\n\")\n",
    "\n",
    "print(f'Index of Go: {programming_languages.index(\"Go\")}')\n",
    "print(f'Index of SQL: {programming_languages.index(\"SQL\")}')\n",
    "print(f'Index of PHP: {programming_languages.index(\"PHP\")}')\n",
    "\n",
    "try:\n",
    "    print(f'Index of Java: {programming_languages.index(\"Java\")}')\n",
    "except ValueError as VE:\n",
    "    print(f\"Error: {VE}\")"
   ]
  },
  {
   "cell_type": "markdown",
   "metadata": {},
   "source": [
    "## ``append()`` and ``insert()``"
   ]
  },
  {
   "cell_type": "code",
   "execution_count": 18,
   "metadata": {},
   "outputs": [
    {
     "name": "stdout",
     "output_type": "stream",
     "text": [
      "Letters: ['A', 'B', 'C']\n",
      "\n",
      "Letters: ['D', 'A', 'B', 'C']\n",
      "Letters: ['D', 'A', 'E', 'B', 'C']\n",
      "\n",
      "insert expected 2 arguments, got 1\n"
     ]
    }
   ],
   "source": [
    "letters = []\n",
    "\n",
    "# append()\n",
    "letters.append(\"A\")\n",
    "letters.append(\"B\")\n",
    "letters.append(\"C\")\n",
    "\n",
    "print(f\"Letters: {letters}\\n\")\n",
    "\n",
    "# insert()\n",
    "letters.insert(0, \"D\")\n",
    "print(f\"Letters: {letters}\")\n",
    "\n",
    "letters.insert(2, \"E\")\n",
    "print(f\"Letters: {letters}\\n\")\n",
    "\n",
    "try:\n",
    "    letters.insert(\"F\")  # must be 2 arguments\n",
    "except TypeError as TE:\n",
    "    print(f\"{TE}\")"
   ]
  },
  {
   "cell_type": "markdown",
   "metadata": {},
   "source": [
    "## ``remove()``"
   ]
  },
  {
   "cell_type": "code",
   "execution_count": 19,
   "metadata": {},
   "outputs": [
    {
     "name": "stdout",
     "output_type": "stream",
     "text": [
      "Letters: ['D', 'A', 'E', 'B', 'C']\n",
      "Letters: ['D', 'E', 'B', 'C']\n",
      "\n",
      "Error: list.remove(x): x not in list\n"
     ]
    }
   ],
   "source": [
    "print(f\"Letters: {letters}\")\n",
    "\n",
    "letters.remove(\"A\")\n",
    "print(f\"Letters: {letters}\\n\")\n",
    "\n",
    "try:\n",
    "    letters.remove(\"Z\")\n",
    "except ValueError as VE:\n",
    "    print(f\"Error: {VE}\")"
   ]
  },
  {
   "cell_type": "markdown",
   "metadata": {},
   "source": [
    "## ``sort()``"
   ]
  },
  {
   "cell_type": "code",
   "execution_count": 20,
   "metadata": {},
   "outputs": [
    {
     "name": "stdout",
     "output_type": "stream",
     "text": [
      "GPA: [92.56, 95.98, 89.12, 88.93]\n",
      "GPA: [88.93, 89.12, 92.56, 95.98]\n",
      "\n",
      "Numbers: [27, 91, 5, 61, 87]\n",
      "Numbers: [91, 87, 61, 27, 5]\n",
      "\n",
      "Names: ['Alice', 'ants', 'Bob', 'badgers', 'Carol', 'cats']\n",
      "Names: ['Alice', 'ants', 'badgers', 'Bob', 'Carol', 'cats']\n",
      "\n",
      "Error: '<' not supported between instances of 'int' and 'str'\n"
     ]
    }
   ],
   "source": [
    "gpa = [92.56, 95.98, 89.12, 88.93]\n",
    "numbers = [27, 91, 5, 61, 87]\n",
    "\n",
    "print(f\"GPA: {gpa}\")\n",
    "gpa.sort()\n",
    "print(f\"GPA: {gpa}\\n\")\n",
    "\n",
    "print(f\"Numbers: {numbers}\")\n",
    "numbers.sort(reverse=True)\n",
    "print(f\"Numbers: {numbers}\\n\")\n",
    "\n",
    "names = [\"Alice\", \"ants\", \"Bob\", \"badgers\", \"Carol\", \"cats\"]\n",
    "print(f\"Names: {names}\")\n",
    "# names.sort()\n",
    "names.sort(key=str.lower)\n",
    "print(f\"Names: {names}\\n\")\n",
    "\n",
    "try:\n",
    "    random_things = [\"Pen\", 10, True, \"Paper\", 3]\n",
    "    random_things.sort()\n",
    "    print(random_things)\n",
    "except TypeError as TE:\n",
    "    print(f\"Error: {TE}\")"
   ]
  },
  {
   "cell_type": "markdown",
   "metadata": {},
   "source": [
    "## ``reverse()``"
   ]
  },
  {
   "cell_type": "code",
   "execution_count": 28,
   "metadata": {},
   "outputs": [
    {
     "name": "stdout",
     "output_type": "stream",
     "text": [
      "Numbers: [5, 27, 61, 87, 91]\n",
      "Rappers: ['Drake', 'Kendrick Lamar', 'JCole', 'Metro Boomin', 'Playboi Carti']\n",
      "\n",
      "Numbers: [91, 87, 61, 27, 5]\n",
      "Rappers: ['Playboi Carti', 'Metro Boomin', 'JCole', 'Kendrick Lamar', 'Drake']\n"
     ]
    }
   ],
   "source": [
    "print(f\"Numbers: {numbers}\")\n",
    "rappers = [\"Drake\", \"Kendrick Lamar\", \"JCole\", \"Metro Boomin\", \"Playboi Carti\"]\n",
    "print(f\"Rappers: {rappers}\\n\")\n",
    "\n",
    "numbers.reverse()\n",
    "rappers.reverse()\n",
    "\n",
    "print(f\"Numbers: {numbers}\")\n",
    "print(f\"Rappers: {rappers}\")"
   ]
  },
  {
   "cell_type": "code",
   "execution_count": 39,
   "metadata": {},
   "outputs": [
    {
     "name": "stdout",
     "output_type": "stream",
     "text": [
      "It is certain\n",
      "Signs point to yes\n",
      "Without a doubt\n",
      "Yes\n",
      "Most likely\n"
     ]
    }
   ],
   "source": [
    "# Example Program: Magic 8 Ball\n",
    "magic_ball = [\n",
    "    \"It is certain\",\n",
    "    \"It is decidedly so\",\n",
    "    \"Without a doubt\",\n",
    "    \"Yes definitely\",\n",
    "    \"You may rely on it\",\n",
    "    \"As I see it, yes\",\n",
    "    \"Most likely\",\n",
    "    \"Outlook good\",\n",
    "    \"Yes\",\n",
    "    \"Signs point to yes\",\n",
    "]\n",
    "\n",
    "for x in range(5):\n",
    "    your_luck = random.randint(0, len(magic_ball) - 1)\n",
    "    print(magic_ball[your_luck])"
   ]
  },
  {
   "cell_type": "markdown",
   "metadata": {},
   "source": [
    "## Tuple Data Type"
   ]
  },
  {
   "cell_type": "code",
   "execution_count": 50,
   "metadata": {},
   "outputs": [
    {
     "name": "stdout",
     "output_type": "stream",
     "text": [
      "Python\n",
      "('Python', 25, True, 'Windows 11', 'Asian')\n",
      "(True, 'Windows 11')\n",
      "\n",
      "Error: 'tuple' object does not support item assignment\n",
      "\n",
      "<class 'tuple'>\n"
     ]
    }
   ],
   "source": [
    "programmer = (\"Python\", 25, True, \"Windows 11\", \"Asian\")\n",
    "print(programmer[0])\n",
    "print(programmer[:])\n",
    "print(f\"{programmer[2:4]}\\n\")\n",
    "\n",
    "try:\n",
    "    programmer[0] = \"Java\"\n",
    "except TypeError as TE:\n",
    "    print(f\"Error: {TE}\")\n",
    "\n",
    "print(f\"\\n{type(programmer)}\")"
   ]
  },
  {
   "cell_type": "markdown",
   "metadata": {},
   "source": [
    "## ``list()`` and ``tuple()``"
   ]
  },
  {
   "cell_type": "code",
   "execution_count": 64,
   "metadata": {},
   "outputs": [
    {
     "name": "stdout",
     "output_type": "stream",
     "text": [
      "Philippines Island Groups: ('Luzon', 'Visayas', 'Mindanao')\n",
      "Type: <class 'tuple'>\n",
      "\n",
      "Converting into LIST...\n",
      "\n",
      "Philippines Island Groups: ['Luzon', 'Visayas', 'Mindanao']\n",
      "Type: <class 'list'>\n",
      "\n",
      "Philippines Island Groups: ['Luzon', 'Visayas', 'Mindanao', 'PythonZoo']\n"
     ]
    }
   ],
   "source": [
    "# List()\n",
    "\n",
    "philippines_island_groups = (\"Luzon\", \"Visayas\", \"Mindanao\")\n",
    "\n",
    "print(f\"Philippines Island Groups: {philippines_island_groups}\")\n",
    "print(f\"Type: {type(philippines_island_groups)}\")\n",
    "\n",
    "print(\"\\nConverting into LIST...\\n\")\n",
    "philippines_island_groups = list(philippines_island_groups)  # Reassign into a list()\n",
    "\n",
    "print(f\"Philippines Island Groups: {philippines_island_groups}\")\n",
    "print(f\"Type: {type(philippines_island_groups)}\\n\")\n",
    "\n",
    "philippines_island_groups.append(\"PythonZoo\")\n",
    "\n",
    "print(f\"Philippines Island Groups: {philippines_island_groups}\")"
   ]
  },
  {
   "cell_type": "code",
   "execution_count": 72,
   "metadata": {},
   "outputs": [
    {
     "name": "stdout",
     "output_type": "stream",
     "text": [
      "Rainbow Colours: ['Red', 'Orange', 'Yellow', 'Green', 'Blue', 'Indigo', 'Violet']\n",
      "Type: <class 'list'>\n",
      "\n",
      "Converting into TUPLE...\n",
      "\n",
      "Rainbow Colours: ('Red', 'Orange', 'Yellow', 'Green', 'Blue', 'Indigo', 'Violet')\n",
      "Type: <class 'tuple'>\n",
      "\n",
      "Error: 'tuple' object has no attribute 'append'\n"
     ]
    }
   ],
   "source": [
    "# Tuple()\n",
    "\n",
    "rainbow_colours = [\"Red\", \"Orange\", \"Yellow\", \"Green\", \"Blue\", \"Indigo\", \"Violet\"]\n",
    "\n",
    "print(f\"Rainbow Colours: {rainbow_colours}\")\n",
    "print(f\"Type: {type(rainbow_colours)}\")\n",
    "\n",
    "print(\"\\nConverting into TUPLE...\\n\")\n",
    "rainbow_colours = tuple(rainbow_colours)\n",
    "\n",
    "print(f\"Rainbow Colours: {rainbow_colours}\")\n",
    "print(f\"Type: {type(rainbow_colours)}\\n\")\n",
    "\n",
    "try:\n",
    "    rainbow_colours.append(\"Pink\")\n",
    "except Exception as E:\n",
    "    print(f\"Error: {E}\")"
   ]
  },
  {
   "cell_type": "markdown",
   "metadata": {},
   "source": [
    "## References"
   ]
  },
  {
   "cell_type": "code",
   "execution_count": 79,
   "metadata": {},
   "outputs": [
    {
     "name": "stdout",
     "output_type": "stream",
     "text": [
      "[100, 2, 3]\n",
      "[100, 2, 3]\n"
     ]
    }
   ],
   "source": [
    "numbers = [1, 2, 3]\n",
    "copy_of_numbers = numbers  # Shallow copy\n",
    "\n",
    "copy_of_numbers[0] = 100\n",
    "\n",
    "print(numbers)  # Output: [100, 2, 3]\n",
    "print(copy_of_numbers)  # Output: [100, 2, 3]"
   ]
  },
  {
   "cell_type": "code",
   "execution_count": 29,
   "metadata": {},
   "outputs": [
    {
     "name": "stdout",
     "output_type": "stream",
     "text": [
      "Original List: [1, 2, [3, 4]]]\n",
      "\n",
      "Original List: [1, 2, [5, 4]]\n",
      "Shallow Copy: [1, 2, [5, 4]]\n",
      "\n",
      "Original List: [1, 2, [5, 4]]\n",
      "Deep Copy: [1, 2, [9, 4]]\n"
     ]
    }
   ],
   "source": [
    "import copy\n",
    "\n",
    "original_list = [1, 2, [3, 4]]\n",
    "\n",
    "print(f\"Original List: {original_list}]\\n\")\n",
    "\n",
    "# Shallow copy\n",
    "shallow_copy = copy.copy(original_list)\n",
    "shallow_copy[2][0] = 5  # Modifies the nested list\n",
    "\n",
    "print(\n",
    "    f\"Original List: {original_list}\"\n",
    ")  # Output: [1, 2, [5, 4]] (original also changed)\n",
    "print(f\"Shallow Copy: {shallow_copy}\\n\")  # Output: [1, 2, [5, 4]]\n",
    "\n",
    "# Deep copy\n",
    "deep_copy = copy.deepcopy(original_list)\n",
    "deep_copy[2][0] = 9  # Modifies the nested list in the deep copy\n",
    "\n",
    "print(\n",
    "    f\"Original List: {original_list}\"\n",
    ")  # Output: [1, 2, [5, 4]] (original remains unchanged)\n",
    "print(f\"Deep Copy: {deep_copy}\")  # Output: [1, 2, [9, 4]]"
   ]
  }
 ],
 "metadata": {
  "kernelspec": {
   "display_name": "base",
   "language": "python",
   "name": "python3"
  },
  "language_info": {
   "codemirror_mode": {
    "name": "ipython",
    "version": 3
   },
   "file_extension": ".py",
   "mimetype": "text/x-python",
   "name": "python",
   "nbconvert_exporter": "python",
   "pygments_lexer": "ipython3",
   "version": "0.0.0"
  }
 },
 "nbformat": 4,
 "nbformat_minor": 2
}
