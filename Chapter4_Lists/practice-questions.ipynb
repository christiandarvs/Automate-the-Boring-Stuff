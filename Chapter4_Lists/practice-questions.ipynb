{
 "cells": [
  {
   "cell_type": "markdown",
   "metadata": {},
   "source": [
    "1. What is ``[]``?\n",
    "    - **Answer**: The ``[]`` is used to hold multiple values in a single variable. It denotes that the variable has a data type of **List**."
   ]
  },
  {
   "cell_type": "markdown",
   "metadata": {},
   "source": [
    "2. How would you assign the value 'hello' as the third value in a list stored in a variable named spam? (Assume spam contains [2, 4, 6, 8, 10].)\n",
    "    - **Answer**: ``spam[2] = 'hello'``"
   ]
  },
  {
   "cell_type": "markdown",
   "metadata": {},
   "source": [
    "3. What does ``spam[int(int('3' * 2) // 11)]`` evaluate to?\n",
    "    - **Answer**: **2**"
   ]
  },
  {
   "cell_type": "markdown",
   "metadata": {},
   "source": [
    "4. What does ``spam[-1]`` evaluate to?\n",
    "    - **Answer**: **10**"
   ]
  },
  {
   "cell_type": "markdown",
   "metadata": {},
   "source": [
    "5. What does spam[:2] evaluate to?\n",
    "    - **Answer**: ``2, 4``"
   ]
  },
  {
   "cell_type": "markdown",
   "metadata": {},
   "source": [
    "For the following three questions, let’s say ``bacon`` contains the list **[3.14, 'cat', 11, 'cat', True]**."
   ]
  },
  {
   "cell_type": "markdown",
   "metadata": {},
   "source": [
    "6. What does ``bacon.index('cat')`` evaluate to?\n",
    "    - **Answer**: **2**"
   ]
  },
  {
   "cell_type": "markdown",
   "metadata": {},
   "source": [
    "7. What does bacon.append(99) make the list value in bacon look like?\n",
    "    - **Answer**: ``[3.14, 'cat', 11, 'cat', True, 99]``"
   ]
  },
  {
   "cell_type": "markdown",
   "metadata": {},
   "source": [
    "8. What does bacon.remove('cat') make the list value in bacon look like?\n",
    "    - **Answer**: ``[3.14, 11, 'cat', True]``"
   ]
  },
  {
   "cell_type": "markdown",
   "metadata": {},
   "source": [
    "9. What are the operators for list concatenation and list replication?\n",
    "    - **Answer**: Concatenation (``+``), Replication (``*``)"
   ]
  },
  {
   "cell_type": "markdown",
   "metadata": {},
   "source": [
    "10. What is the difference between the ``append()`` and ``insert()`` list methods?\n",
    "    - **Answer**: The ``append()`` inserts the element at the last position. While, the ``insert()`` can insert the element at any given position since you are required to pass its index. \n",
    "\n"
   ]
  },
  {
   "cell_type": "markdown",
   "metadata": {},
   "source": [
    "11. What are two ways to remove values from a list? \n",
    "    - **Answer**: ``del list_name[index]`` and ``list_name.remove('element')``"
   ]
  },
  {
   "cell_type": "markdown",
   "metadata": {},
   "source": [
    "12. Name a few ways that list values are similar to string values.\n",
    "    - **Answer**: You can print the letter by providing its corresponding index. You can also perform index slicing on strings."
   ]
  },
  {
   "cell_type": "markdown",
   "metadata": {},
   "source": [
    "13. What is the difference between lists and tuples?\n",
    "    - **Answer**: Lists are **mutable**. Tuples are **immutable**."
   ]
  },
  {
   "cell_type": "markdown",
   "metadata": {},
   "source": [
    "14. How do you type the tuple value that has just the integer value 42 in it?\n",
    "    - **Answer**: ``my_tuple = (42,)``"
   ]
  },
  {
   "cell_type": "markdown",
   "metadata": {},
   "source": [
    "15. How can you get the tuple form of a list value? How can you get the list form of a tuple value?\n",
    "\n",
    "    - **Answers**:\n",
    "        - List to Tuple: ``tuple(list_variable)``\n",
    "        - Tuple to List: ``list(tuple_variable)``"
   ]
  },
  {
   "cell_type": "markdown",
   "metadata": {},
   "source": [
    "16. Variables that “contain” list values don’t actually contain lists directly. What do they contain instead?\n",
    "\n",
    "    - **Answer**: They contain the reference of the variable."
   ]
  },
  {
   "cell_type": "markdown",
   "metadata": {},
   "source": [
    "17. What is the difference between copy.copy() and copy.deepcopy()?\n",
    "\n",
    "    - **Answer**: ``copy.copy()`` copies the reference of the variable when it has an inner lists. When changes are made to the copied list, they will also reflect in the original list. ``copy.deepcopy()`` - when changes are made to the copied list, it doesn't reflect on the original list. "
   ]
  }
 ],
 "metadata": {
  "kernelspec": {
   "display_name": "base",
   "language": "python",
   "name": "python3"
  },
  "language_info": {
   "codemirror_mode": {
    "name": "ipython",
    "version": 3
   },
   "file_extension": ".py",
   "mimetype": "text/x-python",
   "name": "python",
   "nbconvert_exporter": "python",
   "pygments_lexer": "ipython3",
   "version": "0.0.0"
  }
 },
 "nbformat": 4,
 "nbformat_minor": 2
}
