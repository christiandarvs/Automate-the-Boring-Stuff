{
 "cells": [
  {
   "cell_type": "markdown",
   "metadata": {},
   "source": [
    "## Comma Code"
   ]
  },
  {
   "cell_type": "code",
   "execution_count": 53,
   "metadata": {},
   "outputs": [
    {
     "name": "stdout",
     "output_type": "stream",
     "text": [
      "apples, banana, tofu, and, cats\n",
      "Fries, Burger, Nuggets, Pizza, Chocolate, and, Chips\n",
      "Python, Java, Kotlin, C#, and, R\n",
      "Red, Blue, Green, Black, White, and, Grey\n"
     ]
    }
   ],
   "source": [
    "import copy\n",
    "\n",
    "\n",
    "def display_list_with_commas(list):\n",
    "    list_length = len(list)\n",
    "    if list_length == 0:\n",
    "        print(\"List is EMPTY. Please add values.\")\n",
    "    else:\n",
    "        copy_last_element = copy.copy(list[-1])\n",
    "        del list[-1]\n",
    "        list.append(\"and\")\n",
    "        list.append(copy_last_element)\n",
    "    print(*list, sep=\", \")\n",
    "\n",
    "\n",
    "spam = [\"apples\", \"banana\", \"tofu\", \"cats\"]\n",
    "display_list_with_commas(spam)\n",
    "\n",
    "foods = [\"Fries\", \"Burger\", \"Nuggets\", \"Pizza\", \"Chocolate\", \"Chips\"]\n",
    "display_list_with_commas(foods)\n",
    "\n",
    "programming_languages = [\"Python\", \"Java\", \"Kotlin\", \"C#\", \"R\"]\n",
    "display_list_with_commas(programming_languages)\n",
    "\n",
    "colours = [\"Red\", \"Blue\", \"Green\", \"Black\", \"White\", \"Grey\"]\n",
    "display_list_with_commas(colours)\n",
    "\n",
    "\n",
    "# Well, this is how I implemented my own solution."
   ]
  },
  {
   "cell_type": "markdown",
   "metadata": {},
   "source": [
    "## Coin Flip Streaks"
   ]
  },
  {
   "cell_type": "code",
   "execution_count": 54,
   "metadata": {},
   "outputs": [
    {
     "name": "stdout",
     "output_type": "stream",
     "text": [
      "Chance of streak: 0.077\n"
     ]
    }
   ],
   "source": [
    "import random\n",
    "\n",
    "n_of_streaks = 0\n",
    "flip_values = []\n",
    "streaks = 0\n",
    "\n",
    "for experiment_number in range(10000):\n",
    "    flip_values.append(random.randint(0, 1))\n",
    "\n",
    "for i in range(len(flip_values)):\n",
    "    if i == 0:\n",
    "        pass\n",
    "    elif flip_values[i] == flip_values[i - 1]:\n",
    "        streaks += 1\n",
    "    else:\n",
    "        streaks = 0\n",
    "\n",
    "    if streaks == 6:\n",
    "        n_of_streaks += 1\n",
    "\n",
    "print(f\"Chance of streak: {n_of_streaks / 1000}\")\n",
    "\n",
    "# 0 - Heads; 1 - Tails"
   ]
  },
  {
   "cell_type": "markdown",
   "metadata": {},
   "source": [
    "## Character Picture Grid"
   ]
  },
  {
   "cell_type": "code",
   "execution_count": 55,
   "metadata": {},
   "outputs": [
    {
     "name": "stdout",
     "output_type": "stream",
     "text": [
      "..OO.OO..\n",
      ".OOOOOOO.\n",
      ".OOOOOOO.\n",
      "..OOOOO..\n",
      "...OOO...\n",
      "....O....\n"
     ]
    }
   ],
   "source": [
    "grid = [\n",
    "    [\".\", \".\", \".\", \".\", \".\", \".\"],\n",
    "    [\".\", \"O\", \"O\", \".\", \".\", \".\"],\n",
    "    [\"O\", \"O\", \"O\", \"O\", \".\", \".\"],\n",
    "    [\"O\", \"O\", \"O\", \"O\", \"O\", \".\"],\n",
    "    [\".\", \"O\", \"O\", \"O\", \"O\", \"O\"],\n",
    "    [\"O\", \"O\", \"O\", \"O\", \"O\", \".\"],\n",
    "    [\"O\", \"O\", \"O\", \"O\", \".\", \".\"],\n",
    "    [\".\", \"O\", \"O\", \".\", \".\", \".\"],\n",
    "    [\".\", \".\", \".\", \".\", \".\", \".\"],\n",
    "]\n",
    "\n",
    "\n",
    "for x in range(len(grid[0])):\n",
    "    for y in range(len(grid)):\n",
    "        print(grid[y][x], end=\"\")\n",
    "    print(\"\")"
   ]
  }
 ],
 "metadata": {
  "kernelspec": {
   "display_name": "base",
   "language": "python",
   "name": "python3"
  },
  "language_info": {
   "codemirror_mode": {
    "name": "ipython",
    "version": 3
   },
   "file_extension": ".py",
   "mimetype": "text/x-python",
   "name": "python",
   "nbconvert_exporter": "python",
   "pygments_lexer": "ipython3",
   "version": "3.11.7"
  }
 },
 "nbformat": 4,
 "nbformat_minor": 2
}
