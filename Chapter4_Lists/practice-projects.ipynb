{
 "cells": [
  {
   "cell_type": "code",
   "execution_count": 29,
   "metadata": {},
   "outputs": [
    {
     "name": "stdout",
     "output_type": "stream",
     "text": [
      "apples, banana, tofu, and, cats\n",
      "Fries, Burger, Nuggets, Pizza, Chocolate, and, Chips\n",
      "Python, Java, Kotlin, C#, and, R\n"
     ]
    }
   ],
   "source": [
    "import copy\n",
    "\n",
    "\n",
    "def display_list_with_commas(list):\n",
    "    list_length = len(list)\n",
    "    if list_length == 0:\n",
    "        print(\"List is EMPTY. Please add values.\")\n",
    "    else:\n",
    "        copy_last_element = copy.copy(list[-1])\n",
    "        del list[-1]\n",
    "        list.append(\"and\")\n",
    "        list.append(copy_last_element)\n",
    "    print(*list, sep=\", \")\n",
    "\n",
    "\n",
    "spam = [\"apples\", \"banana\", \"tofu\", \"cats\"]\n",
    "display_list_with_commas(spam)\n",
    "\n",
    "foods = [\"Fries\", \"Burger\", \"Nuggets\", \"Pizza\", \"Chocolate\", \"Chips\"]\n",
    "display_list_with_commas(foods)\n",
    "\n",
    "programming_languages = [\"Python\", \"Java\", \"Kotlin\", \"C#\", \"R\"]\n",
    "display_list_with_commas(programming_languages)\n",
    "\n",
    "\n",
    "# Well, this is how I implemented my own solution."
   ]
  },
  {
   "cell_type": "markdown",
   "metadata": {},
   "source": []
  }
 ],
 "metadata": {
  "kernelspec": {
   "display_name": "base",
   "language": "python",
   "name": "python3"
  },
  "language_info": {
   "codemirror_mode": {
    "name": "ipython",
    "version": 3
   },
   "file_extension": ".py",
   "mimetype": "text/x-python",
   "name": "python",
   "nbconvert_exporter": "python",
   "pygments_lexer": "ipython3",
   "version": "3.11.7"
  }
 },
 "nbformat": 4,
 "nbformat_minor": 2
}
