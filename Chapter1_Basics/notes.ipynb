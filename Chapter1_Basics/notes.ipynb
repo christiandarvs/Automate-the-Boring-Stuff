{
 "cells": [
  {
   "cell_type": "code",
   "execution_count": 1,
   "metadata": {},
   "outputs": [
    {
     "name": "stdout",
     "output_type": "stream",
     "text": [
      "Exponent: 100000\n",
      "Modulus: 0\n",
      "Int Division: 2\n",
      "Division: 2.0\n",
      "Multiplication: 50\n",
      "Subtraction: 5\n",
      "Addition: 15\n",
      "Result: 16.0\n",
      "12.0\n",
      "\n"
     ]
    }
   ],
   "source": [
    "x = 10\n",
    "y = 5\n",
    "\n",
    "exponent = x**y\n",
    "modulus = x % y  # Returns the remainder\n",
    "int_division = x // y  # Returns the quotient\n",
    "division = x / y  # Returns the quotient with remainder\n",
    "multiplication = x * y\n",
    "subtraction = x - y\n",
    "addition = x + y\n",
    "\n",
    "print(f\"Exponent: {exponent}\")\n",
    "print(f\"Modulus: {modulus}\")\n",
    "print(f\"Int Division: {int_division}\")\n",
    "print(f\"Division: {division}\")\n",
    "print(f\"Multiplication: {multiplication}\")\n",
    "print(f\"Subtraction: {subtraction}\")\n",
    "print(f\"Addition: {addition}\")\n",
    "print(\n",
    "    \"Result: \" + str((5 - 1) * ((7 + 1) / (3 - 1)))\n",
    ")  # If the expression is enclosed in parenthesis, it will be evaluated first\n",
    "print(\n",
    "    10 + (x / y), end=\"\\n\\n\"\n",
    ")  # Divide x and y, then add 10 to the quotient so 10 + 2 = 12"
   ]
  }
 ],
 "metadata": {
  "kernelspec": {
   "display_name": "Python 3",
   "language": "python",
   "name": "python3"
  },
  "language_info": {
   "codemirror_mode": {
    "name": "ipython",
    "version": 3
   },
   "file_extension": ".py",
   "mimetype": "text/x-python",
   "name": "python",
   "nbconvert_exporter": "python",
   "pygments_lexer": "ipython3",
   "version": "3.11.5"
  }
 },
 "nbformat": 4,
 "nbformat_minor": 2
}
