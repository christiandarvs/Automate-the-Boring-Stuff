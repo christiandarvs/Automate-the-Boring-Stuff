{
 "cells": [
  {
   "cell_type": "code",
   "execution_count": 20,
   "metadata": {},
   "outputs": [
    {
     "name": "stdout",
     "output_type": "stream",
     "text": [
      "I love python\n",
      "Rick and Morty\n",
      "Python Programming\n"
     ]
    }
   ],
   "source": [
    "print(\"I love python\")\n",
    "print(\"Rick and Morty\")\n",
    "print(\"Python Programming\")"
   ]
  },
  {
   "cell_type": "code",
   "execution_count": 3,
   "metadata": {},
   "outputs": [
    {
     "name": "stdout",
     "output_type": "stream",
     "text": [
      "['Python', 'Java', 'JavaScript', 'C++', 'C#', 'Ruby', 'Go', 'Swift', 'Kotlin', 'Rust']\n"
     ]
    }
   ],
   "source": [
    "languages = [\n",
    "    \"Python\",\n",
    "    \"Java\",\n",
    "    \"JavaScript\",\n",
    "    \"C++\",\n",
    "    \"C#\",\n",
    "    \"Ruby\",\n",
    "    \"Go\",\n",
    "    \"Swift\",\n",
    "    \"Kotlin\",\n",
    "    \"Rust\",\n",
    "]\n",
    "\n",
    "\n",
    "print(languages)"
   ]
  },
  {
   "cell_type": "code",
   "execution_count": 25,
   "metadata": {},
   "outputs": [
    {
     "name": "stdout",
     "output_type": "stream",
     "text": [
      "['The Legend of Zelda: Breath of the Wild', 'God of War', 'The Witcher 3: Wild Hunt', 'Red Dead Redemption 2', 'The Last of Us Part II', 'Super Mario Odyssey', 'Overwatch', \"Uncharted 4: A Thief's End\", 'Bloodborne', 'Fallout 4']\n"
     ]
    }
   ],
   "source": [
    "game_of_the_year = [\n",
    "    \"The Legend of Zelda: Breath of the Wild\",\n",
    "    \"God of War\",\n",
    "    \"The Witcher 3: Wild Hunt\",\n",
    "    \"Red Dead Redemption 2\",\n",
    "    \"The Last of Us Part II\",\n",
    "    \"Super Mario Odyssey\",\n",
    "    \"Overwatch\",\n",
    "    \"Uncharted 4: A Thief's End\",\n",
    "    \"Bloodborne\",\n",
    "    \"Fallout 4\",\n",
    "]\n",
    "\n",
    "print(game_of_the_year)"
   ]
  },
  {
   "cell_type": "code",
   "execution_count": 26,
   "metadata": {},
   "outputs": [
    {
     "name": "stdout",
     "output_type": "stream",
     "text": [
      "['Afghanistan', 'Argentina', 'Australia', 'Brazil', 'Canada', 'China', 'Egypt', 'France', 'Germany', 'India', 'Italy', 'Japan', 'Mexico', 'Netherlands', 'Russia', 'South Africa', 'Spain', 'United Kingdom', 'United States', 'Vietnam']\n"
     ]
    }
   ],
   "source": [
    "countries = [\n",
    "    \"Afghanistan\",\n",
    "    \"Argentina\",\n",
    "    \"Australia\",\n",
    "    \"Brazil\",\n",
    "    \"Canada\",\n",
    "    \"China\",\n",
    "    \"Egypt\",\n",
    "    \"France\",\n",
    "    \"Germany\",\n",
    "    \"India\",\n",
    "    \"Italy\",\n",
    "    \"Japan\",\n",
    "    \"Mexico\",\n",
    "    \"Netherlands\",\n",
    "    \"Russia\",\n",
    "    \"South Africa\",\n",
    "    \"Spain\",\n",
    "    \"United Kingdom\",\n",
    "    \"United States\",\n",
    "    \"Vietnam\",\n",
    "]\n",
    "\n",
    "print(countries)"
   ]
  }
 ],
 "metadata": {
  "kernelspec": {
   "display_name": "Python 3",
   "language": "python",
   "name": "python3"
  },
  "language_info": {
   "codemirror_mode": {
    "name": "ipython",
    "version": 3
   },
   "file_extension": ".py",
   "mimetype": "text/x-python",
   "name": "python",
   "nbconvert_exporter": "python",
   "pygments_lexer": "ipython3",
   "version": "3.11.5"
  }
 },
 "nbformat": 4,
 "nbformat_minor": 2
}
