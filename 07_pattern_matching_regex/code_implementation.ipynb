{
 "cells": [
  {
   "cell_type": "markdown",
   "metadata": {},
   "source": [
    "## Finding Patterns of Text Without Regular Expressions (Not Recommended)"
   ]
  },
  {
   "cell_type": "code",
   "execution_count": 5,
   "metadata": {},
   "outputs": [
    {
     "name": "stdout",
     "output_type": "stream",
     "text": [
      "Is 415-555-4242 a phone number: True\n",
      "Is Machine Learning a phone number: False\n"
     ]
    }
   ],
   "source": [
    "def is_phone_number(text):\n",
    "    \"\"\"\n",
    "    Checks if the given text is a valid phone number in the format XXX-XXX-XXXX.\n",
    "\n",
    "    Args:\n",
    "        text (str): The text to be checked.\n",
    "\n",
    "    Returns:\n",
    "        bool: True if the text is a valid phone number, False otherwise.\n",
    "    \"\"\"\n",
    "    if len(text) != 12:\n",
    "        return False\n",
    "    for i in range(0, 3):\n",
    "        if not text[i].isdecimal():\n",
    "            return False\n",
    "    if text[3] != \"-\":\n",
    "        return False\n",
    "    for i in range(4, 7):\n",
    "        if not text[i].isdecimal():\n",
    "            return False\n",
    "    if text[7] != \"-\":\n",
    "        return False\n",
    "    for i in range(8, 12):\n",
    "        if not text[i].isdecimal():\n",
    "            return False\n",
    "    return True\n",
    "\n",
    "\n",
    "print(f\"Is 415-555-4242 a phone number: {is_phone_number('415-555-4242')}\")\n",
    "print(f\"Is Machine Learning a phone number: {is_phone_number('Machine Learning')}\")"
   ]
  },
  {
   "cell_type": "markdown",
   "metadata": {},
   "source": [
    "## Finding Patterns of Text With Regular Expressions"
   ]
  },
  {
   "cell_type": "code",
   "execution_count": 6,
   "metadata": {},
   "outputs": [
    {
     "name": "stdout",
     "output_type": "stream",
     "text": [
      "415-555-4242\n"
     ]
    }
   ],
   "source": [
    "import re\n",
    "\n",
    "phone_number_regex = re.compile(r\"\\d\\d\\d-\\d\\d\\d-\\d\\d\\d\\d\")\n",
    "text = \"My phone number is 415-555-4242\"\n",
    "\n",
    "match_object = phone_number_regex.search(text)\n",
    "print(match_object.group())"
   ]
  },
  {
   "cell_type": "markdown",
   "metadata": {},
   "source": [
    "## Grouping with Parentheses"
   ]
  },
  {
   "cell_type": "code",
   "execution_count": 7,
   "metadata": {},
   "outputs": [
    {
     "name": "stdout",
     "output_type": "stream",
     "text": [
      "group(): 415-555-424\n",
      "group(1): 415\n",
      "group(2): 555-424\n",
      "\n",
      "match_object.group(): ('415', '555-424')\n",
      "Area Code: 415\n",
      "Phone Number: 555-424\n"
     ]
    }
   ],
   "source": [
    "phone_number_regex = re.compile(r\"(\\d\\d\\d)-(\\d\\d\\d-\\d\\d\\d)\")\n",
    "text = \"My phone number is 415-555-4242\"\n",
    "\n",
    "match_object = phone_number_regex.search(text)\n",
    "print(f\"group(): {match_object.group()}\")\n",
    "print(f\"group(1): {match_object.group(1)}\")\n",
    "print(f\"group(2): {match_object.group(2)}\\n\")\n",
    "\n",
    "# Retrieve all the groups at once\n",
    "print(f\"match_object.group(): {match_object.groups()}\")\n",
    "area_code, phone_number = match_object.groups()\n",
    "print(f\"Area Code: {area_code}\")\n",
    "print(f\"Phone Number: {phone_number}\")"
   ]
  },
  {
   "cell_type": "markdown",
   "metadata": {},
   "source": [
    "## Matching Multiple Groups with the Pipe"
   ]
  },
  {
   "cell_type": "code",
   "execution_count": 9,
   "metadata": {},
   "outputs": [
    {
     "name": "stdout",
     "output_type": "stream",
     "text": [
      "Hero: Moon Knight\n",
      "Hero: Deadpool\n",
      "All Heroes: ['Moon Knight', 'Deadpool', 'Wolverine']\n"
     ]
    }
   ],
   "source": [
    "hero_regex = re.compile(r\"Moon Knight|Deadpool|Wolverine\")\n",
    "\n",
    "hero_match_object1 = hero_regex.search(\"Moon Knight and Deadpool\")\n",
    "print(f\"Hero: {hero_match_object1.group()}\")\n",
    "\n",
    "hero_match_object2 = hero_regex.search(\"Deadpool and Moon Knight\")\n",
    "print(f\"Hero: {hero_match_object2.group()}\")\n",
    "\n",
    "heroes_match_object = hero_regex.findall(\n",
    "    \"Moon Knight, Spider-Man, Deadpool, Wolverine, and Doctor Strange\"\n",
    ")\n",
    "print(f\"All Heroes: {heroes_match_object}\")"
   ]
  },
  {
   "cell_type": "markdown",
   "metadata": {},
   "source": [
    "## Optional Matching with the Question Mark ``?``"
   ]
  },
  {
   "cell_type": "code",
   "execution_count": 16,
   "metadata": {},
   "outputs": [
    {
     "name": "stdout",
     "output_type": "stream",
     "text": [
      "Bat Match Object 1: Batman\n",
      "Bat Match Object 2: Batwoman\n",
      "\n",
      "Phone Match Object 1: 415-555-4242\n",
      "Phone Match Object 2: 555-4242\n"
     ]
    }
   ],
   "source": [
    "bat_regex = re.compile(r\"Bat(wo)?man\")\n",
    "bat_match_object = bat_regex.search(\"The Adventures of Batman\")\n",
    "bat_match_object2 = bat_regex.search(\"The Adventures of Batwoman\")\n",
    "\n",
    "print(f\"Bat Match Object 1: {bat_match_object.group()}\")\n",
    "print(f\"Bat Match Object 2: {bat_match_object2.group()}\\n\")\n",
    "\n",
    "phone_regex = re.compile(r\"(\\d\\d\\d-)?\\d\\d\\d-\\d\\d\\d\\d\")\n",
    "phone_number_match_object = phone_regex.search(\"My number is 415-555-4242\")\n",
    "phone_number_match_object2 = phone_regex.search(\"My number is 555-4242\")\n",
    "\n",
    "print(f\"Phone Match Object 1: {phone_number_match_object.group()}\")\n",
    "print(f\"Phone Match Object 2: {phone_number_match_object2.group()}\")"
   ]
  },
  {
   "cell_type": "markdown",
   "metadata": {},
   "source": [
    "## Matching Zero or More with the Star"
   ]
  },
  {
   "cell_type": "code",
   "execution_count": 33,
   "metadata": {},
   "outputs": [
    {
     "name": "stdout",
     "output_type": "stream",
     "text": [
      "Bat Match Object 1: Batman\n",
      "Bat Match Object 2: Batwoman\n",
      "Bat Match Object 3: Batwowowoman\n",
      "\n",
      "Error: 'NoneType' object has no attribute 'group'\n"
     ]
    }
   ],
   "source": [
    "bat_regex = re.compile(r\"Bat(wo)*man\")\n",
    "bat_match_object = bat_regex.search(\"The Adventures of Batman\")\n",
    "bat_match_object2 = bat_regex.search(\"The Adventures of Batwoman\")\n",
    "bat_match_object3 = bat_regex.search(\"The Adventures of Batwowowoman\")\n",
    "\n",
    "print(f\"Bat Match Object 1: {bat_match_object.group()}\")\n",
    "print(f\"Bat Match Object 2: {bat_match_object2.group()}\")\n",
    "print(f\"Bat Match Object 3: {bat_match_object3.group()}\\n\")\n",
    "\n",
    "try:\n",
    "    bat_match_object4 = bat_regex.search(\"The Adventures of Batwomamanaman\")\n",
    "    print(f\"Bat Match Object 4: {bat_match_object4.group()}\")\n",
    "except AttributeError as AE:\n",
    "    print(f\"Error: {AE}\")"
   ]
  },
  {
   "cell_type": "markdown",
   "metadata": {},
   "source": [
    "## Matching One or More with the Plus"
   ]
  },
  {
   "cell_type": "code",
   "execution_count": 36,
   "metadata": {},
   "outputs": [
    {
     "name": "stdout",
     "output_type": "stream",
     "text": [
      "Bat Match Object 1: Batwoman\n",
      "Bat Match Object 2: Batwowowoman\n",
      "\n",
      "Error: 'NoneType' object has no attribute 'group'\n"
     ]
    }
   ],
   "source": [
    "bat_regex = re.compile(r\"Bat(wo)+man\")\n",
    "bat_match_object = bat_regex.search(\"The Adventures of Batwoman\")\n",
    "bat_match_object2 = bat_regex.search(\"The Adventures of Batwowowoman\")\n",
    "\n",
    "print(f\"Bat Match Object 1: {bat_match_object.group()}\")\n",
    "print(f\"Bat Match Object 2: {bat_match_object2.group()}\\n\")\n",
    "\n",
    "try:\n",
    "    bat_match_object3 = bat_regex.search(\"The Adventures of Batman\")\n",
    "    print(f\"Bat Match Object 3: {bat_match_object3.group()}\")\n",
    "except AttributeError as AE:\n",
    "    print(f\"Error: {AE}\")"
   ]
  },
  {
   "cell_type": "markdown",
   "metadata": {},
   "source": [
    "## Matching Specific Repetitions with Braces"
   ]
  },
  {
   "cell_type": "code",
   "execution_count": 50,
   "metadata": {},
   "outputs": [
    {
     "name": "stdout",
     "output_type": "stream",
     "text": [
      "HaHaHaHa\n",
      "Error: 'NoneType' object has no attribute 'group'\n"
     ]
    }
   ],
   "source": [
    "laugh_regex = re.compile(r\"(Ha){3,}\")\n",
    "laugh_match_object = laugh_regex.search(\"HaHaHaHa\")\n",
    "print(laugh_match_object.group())\n",
    "\n",
    "try:\n",
    "    laugh_match_object2 = laugh_regex.search(\"HaHa\")\n",
    "    print(laugh_match_object2.group())\n",
    "except AttributeError as AE:\n",
    "    print(f\"Error: {AE}\")"
   ]
  },
  {
   "cell_type": "code",
   "execution_count": 62,
   "metadata": {},
   "outputs": [
    {
     "name": "stdout",
     "output_type": "stream",
     "text": [
      "Date Match Object 1: ['03/01/2024', '03/02/2024']\n"
     ]
    }
   ],
   "source": [
    "date_regex = re.compile(r\"\\d{2}/\\d{2}/\\d{4}\")\n",
    "date_match_object = date_regex.findall(\n",
    "    \"Today is 03/01/2024. Yesterday was February 29, 2024. Tomorrow is 03/02/2024\"\n",
    ")\n",
    "print(f\"Date Match Object 1: {date_match_object}\")"
   ]
  },
  {
   "cell_type": "markdown",
   "metadata": {},
   "source": [
    "## Greedy and Non-Greedy Matching"
   ]
  }
 ],
 "metadata": {
  "kernelspec": {
   "display_name": "base",
   "language": "python",
   "name": "python3"
  },
  "language_info": {
   "codemirror_mode": {
    "name": "ipython",
    "version": 3
   },
   "file_extension": ".py",
   "mimetype": "text/x-python",
   "name": "python",
   "nbconvert_exporter": "python",
   "pygments_lexer": "ipython3",
   "version": "3.11.7"
  }
 },
 "nbformat": 4,
 "nbformat_minor": 2
}
