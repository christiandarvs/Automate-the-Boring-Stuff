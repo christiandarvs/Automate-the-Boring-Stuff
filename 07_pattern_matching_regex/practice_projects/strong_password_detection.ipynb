{
 "cells": [
  {
   "cell_type": "markdown",
   "metadata": {},
   "source": [
    "## Strong Password Detection"
   ]
  },
  {
   "cell_type": "code",
   "execution_count": 1,
   "metadata": {},
   "outputs": [],
   "source": [
    "import re"
   ]
  },
  {
   "cell_type": "code",
   "execution_count": 314,
   "metadata": {},
   "outputs": [],
   "source": [
    "import re\n",
    "\n",
    "\n",
    "def validate_password(password: str):\n",
    "    \"\"\"\n",
    "    Validates whether a password meets the specified criteria.\n",
    "\n",
    "    Args:\n",
    "        password (str): The password to be validated.\n",
    "\n",
    "    Returns:\n",
    "        bool: True if the password meets the criteria, False otherwise.\n",
    "    \"\"\"\n",
    "    password_regex = re.compile(r\"(?=.*[a-z])(?=.*[A-Z])(?=.*\\d).{7,13}\")\n",
    "    result = password_regex.match(password)\n",
    "    return True if result != None else False"
   ]
  },
  {
   "cell_type": "code",
   "execution_count": 321,
   "metadata": {},
   "outputs": [
    {
     "name": "stdout",
     "output_type": "stream",
     "text": [
      "Password: password123\n",
      "Your password needs improvement. Strength Meter: *\n",
      "\n",
      "Password: iloveyou\n",
      "Your password needs improvement. Strength Meter: *\n",
      "\n",
      "Password: letmein\n",
      "Your password needs improvement. Strength Meter: *\n",
      "\n",
      "Password: HelloWorld151\n",
      "Your password is strong! Strength Meter: ****\n",
      "\n",
      "Password: adminPassword123\n",
      "Your password is strong! Strength Meter: ****\n",
      "\n",
      "\n"
     ]
    }
   ],
   "source": [
    "for x in range(5):\n",
    "    password = input(\"Enter your password: \")\n",
    "    print(f\"Password: {password}\")\n",
    "    result = validate_password(password)\n",
    "\n",
    "    if result:\n",
    "        print(\"Your password is strong! Strength Meter: ****\\n\")\n",
    "    else:\n",
    "        print(\"Your password needs improvement. Strength Meter: *\\n\")\n",
    "\n",
    "print()"
   ]
  }
 ],
 "metadata": {
  "kernelspec": {
   "display_name": "base",
   "language": "python",
   "name": "python3"
  },
  "language_info": {
   "codemirror_mode": {
    "name": "ipython",
    "version": 3
   },
   "file_extension": ".py",
   "mimetype": "text/x-python",
   "name": "python",
   "nbconvert_exporter": "python",
   "pygments_lexer": "ipython3",
   "version": "3.11.7"
  }
 },
 "nbformat": 4,
 "nbformat_minor": 2
}
