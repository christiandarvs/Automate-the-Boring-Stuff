{
 "cells": [
  {
   "cell_type": "code",
   "execution_count": 42,
   "metadata": {},
   "outputs": [],
   "source": [
    "import re"
   ]
  },
  {
   "cell_type": "code",
   "execution_count": 43,
   "metadata": {},
   "outputs": [],
   "source": [
    "def regex_strip(text, remove_letter=\"\"):\n",
    "    if remove_letter.isalpha():\n",
    "        text = str(text).replace(remove_letter[0], \"\")\n",
    "        return re.sub(r\"^\\s+|\\s+$\", \"\", text)\n",
    "    else:\n",
    "        return re.sub(r\"^\\s+|\\s+$\", \"\", text)"
   ]
  },
  {
   "cell_type": "code",
   "execution_count": 44,
   "metadata": {},
   "outputs": [
    {
     "name": "stdout",
     "output_type": "stream",
     "text": [
      "Text: hello world\n",
      "\n",
      "Modified Text: heo word\n"
     ]
    }
   ],
   "source": [
    "user_text = input(\"Enter a word or sentence: \")\n",
    "print(f\"Text: {user_text}\")\n",
    "while True:\n",
    "    user_choice = input(\n",
    "        f\"Is there a letter that you want to be removed from the word '{user_text}'? [y][n]: \"\n",
    "    ).lower()\n",
    "    if user_choice == \"y\" or user_choice == \"yes\":\n",
    "        letter_to_be_removed = input(\"Enter the letter to be removed: \").lower()\n",
    "        modified_text = regex_strip(user_text, letter_to_be_removed)\n",
    "        print(f\"\\nModified Text: {modified_text}\")\n",
    "        break\n",
    "    elif user_choice == \"n\" or user_choice == \"no\":\n",
    "        modified_text = regex_strip(user_text)\n",
    "        print(f\"\\nModified Text: {modified_text}\")\n",
    "        break\n",
    "    else:\n",
    "        print(\"\\nTry Again.\")"
   ]
  }
 ],
 "metadata": {
  "kernelspec": {
   "display_name": "base",
   "language": "python",
   "name": "python3"
  },
  "language_info": {
   "codemirror_mode": {
    "name": "ipython",
    "version": 3
   },
   "file_extension": ".py",
   "mimetype": "text/x-python",
   "name": "python",
   "nbconvert_exporter": "python",
   "pygments_lexer": "ipython3",
   "version": "3.11.7"
  }
 },
 "nbformat": 4,
 "nbformat_minor": 2
}
