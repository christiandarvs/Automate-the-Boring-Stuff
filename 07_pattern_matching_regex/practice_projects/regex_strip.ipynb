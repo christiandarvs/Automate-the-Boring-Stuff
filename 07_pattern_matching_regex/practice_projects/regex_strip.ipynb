{
 "cells": [
  {
   "cell_type": "code",
   "execution_count": 1,
   "metadata": {},
   "outputs": [],
   "source": [
    "import re"
   ]
  },
  {
   "cell_type": "code",
   "execution_count": 8,
   "metadata": {},
   "outputs": [],
   "source": [
    "def regex_strip(text, remove_letter=None):\n",
    "    if remove_letter:\n",
    "        return re.sub(r\"^\\s+|\\s+$\", \"\", text)"
   ]
  },
  {
   "cell_type": "code",
   "execution_count": 3,
   "metadata": {},
   "outputs": [
    {
     "name": "stdout",
     "output_type": "stream",
     "text": [
      "Text: hello owl\n",
      "Try Again\n",
      "Try Again\n",
      "Try Again\n",
      "Modified Text: hello owl\n"
     ]
    }
   ],
   "source": [
    "user_text = input(\"Enter a word or sentence: \")\n",
    "print(f\"Text: {user_text}\")\n",
    "while True:\n",
    "    user_choice = input(\n",
    "        f\"Is there a letter that you want to be removed from the word '{user_text}'? [y][n]: \"\n",
    "    ).lower()\n",
    "    if user_choice == \"y\" or user_choice == \"yes\":\n",
    "        letter_to_be_removed = input(\"Enter the letter to be removed: \").lower()\n",
    "        modified_text = regex_strip(user_text)\n",
    "        print(f\"Modified Text: {modified_text}\")\n",
    "        break\n",
    "    elif user_choice == \"n\" or user_choice == \"no\":\n",
    "        modified_text = regex_strip(user_text)\n",
    "        print(f\"Modified Text: {modified_text}\")\n",
    "        break\n",
    "    else:\n",
    "        print(\"Try Again\")"
   ]
  },
  {
   "cell_type": "code",
   "execution_count": 10,
   "metadata": {},
   "outputs": [
    {
     "name": "stdout",
     "output_type": "stream",
     "text": [
      "hello     asdsac\n",
      "     hello     asdsac      \n",
      "hello     asdsac\n"
     ]
    }
   ],
   "source": [
    "text = \"     hello     asdsac      \"\n",
    "print(f\"{text.strip()}\")\n",
    "print(text)\n",
    "\n",
    "stripped_text = re.sub(r\"^\\s+|\\s+$\", \"\", text)\n",
    "print(stripped_text)"
   ]
  }
 ],
 "metadata": {
  "kernelspec": {
   "display_name": "base",
   "language": "python",
   "name": "python3"
  },
  "language_info": {
   "codemirror_mode": {
    "name": "ipython",
    "version": 3
   },
   "file_extension": ".py",
   "mimetype": "text/x-python",
   "name": "python",
   "nbconvert_exporter": "python",
   "pygments_lexer": "ipython3",
   "version": "3.11.7"
  }
 },
 "nbformat": 4,
 "nbformat_minor": 2
}
