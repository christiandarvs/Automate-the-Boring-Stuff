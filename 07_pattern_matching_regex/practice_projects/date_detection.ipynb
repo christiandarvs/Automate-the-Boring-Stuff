{
 "cells": [
  {
   "cell_type": "markdown",
   "metadata": {},
   "source": [
    "## Date Detection"
   ]
  },
  {
   "cell_type": "code",
   "execution_count": 1,
   "metadata": {},
   "outputs": [],
   "source": [
    "import re"
   ]
  },
  {
   "cell_type": "code",
   "execution_count": 213,
   "metadata": {},
   "outputs": [
    {
     "name": "stdout",
     "output_type": "stream",
     "text": [
      "Error: Invalid Format\n"
     ]
    }
   ],
   "source": [
    "date_regex = re.compile(r\"(0[1-9]|[12][0-9]|3[01])\\/(0[1-9]|1[1,2])\\/(19|20)\\d{2}\")\n",
    "\n",
    "try:\n",
    "    input_date = input(\"Enter Date [DD/MM/YYYY]: \")\n",
    "    match_object = date_regex.match(str(input_date)).groups()\n",
    "    thirty_dates = [str(day).zfill(2) for day in range(1, 31)]\n",
    "    thirty_one_dates = [str(day).zfill(2) for day in range(1, 32)]\n",
    "    date, month, year = match_object\n",
    "    valid_date = None\n",
    "\n",
    "    if month == \"04\" or month == \"06\" or month == \"09\" or month == \"11\":\n",
    "        if date in thirty_dates:\n",
    "            valid_date = True\n",
    "        else:\n",
    "            valid_date = False\n",
    "    else:\n",
    "        if date in thirty_one_dates:\n",
    "            valid_date = True\n",
    "        else:\n",
    "            valid_date = False\n",
    "\n",
    "    if valid_date:\n",
    "        print(f\"\\nYou entered a correct date.\")\n",
    "    else:\n",
    "        print(\"You entered a wrong date.\")\n",
    "\n",
    "    # match month:\n",
    "    #     case '04' | '06' | '09' | '11':\n",
    "    #         print()\n",
    "\n",
    "except AttributeError as AE:\n",
    "    print(f\"Error: Invalid Format\")"
   ]
  },
  {
   "cell_type": "code",
   "execution_count": 210,
   "metadata": {},
   "outputs": [
    {
     "name": "stdout",
     "output_type": "stream",
     "text": [
      "['01', '02', '03', '04', '05', '06', '07', '08', '09', '10', '11', '12', '13', '14', '15', '16', '17', '18', '19', '20', '21', '22', '23', '24', '25', '26', '27', '28', '29', '30', '31']\n"
     ]
    }
   ],
   "source": [
    "dates = [str(day).zfill(2) for day in range(1, 32)]\n",
    "print(dates)"
   ]
  }
 ],
 "metadata": {
  "kernelspec": {
   "display_name": "base",
   "language": "python",
   "name": "python3"
  },
  "language_info": {
   "codemirror_mode": {
    "name": "ipython",
    "version": 3
   },
   "file_extension": ".py",
   "mimetype": "text/x-python",
   "name": "python",
   "nbconvert_exporter": "python",
   "pygments_lexer": "ipython3",
   "version": "3.11.7"
  }
 },
 "nbformat": 4,
 "nbformat_minor": 2
}
