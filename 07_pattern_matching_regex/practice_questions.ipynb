{
 "cells": [
  {
   "cell_type": "markdown",
   "metadata": {},
   "source": [
    "1. What is the function that creates RegEx objects?\n",
    "\n",
    "- **Answer:** ``re.compile()``"
   ]
  },
  {
   "cell_type": "markdown",
   "metadata": {},
   "source": [
    "2. Why are raw strings often used when creating Regex objects?\n",
    "\n",
    "- **Answer:** RegEx uses special/escape characters in creating constraints."
   ]
  },
  {
   "cell_type": "markdown",
   "metadata": {},
   "source": [
    "3. What does the ``search()`` method return?\n",
    "\n",
    "- **Answer:** The ``search()`` method returns a Match object that contains the matched text from the searched string."
   ]
  },
  {
   "cell_type": "markdown",
   "metadata": {},
   "source": [
    "4. How do you get the actual strings that match the pattern from a Match object?\n",
    "\n",
    "- **Answer:** You need to use the ``.group()`` in order to return the matched text."
   ]
  },
  {
   "cell_type": "markdown",
   "metadata": {},
   "source": [
    "5. In the regex created from ``r'(\\d\\d\\d)-(\\d\\d\\d-\\d\\d\\d\\d)'``, what does group 0 cover? Group 1? Group 2?\n",
    "\n",
    "- **Answer:** The **group(0)** covers the whole searched text. The **group(1)** covers the 1st parenthesis. The **group(2)** covers the 2nd/last parathesis. "
   ]
  },
  {
   "cell_type": "markdown",
   "metadata": {},
   "source": [
    "6. Parentheses and periods have specific meanings in regular expression syntax. How would you specify that\n",
    "you want a regex to match actual parentheses and period characters?\n",
    "\n",
    "- **Answer:** ``\\()`` and ``\\.``"
   ]
  },
  {
   "cell_type": "markdown",
   "metadata": {},
   "source": [
    "7. The ``findall()`` method returns a list of strings or a list of tuples of strings. What makes it return one or\n",
    "the other?\n",
    "\n",
    "- **Answer:** Because it returns the strings of every match text in the searched string."
   ]
  },
  {
   "cell_type": "markdown",
   "metadata": {},
   "source": [
    "8. What does the ``|`` character signify in regular expressions?\n",
    "\n",
    "- **Answer:** The pipe or OR character specifies that it can match one of many expressions. Usually, there are set of optional words to search."
   ]
  },
  {
   "cell_type": "markdown",
   "metadata": {},
   "source": [
    "9. What two things does the ``?`` character signify in regular expressions?\n",
    "\n",
    "- **Answer:** It declares a non-greedy match or flagging an optional group."
   ]
  },
  {
   "cell_type": "markdown",
   "metadata": {},
   "source": [
    "10. What is the difference between the + and * characters in regular expressions?\n",
    "\n",
    "- **Answer:** The ``+`` character specifies that there must be **one or more matches**. Meanwhile, the ``*`` character specifies that there can be **zero or more matches**."
   ]
  },
  {
   "cell_type": "markdown",
   "metadata": {},
   "source": [
    "11. What is the difference between {3} and {3,5} in regular expressions?\n",
    "\n",
    "- **Answer:** The ``{3}`` will only return **3** occurences of the matched pattern. The ``{3, 5}`` will return **3 to 5** occurences of the matched pattern. The 3 is the minimum and 5 is the maximum set of instances."
   ]
  },
  {
   "cell_type": "markdown",
   "metadata": {},
   "source": [
    "12. What do the \\d, \\w, and \\s shorthand character classes signify in regular expressions?\n",
    "\n",
    "- **Answer:** The ``\\d`` represents numeric digit from **0 to 9**. The ``\\w`` represents any characters such as: **letter, numeric digit, and underscore**. The ``\\s`` represents any character that is n**ot a space, tab, and newline**."
   ]
  },
  {
   "cell_type": "markdown",
   "metadata": {},
   "source": [
    "13. What do the ``\\D``, ``\\W``, and ``\\S`` shorthand character classes signify in regular expressions?\n",
    "\n",
    "- **Answer:** The ``\\D`` represents character that are **not numeric digits** from 0 to 9. The ``\\W`` represents any character that is **not** a: letter, numeric digit, and underscore. The ``\\S`` represents any character that is **not** a space, tab, and newline."
   ]
  },
  {
   "cell_type": "markdown",
   "metadata": {},
   "source": [
    "14. What is the difference between ``.*`` and ``.*?``?\n",
    "\n",
    "- **Answer:** Greedy and Non-Greedy Matching"
   ]
  },
  {
   "cell_type": "markdown",
   "metadata": {},
   "source": [
    "15. What is the character class syntax to match all numbers and lowercase letters?\n",
    "\n",
    "- **Answer:** ``re.``"
   ]
  },
  {
   "cell_type": "markdown",
   "metadata": {},
   "source": [
    "16. How do you make a regular expression case-insensitive?\n",
    "\n",
    "- **Answer:** ``re.IGNORECASE``"
   ]
  },
  {
   "cell_type": "markdown",
   "metadata": {},
   "source": [
    "17. What does the . character normally match? What does it match if ``re.DOTALL`` is passed as the second argument to ``re.compile()``?\n",
    "\n",
    "- **Answer:** Match all the characters, including the newline"
   ]
  },
  {
   "cell_type": "markdown",
   "metadata": {},
   "source": [
    "18. If numRegex = re.compile(r'\\d+'), what will numRegex.sub('X', '12 drummers, 11 pipers, five rings, 3 hens')\n",
    "return?"
   ]
  },
  {
   "cell_type": "code",
   "execution_count": 179,
   "metadata": {},
   "outputs": [
    {
     "name": "stdout",
     "output_type": "stream",
     "text": [
      "X Drummers, X Pipers, five rings, X Hens\n"
     ]
    }
   ],
   "source": [
    "import re\n",
    "\n",
    "number_regex = re.compile(r\"\\d+\")\n",
    "number_match_object = number_regex.sub(\n",
    "    \"X\", \"12 Drummers, 11 Pipers, five rings, 4 Hens\"\n",
    ")\n",
    "print(number_match_object)"
   ]
  },
  {
   "cell_type": "markdown",
   "metadata": {},
   "source": [
    "19. What does passing ``re.VERBOSE`` as the second argument to ``re.compile()`` allow you to do?\n",
    "\n",
    "**Answer**: The whitespaces and comments are ignored."
   ]
  },
  {
   "cell_type": "markdown",
   "metadata": {},
   "source": [
    "20. How would you write a regex that matches a number with commas for every three digits?"
   ]
  },
  {
   "cell_type": "code",
   "execution_count": 180,
   "metadata": {},
   "outputs": [
    {
     "name": "stdout",
     "output_type": "stream",
     "text": [
      "Valid Numbers: 42 | 1,234 | 6,368,745\n",
      "123\n"
     ]
    }
   ],
   "source": [
    "number_commas_regex = re.compile(r\"(\\d{1,3})(\\,)?(\\d{3})?(\\,)?(\\d{3})?\")\n",
    "\n",
    "valid_number = number_commas_regex.search(\"42\").group()\n",
    "valid_number2 = number_commas_regex.search(\"1,234\").group()\n",
    "valid_number3 = number_commas_regex.search(\"6,368,745\").group()\n",
    "\n",
    "print(f\"Valid Numbers: {valid_number} | {valid_number2} | {valid_number3}\")\n",
    "\n",
    "invalid_number = number_commas_regex.search(\"1234\").group()\n",
    "print(invalid_number)\n",
    "\n",
    "# TODO: FIX CODE"
   ]
  },
  {
   "cell_type": "markdown",
   "metadata": {},
   "source": [
    "21. How would you write a regex that matches the full name of someone whose last name is Watanabe? You\n",
    "can assume that the first name that comes before it will always be one word that begins with a capital\n",
    "letter."
   ]
  },
  {
   "cell_type": "code",
   "execution_count": 250,
   "metadata": {},
   "outputs": [
    {
     "name": "stdout",
     "output_type": "stream",
     "text": [
      "Haruto Watanabe\n",
      "Alice Watanabe\n",
      "RoboCop Watanabe\n",
      "\n",
      "Error: 'NoneType' object has no attribute 'group'\n",
      "Error: 'NoneType' object has no attribute 'group'\n",
      "Error: 'NoneType' object has no attribute 'group'\n",
      "Error: 'NoneType' object has no attribute 'group'\n"
     ]
    }
   ],
   "source": [
    "name_regex = re.compile(r\"([A-Z][A-z]*) (Watanabe)\")\n",
    "\n",
    "first_name = name_regex.search(\"Haruto Watanabe\").group()\n",
    "second_name = name_regex.search(\"Alice Watanabe\").group()\n",
    "third_name = name_regex.search(\"RoboCop Watanabe\").group()\n",
    "\n",
    "print(first_name)\n",
    "print(second_name)\n",
    "print(third_name)\n",
    "\n",
    "try:\n",
    "    print(name_regex.search(\"haruto Watanabe\").group())\n",
    "except AttributeError as AE:\n",
    "    print(f\"\\nError: {AE}\")\n",
    "\n",
    "try:\n",
    "    print(name_regex.search(\"Mr. Watanabe\").group())\n",
    "except AttributeError as AE:\n",
    "    print(f\"Error: {AE}\")\n",
    "\n",
    "try:\n",
    "    print(name_regex.search(\"Watanabe\").group())\n",
    "except AttributeError as AE:\n",
    "    print(f\"Error: {AE}\")\n",
    "\n",
    "try:\n",
    "    print(name_regex.search(\"Haruto watanabe\").group())\n",
    "except AttributeError as AE:\n",
    "    print(f\"Error: {AE}\")"
   ]
  },
  {
   "cell_type": "markdown",
   "metadata": {},
   "source": [
    "22. How would you write a regex that matches a sentence where the first word is either Alice, Bob, or Carol;\n",
    "the second word is either eats, pets, or throws; the third word is apples, cats, or baseballs; and the sentence\n",
    "ends with a period? This regex should be case-insensitive."
   ]
  },
  {
   "cell_type": "code",
   "execution_count": 271,
   "metadata": {},
   "outputs": [
    {
     "name": "stdout",
     "output_type": "stream",
     "text": [
      "Alice eats apples.\n",
      "Bob pets cats.\n",
      "Carol throws baseballs.\n",
      "Alice throws apples.\n",
      "BOB EATS CATS.\n",
      "\n",
      "Error: 'NoneType' object has no attribute 'group'\n",
      "Error: 'NoneType' object has no attribute 'group'\n",
      "Error: 'NoneType' object has no attribute 'group'\n"
     ]
    }
   ],
   "source": [
    "sentence_regex = re.compile(\n",
    "    r\"(Alice|Bob|Carol) (eats|pets|throws) (apples|cats|baseballs)(\\.)\", re.IGNORECASE\n",
    ")\n",
    "\n",
    "first_sentence = sentence_regex.search(\"Alice eats apples.\").group()\n",
    "second_sentence = sentence_regex.search(\"Bob pets cats.\").group()\n",
    "third_sentence = sentence_regex.search(\"Carol throws baseballs.\").group()\n",
    "fourth_sentence = sentence_regex.search(\"Alice throws apples.\").group()\n",
    "fifth_sentence = sentence_regex.search(\"BOB EATS CATS.\").group()\n",
    "\n",
    "print(first_sentence)\n",
    "print(second_sentence)\n",
    "print(third_sentence)\n",
    "print(fourth_sentence)\n",
    "print(fifth_sentence)\n",
    "\n",
    "try:\n",
    "    print(sentence_regex.search(\"RoboCop eats apples.\").group())\n",
    "except AttributeError as AE:\n",
    "    print(f\"\\nError: {AE}\")\n",
    "\n",
    "try:\n",
    "    print(sentence_regex.search(\"ALICE THROWS FOOTBALLS.\").group())\n",
    "except AttributeError as AE:\n",
    "    print(f\"Error: {AE}\")\n",
    "\n",
    "try:\n",
    "    print(sentence_regex.search(\"Carol eats 7 cats.\").group())\n",
    "except AttributeError as AE:\n",
    "    print(f\"Error: {AE}\")"
   ]
  }
 ],
 "metadata": {
  "kernelspec": {
   "display_name": "base",
   "language": "python",
   "name": "python3"
  },
  "language_info": {
   "codemirror_mode": {
    "name": "ipython",
    "version": 3
   },
   "file_extension": ".py",
   "mimetype": "text/x-python",
   "name": "python",
   "nbconvert_exporter": "python",
   "pygments_lexer": "ipython3",
   "version": "3.11.7"
  }
 },
 "nbformat": 4,
 "nbformat_minor": 2
}
