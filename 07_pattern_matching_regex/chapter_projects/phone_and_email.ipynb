{
 "cells": [
  {
   "cell_type": "markdown",
   "metadata": {},
   "source": [
    "## Phone Number and Email Address Extractor"
   ]
  },
  {
   "cell_type": "code",
   "execution_count": 101,
   "metadata": {},
   "outputs": [
    {
     "name": "stdout",
     "output_type": "stream",
     "text": [
      "Copied to clipboard:\n",
      "\n",
      "800-420-7240\n",
      "415-863-9900\n",
      "415-863-9950\n",
      "info@nostarch.com\n",
      "media@nostarch.com\n",
      "academic@nostarch.com\n",
      "info@nostarch.com\n"
     ]
    }
   ],
   "source": [
    "import re, pyperclip\n",
    "\n",
    "phone_number_regex = re.compile(\n",
    "    r\"\"\"(\n",
    "(\\d{3}|\\(\\d{3}\\))? # area code\n",
    "(\\s|-|\\.)? # separator\n",
    "(\\d{3}) # first 3 digits\n",
    "(\\s|-|\\.) # separator\n",
    "(\\d{4}) # last 4 digits\n",
    "(\\s*(ext|x|ext.)\\s*(\\d{2,5}))? # extension\n",
    ")\"\"\",\n",
    "    re.VERBOSE,\n",
    ")\n",
    "\n",
    "email_address_regex = re.compile(\n",
    "    r\"([A-Z0-9._%+-]+@[A-Z0-9-]+(\\.[A-Z]{2,4}))\", re.IGNORECASE\n",
    ")\n",
    "\n",
    "text = str(pyperclip.paste())\n",
    "\n",
    "matches = []\n",
    "for groups in phone_number_regex.findall(text):\n",
    "    phone_number = \"-\".join([groups[1], groups[3], groups[5]])\n",
    "    matches.append(phone_number)\n",
    "\n",
    "for groups in email_address_regex.findall(text):\n",
    "    matches.append(groups[0])\n",
    "\n",
    "if len(matches) > 0:\n",
    "    pyperclip.copy(\"\\n\".join(matches))\n",
    "    print(\"Copied to clipboard:\\n\")\n",
    "    print(\"\\n\".join(matches))\n",
    "else:\n",
    "    print(\"No phone numbers or email addresses found.\")"
   ]
  }
 ],
 "metadata": {
  "kernelspec": {
   "display_name": "base",
   "language": "python",
   "name": "python3"
  },
  "language_info": {
   "codemirror_mode": {
    "name": "ipython",
    "version": 3
   },
   "file_extension": ".py",
   "mimetype": "text/x-python",
   "name": "python",
   "nbconvert_exporter": "python",
   "pygments_lexer": "ipython3",
   "version": "3.11.7"
  }
 },
 "nbformat": 4,
 "nbformat_minor": 2
}
