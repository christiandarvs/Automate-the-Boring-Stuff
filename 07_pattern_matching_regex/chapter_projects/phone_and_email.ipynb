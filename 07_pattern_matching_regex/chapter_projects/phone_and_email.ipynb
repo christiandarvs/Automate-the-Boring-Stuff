{
 "cells": [
  {
   "cell_type": "markdown",
   "metadata": {},
   "source": [
    "## Phone Number and Email Address Extractor"
   ]
  },
  {
   "cell_type": "code",
   "execution_count": 39,
   "metadata": {},
   "outputs": [
    {
     "name": "stdout",
     "output_type": "stream",
     "text": [
      "['', '']\n"
     ]
    }
   ],
   "source": [
    "import re, pyperclip\n",
    "\n",
    "phone_number_regex = re.compile(\n",
    "    r\"\"\"(\n",
    "(\\d{3}|\\(\\d{3}\\))?  # area code\n",
    "(\\s|-|\\.)?          # separator\n",
    "\\d{3}               # first 3 digits\n",
    "(\\s|-|\\.)           # separator\n",
    "\\d{4}               # last 4 digits\n",
    "(\\s*(ext|x|ext.)\\s*\\d{2,5})? # extension\n",
    ")\"\"\",\n",
    "    re.VERBOSE,\n",
    ")"
   ]
  }
 ],
 "metadata": {
  "kernelspec": {
   "display_name": "base",
   "language": "python",
   "name": "python3"
  },
  "language_info": {
   "codemirror_mode": {
    "name": "ipython",
    "version": 3
   },
   "file_extension": ".py",
   "mimetype": "text/x-python",
   "name": "python",
   "nbconvert_exporter": "python",
   "pygments_lexer": "ipython3",
   "version": "3.11.7"
  }
 },
 "nbformat": 4,
 "nbformat_minor": 2
}
