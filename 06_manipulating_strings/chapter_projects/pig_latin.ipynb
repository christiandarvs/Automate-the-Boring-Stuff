{
 "cells": [
  {
   "cell_type": "markdown",
   "metadata": {},
   "source": [
    "## Pig Latin"
   ]
  },
  {
   "cell_type": "code",
   "execution_count": 25,
   "metadata": {},
   "outputs": [
    {
     "name": "stdout",
     "output_type": "stream",
     "text": [
      "Pig Latin List: ['Ythonpay', 'Ogrammingpray']\n",
      "Before: Python Programming\n",
      "After: Ythonpay Ogrammingpray\n",
      "\n",
      "Pig Latin List: ['ellohay', 'orldway']\n",
      "Before: hello world\n",
      "After: ellohay orldway\n",
      "\n"
     ]
    }
   ],
   "source": [
    "for i in range(2):\n",
    "    english_message = input(\"Enter the English message to translate into Pig Latin: \")\n",
    "\n",
    "    VOWELS = [\"a\", \"e\", \"i\", \"o\", \"u\", \"y\"]\n",
    "\n",
    "    pig_latin = []\n",
    "\n",
    "    for word in english_message.split():\n",
    "        # Separate the non-letters at the start of the word\n",
    "        prefix_non_letters = \"\"\n",
    "        while len(word) > 0 and not word[0].isalpha():\n",
    "            prefix_non_letters += word[0]\n",
    "            word = word[1:]\n",
    "        if len(word) == 0:\n",
    "            pig_latin.append(prefix_non_letters)\n",
    "            continue\n",
    "\n",
    "        # Separate the non-letters at the end of the word\n",
    "        suffix_non_letters = \"\"\n",
    "        while not word[-1].isalpha():\n",
    "            suffix_non_letters += word[-1]\n",
    "            word = word[:1]\n",
    "\n",
    "        was_upper = word.isupper()\n",
    "        was_title = word.istitle()\n",
    "\n",
    "        word = word.lower()\n",
    "\n",
    "        # Separate the consonants at the start of the word\n",
    "        prefix_consonants = \"\"\n",
    "        while len(word) > 0 and not word[0] in VOWELS:\n",
    "            prefix_consonants += word[0]\n",
    "            word = word[1:]\n",
    "\n",
    "        # Add the Pig Latin ending to the word\n",
    "        if prefix_consonants != \"\":\n",
    "            word += prefix_consonants + \"ay\"\n",
    "        else:\n",
    "            word += \"yay\"\n",
    "\n",
    "        if was_upper:\n",
    "            word = word.upper()\n",
    "\n",
    "        if was_title:\n",
    "            word = word.title()\n",
    "\n",
    "        pig_latin.append(prefix_non_letters + word + suffix_non_letters)\n",
    "\n",
    "    print(f\"Pig Latin List: {pig_latin}\")\n",
    "    print(f\"Before: {english_message}\")\n",
    "    print(f\"After: {' '.join(pig_latin)}\\n\")"
   ]
  }
 ],
 "metadata": {
  "kernelspec": {
   "display_name": "base",
   "language": "python",
   "name": "python3"
  },
  "language_info": {
   "codemirror_mode": {
    "name": "ipython",
    "version": 3
   },
   "file_extension": ".py",
   "mimetype": "text/x-python",
   "name": "python",
   "nbconvert_exporter": "python",
   "pygments_lexer": "ipython3",
   "version": "3.11.7"
  }
 },
 "nbformat": 4,
 "nbformat_minor": 2
}
