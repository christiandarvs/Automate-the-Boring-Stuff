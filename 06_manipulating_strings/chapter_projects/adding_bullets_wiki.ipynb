{
 "cells": [
  {
   "cell_type": "markdown",
   "metadata": {},
   "source": [
    "## Adding Bullets to Wiki Markup"
   ]
  },
  {
   "cell_type": "code",
   "execution_count": 62,
   "metadata": {},
   "outputs": [
    {
     "name": "stdout",
     "output_type": "stream",
     "text": [
      "Before: \n",
      "Lists of animals\n",
      "Lists of aquarium life\n",
      "Lists of biologists by author abbreviation\n",
      "Lists of cultivars\n",
      "\n",
      "After: \n",
      "* Lists of animals\n",
      "* Lists of aquarium life\n",
      "* Lists of biologists by author abbreviation\n",
      "* Lists of cultivars\n"
     ]
    }
   ],
   "source": [
    "import pyperclip\n",
    "\n",
    "text = pyperclip.paste()\n",
    "print(f\"Before: \\n{text}\")\n",
    "\n",
    "lines = text.split(\"\\n\")\n",
    "for i in range(len(lines)):\n",
    "    lines[i] = f\"* {lines[i]}\"\n",
    "\n",
    "text = \"\\n\".join(lines)\n",
    "print(f\"\\nAfter: \\n{text}\")\n",
    "\n",
    "pyperclip.copy(text)"
   ]
  }
 ],
 "metadata": {
  "kernelspec": {
   "display_name": "base",
   "language": "python",
   "name": "python3"
  },
  "language_info": {
   "codemirror_mode": {
    "name": "ipython",
    "version": 3
   },
   "file_extension": ".py",
   "mimetype": "text/x-python",
   "name": "python",
   "nbconvert_exporter": "python",
   "pygments_lexer": "ipython3",
   "version": "3.11.7"
  }
 },
 "nbformat": 4,
 "nbformat_minor": 2
}
