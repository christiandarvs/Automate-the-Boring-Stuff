{
 "cells": [
  {
   "cell_type": "markdown",
   "metadata": {},
   "source": [
    "## Table Printer"
   ]
  },
  {
   "cell_type": "code",
   "execution_count": null,
   "metadata": {},
   "outputs": [],
   "source": [
    "def print_table(list):\n",
    "    pass\n",
    "\n",
    "\n",
    "table_data = [\n",
    "    [\"apples\", \"oranges\", \"cheries\", \"banana\"],\n",
    "    [\"Alice\", \"Bob\", \"Carol\", \"David\"],\n",
    "    [\"dogs\", \"cats\", \"moose\", \"goose\"],\n",
    "]"
   ]
  }
 ],
 "metadata": {
  "kernelspec": {
   "display_name": "base",
   "language": "python",
   "name": "python3"
  },
  "language_info": {
   "name": "python",
   "version": "3.11.7"
  }
 },
 "nbformat": 4,
 "nbformat_minor": 2
}
