{
 "cells": [
  {
   "cell_type": "markdown",
   "metadata": {},
   "source": [
    "## Table Printer"
   ]
  },
  {
   "cell_type": "code",
   "execution_count": 3,
   "metadata": {},
   "outputs": [
    {
     "name": "stdout",
     "output_type": "stream",
     "text": [
      " apples  Alice   dogs\n",
      "oranges    Bob   cats\n",
      "cheries  Carol  moose\n",
      " banana  David  goose\n"
     ]
    }
   ],
   "source": [
    "def print_table(data_list):\n",
    "    max_length = 0\n",
    "    for item in data_list:\n",
    "        for i in item:\n",
    "            if len(i) > max_length:\n",
    "                max_length = len(i)\n",
    "\n",
    "    for x in range(len(data_list[0])):\n",
    "        for y in range(len(data_list)):\n",
    "            print(data_list[y][x].rjust(max_length), end=\"\")\n",
    "        print()\n",
    "\n",
    "\n",
    "table_data = [\n",
    "    [\"apples\", \"oranges\", \"cheries\", \"banana\"],\n",
    "    [\"Alice\", \"Bob\", \"Carol\", \"David\"],\n",
    "    [\"dogs\", \"cats\", \"moose\", \"goose\"],\n",
    "]\n",
    "print_table(table_data)"
   ]
  },
  {
   "cell_type": "markdown",
   "metadata": {},
   "source": [
    "## Zombie Dice Bots"
   ]
  },
  {
   "cell_type": "code",
   "execution_count": 4,
   "metadata": {},
   "outputs": [],
   "source": [
    "# %pip install zombiedice"
   ]
  },
  {
   "cell_type": "code",
   "execution_count": 11,
   "metadata": {},
   "outputs": [
    {
     "name": "stdout",
     "output_type": "stream",
     "text": [
      "Tournament of 1000 games started...\n",
      "Tournament results:\n",
      "Wins:\n",
      "    Stop at 2 Shotguns  413\n",
      "         Until Leading  210\n",
      "     Stop at 1 Shotgun  156\n",
      "         My Zombie Bot  123\n",
      "                Random   80\n",
      "Ties:\n",
      "     Stop at 1 Shotgun   11\n",
      "         My Zombie Bot    8\n",
      "         Until Leading    7\n",
      "                Random    5\n",
      "    Stop at 2 Shotguns    5\n"
     ]
    }
   ],
   "source": [
    "import zombiedice\n",
    "\n",
    "\n",
    "class MyZombie:\n",
    "    def __init__(self, name):\n",
    "        self.name = name\n",
    "\n",
    "    def turn(self, gameState):\n",
    "        # gameState is a dict with info about the current state of the game.\n",
    "        # You can choose to ignore it in your code.\n",
    "        diceRollResults = zombiedice.roll()  # first roll\n",
    "        # roll() returns a dictionary with keys 'brains', 'shotgun', and\n",
    "        # 'footsteps' with how many rolls of each type there were.\n",
    "        # The 'rolls' key is a list of (color, icon) tuples with the\n",
    "        # exact roll result information.\n",
    "        # Example of a roll() return value:\n",
    "        # {'brains': 1, 'footsteps': 1, 'shotgun': 1,\n",
    "        # 'rolls': [('yellow', 'brains'), ('red', 'footsteps'),\n",
    "        # ('green', 'shotgun')]}\n",
    "        # REPLACE THIS ZOMBIE CODE WITH YOUR OWN:\n",
    "\n",
    "        brains = 0\n",
    "        while diceRollResults is not None:\n",
    "            brains += diceRollResults[\"brains\"]\n",
    "            if brains < 2:\n",
    "                diceRollResults = zombiedice.roll()  # roll again\n",
    "            else:\n",
    "                break\n",
    "\n",
    "\n",
    "zombies = (\n",
    "    zombiedice.examples.RandomCoinFlipZombie(name=\"Random\"),\n",
    "    zombiedice.examples.RollsUntilInTheLeadZombie(name=\"Until Leading\"),\n",
    "    zombiedice.examples.MinNumShotgunsThenStopsZombie(\n",
    "        name=\"Stop at 2 Shotguns\", minShotguns=2\n",
    "    ),\n",
    "    zombiedice.examples.MinNumShotgunsThenStopsZombie(\n",
    "        name=\"Stop at 1 Shotgun\", minShotguns=1\n",
    "    ),\n",
    "    MyZombie(name=\"My Zombie Bot\"),\n",
    "    # Add any other zombie players here.\n",
    ")\n",
    "\n",
    "zombiedice.runTournament(zombies=zombies, numGames=1000)\n",
    "# zombiedice.runWebGui(zombies=zombies, numGames=1000)"
   ]
  }
 ],
 "metadata": {
  "kernelspec": {
   "display_name": "base",
   "language": "python",
   "name": "python3"
  },
  "language_info": {
   "codemirror_mode": {
    "name": "ipython",
    "version": 3
   },
   "file_extension": ".py",
   "mimetype": "text/x-python",
   "name": "python",
   "nbconvert_exporter": "python",
   "pygments_lexer": "ipython3",
   "version": "3.11.7"
  }
 },
 "nbformat": 4,
 "nbformat_minor": 2
}
