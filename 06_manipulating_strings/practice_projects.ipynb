{
 "cells": [
  {
   "cell_type": "markdown",
   "metadata": {},
   "source": [
    "## Table Printer"
   ]
  },
  {
   "cell_type": "code",
   "execution_count": 81,
   "metadata": {},
   "outputs": [
    {
     "name": "stdout",
     "output_type": "stream",
     "text": [
      " apples  Alice   dogs\n",
      "oranges    Bob   cats\n",
      "cheries  Carol  moose\n",
      " banana  David  goose\n"
     ]
    }
   ],
   "source": [
    "def print_table(data_list):\n",
    "    max_length = 0\n",
    "    for item in data_list:\n",
    "        for i in item:\n",
    "            if len(i) > max_length:\n",
    "                max_length = len(i)\n",
    "\n",
    "    for x in range(len(data_list[0])):\n",
    "        for y in range(len(data_list)):\n",
    "            print(data_list[y][x].rjust(max_length), end=\"\")\n",
    "        print()\n",
    "\n",
    "\n",
    "table_data = [\n",
    "    [\"apples\", \"oranges\", \"cheries\", \"banana\"],\n",
    "    [\"Alice\", \"Bob\", \"Carol\", \"David\"],\n",
    "    [\"dogs\", \"cats\", \"moose\", \"goose\"],\n",
    "]\n",
    "print_table(table_data)"
   ]
  }
 ],
 "metadata": {
  "kernelspec": {
   "display_name": "base",
   "language": "python",
   "name": "python3"
  },
  "language_info": {
   "codemirror_mode": {
    "name": "ipython",
    "version": 3
   },
   "file_extension": ".py",
   "mimetype": "text/x-python",
   "name": "python",
   "nbconvert_exporter": "python",
   "pygments_lexer": "ipython3",
   "version": "3.11.7"
  }
 },
 "nbformat": 4,
 "nbformat_minor": 2
}
