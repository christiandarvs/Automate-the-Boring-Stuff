{
 "cells": [
  {
   "cell_type": "markdown",
   "metadata": {},
   "source": [
    "## Table Printer"
   ]
  },
  {
   "cell_type": "code",
   "execution_count": 97,
   "metadata": {},
   "outputs": [
    {
     "ename": "TypeError",
     "evalue": "'NoneType' object cannot be interpreted as an integer",
     "output_type": "error",
     "traceback": [
      "\u001b[1;31m---------------------------------------------------------------------------\u001b[0m",
      "\u001b[1;31mTypeError\u001b[0m                                 Traceback (most recent call last)",
      "Cell \u001b[1;32mIn[97], line 30\u001b[0m\n\u001b[0;32m     28\u001b[0m         elements_length\u001b[38;5;241m.\u001b[39mappend(\u001b[38;5;28mlen\u001b[39m(table_data[x][y]))\n\u001b[0;32m     29\u001b[0m         cc \u001b[38;5;241m=\u001b[39m max_length\u001b[38;5;241m.\u001b[39mappend(\u001b[38;5;28mmax\u001b[39m(elements_length))\n\u001b[1;32m---> 30\u001b[0m         \u001b[38;5;28mprint\u001b[39m(\u001b[43mtable_data\u001b[49m\u001b[43m[\u001b[49m\u001b[43mx\u001b[49m\u001b[43m]\u001b[49m\u001b[43m[\u001b[49m\u001b[43my\u001b[49m\u001b[43m]\u001b[49m\u001b[38;5;241;43m.\u001b[39;49m\u001b[43mrjust\u001b[49m\u001b[43m(\u001b[49m\u001b[43mcc\u001b[49m\u001b[43m)\u001b[49m, end\u001b[38;5;241m=\u001b[39m\u001b[38;5;124m\"\u001b[39m\u001b[38;5;124m \u001b[39m\u001b[38;5;124m\"\u001b[39m)\n\u001b[0;32m     31\u001b[0m     \u001b[38;5;28mprint\u001b[39m()\n\u001b[0;32m     33\u001b[0m \u001b[38;5;66;03m# print(max_length)\u001b[39;00m\n\u001b[0;32m     34\u001b[0m \n\u001b[0;32m     35\u001b[0m \u001b[38;5;66;03m# for tt in range(len(table_data)):\u001b[39;00m\n\u001b[1;32m   (...)\u001b[0m\n\u001b[0;32m     62\u001b[0m \u001b[38;5;66;03m#             None\u001b[39;00m\n\u001b[0;32m     63\u001b[0m \u001b[38;5;66;03m#     print()\u001b[39;00m\n",
      "\u001b[1;31mTypeError\u001b[0m: 'NoneType' object cannot be interpreted as an integer"
     ]
    }
   ],
   "source": [
    "import pprint\n",
    "\n",
    "max_length = []\n",
    "\n",
    "\n",
    "# def print_table(list):\n",
    "#     elements_length = []\n",
    "#     col_widths = [0] * len(list)\n",
    "#     for x in range(len(list)):\n",
    "#         print(f\"{col_widths[x]} {list[x]}\")\n",
    "#         for y in range(len(list)):\n",
    "#             elements_length.append(len(list[x][y]))\n",
    "#     print(elements_length)\n",
    "\n",
    "\n",
    "table_data = [\n",
    "    [\"apples\", \"oranges\", \"cheries\", \"banana\"],\n",
    "    [\"Alice\", \"Bob\", \"Carol\", \"David\"],\n",
    "    [\"dogs\", \"cats\", \"moose\", \"goose\"],\n",
    "]\n",
    "\n",
    "column_width = 0\n",
    "elements_length = []\n",
    "\n",
    "for x in range(len(table_data)):\n",
    "    for y in range(len(table_data[0])):\n",
    "        max_length = []\n",
    "        elements_length.append(len(table_data[x][y]))\n",
    "        cc = max_length.append(max(elements_length))\n",
    "        print(table_data[x][y].rjust(cc), end=\" \")\n",
    "    print()\n",
    "\n",
    "# print(max_length)\n",
    "\n",
    "# for tt in range(len(table_data)):\n",
    "#     print(table_data[tt])\n",
    "\n",
    "# print_table(table_data)\n",
    "\n",
    "\n",
    "# def gg(sasda):\n",
    "#     max_length = 0\n",
    "#     for item in sasda:\n",
    "#         for i in item:\n",
    "#             if len(i) > max_length:\n",
    "#                 max_length = len(i)\n",
    "#             print(i)\n",
    "\n",
    "\n",
    "# gg(table_data)\n",
    "\n",
    "# max_length = 0\n",
    "# column_width = 0\n",
    "# for x in range(len(table_data)):\n",
    "#     el_length = 0\n",
    "#     for y in range(len(table_data[0])):\n",
    "#         print(table_data[x][y].rjust(max_length), end=\" \")\n",
    "#         el_length = len(table_data[x][y])\n",
    "#         if el_length > max_length:\n",
    "#             max_length = el_length\n",
    "#         else:\n",
    "#             None\n",
    "#     print()"
   ]
  }
 ],
 "metadata": {
  "kernelspec": {
   "display_name": "base",
   "language": "python",
   "name": "python3"
  },
  "language_info": {
   "codemirror_mode": {
    "name": "ipython",
    "version": 3
   },
   "file_extension": ".py",
   "mimetype": "text/x-python",
   "name": "python",
   "nbconvert_exporter": "python",
   "pygments_lexer": "ipython3",
   "version": "3.11.7"
  }
 },
 "nbformat": 4,
 "nbformat_minor": 2
}
