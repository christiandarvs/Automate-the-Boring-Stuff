{
 "cells": [
  {
   "cell_type": "markdown",
   "metadata": {},
   "source": [
    "## Table Printer"
   ]
  },
  {
   "cell_type": "code",
   "execution_count": 77,
   "metadata": {},
   "outputs": [
    {
     "name": "stdout",
     "output_type": "stream",
     "text": [
      "apples\n",
      "oranges\n",
      "cheries\n",
      "banana\n",
      "\n",
      "Alice\n",
      "Bob\n",
      "Carol\n",
      "David\n",
      "\n",
      "dogs\n",
      "cats\n",
      "moose\n",
      "goose\n",
      "\n",
      "0 ['apples', 'oranges', 'cheries', 'banana']\n",
      "0 ['Alice', 'Bob', 'Carol', 'David']\n",
      "0 ['dogs', 'cats', 'moose', 'goose']\n",
      "[6, 7, 7, 5, 3, 5, 4, 4, 5]\n"
     ]
    }
   ],
   "source": [
    "import pprint\n",
    "\n",
    "max_length = []\n",
    "\n",
    "\n",
    "def print_table(list):\n",
    "    elements_length = []\n",
    "    col_widths = [0] * len(list)\n",
    "    for x in range(len(list)):\n",
    "        print(f\"{col_widths[x]} {list[x]}\")\n",
    "        for y in range(len(list)):\n",
    "            elements_length.append(len(list[x][y]))\n",
    "    print(elements_length)\n",
    "\n",
    "\n",
    "table_data = [\n",
    "    [\"apples\", \"oranges\", \"cheries\", \"banana\"],\n",
    "    [\"Alice\", \"Bob\", \"Carol\", \"David\"],\n",
    "    [\"dogs\", \"cats\", \"moose\", \"goose\"],\n",
    "]\n",
    "\n",
    "max_length = []\n",
    "column_width = 0\n",
    "for x in range(len(table_data)):\n",
    "    elements_length = []\n",
    "    for y in range(len(table_data[0])):\n",
    "        print(table_data[x][y])\n",
    "        elements_length.append(len(table_data[x][y]))\n",
    "\n",
    "    max_length.append(max(elements_length))\n",
    "    print()\n",
    "\n",
    "# for tt in range(len(table_data)):\n",
    "#     print(table_data[tt])\n",
    "\n",
    "print_table(table_data)"
   ]
  }
 ],
 "metadata": {
  "kernelspec": {
   "display_name": "base",
   "language": "python",
   "name": "python3"
  },
  "language_info": {
   "codemirror_mode": {
    "name": "ipython",
    "version": 3
   },
   "file_extension": ".py",
   "mimetype": "text/x-python",
   "name": "python",
   "nbconvert_exporter": "python",
   "pygments_lexer": "ipython3",
   "version": "3.11.7"
  }
 },
 "nbformat": 4,
 "nbformat_minor": 2
}
