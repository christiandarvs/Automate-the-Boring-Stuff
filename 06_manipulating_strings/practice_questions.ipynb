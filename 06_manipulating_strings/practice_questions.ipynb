{
 "cells": [
  {
   "cell_type": "markdown",
   "metadata": {},
   "source": [
    "1. What are escape characters?\n",
    "- **Answer**: lets you use characters that are otherwise impossible to put into a string."
   ]
  },
  {
   "cell_type": "markdown",
   "metadata": {
    "vscode": {
     "languageId": "plaintext"
    }
   },
   "source": [
    "2. What do the \\n and \\t escape characters represent?\n",
    "- **Answer**: ``\\n`` - adds a new line. ``\\t`` - adds a tab"
   ]
  },
  {
   "cell_type": "markdown",
   "metadata": {},
   "source": [
    "3. How can you put a \\ backslash character in a string?"
   ]
  },
  {
   "cell_type": "code",
   "execution_count": 3,
   "metadata": {},
   "outputs": [
    {
     "name": "stdout",
     "output_type": "stream",
     "text": [
      "Hello, this is a\n",
      " string\n"
     ]
    }
   ],
   "source": [
    "text = \"Hello, this is a\\n string\"\n",
    "print(text)"
   ]
  },
  {
   "cell_type": "markdown",
   "metadata": {},
   "source": [
    "4. The string value ``\"Howl's Moving Castle\"`` is a valid string. Why isn’t it a problem that the single quote\n",
    "character in the word Howl's isn’t escaped?\n",
    "\n",
    "- **Answer**: Because the string literal was enclosed in a double quotes, wherein the single quote is part of the whole string"
   ]
  },
  {
   "cell_type": "markdown",
   "metadata": {},
   "source": [
    "5. If you don’t want to put \\n in your string, how can you write a string with newlines in it?\n",
    "\n",
    "- **Answer**: Option 1: add a ``print()`` after the previous ``print('value')``. Option 2: You can pass the ``\\n`` in the optional parameter of the ``print()`` called ``end=''``"
   ]
  },
  {
   "cell_type": "markdown",
   "metadata": {},
   "source": [
    "6. What do the following expressions evaluate to?"
   ]
  },
  {
   "cell_type": "code",
   "execution_count": 9,
   "metadata": {},
   "outputs": [
    {
     "name": "stdout",
     "output_type": "stream",
     "text": [
      "Hello, world![1]: e\n",
      "Hello, world![0:5]: Hello\n",
      "Hello, world![:5]: Hello\n",
      "Hello, world![3:]: lo, world!\n"
     ]
    }
   ],
   "source": [
    "print(f\"Hello, world![1]: {'Hello, world!'[1]}\")\n",
    "print(f\"Hello, world![0:5]: {'Hello, world!'[0:5]}\")\n",
    "print(f\"Hello, world![:5]: {'Hello, world!'[:5]}\")\n",
    "print(f\"Hello, world![3:]: {'Hello, world!'[3:]}\")"
   ]
  },
  {
   "cell_type": "markdown",
   "metadata": {},
   "source": [
    "7. What do the following expressions evaluate to?"
   ]
  },
  {
   "cell_type": "code",
   "execution_count": 14,
   "metadata": {},
   "outputs": [
    {
     "name": "stdout",
     "output_type": "stream",
     "text": [
      "Hello.upper(): HELLO\n",
      "Hello.upper().isupper(): True\n",
      "Hello.upper().lower(): hello\n"
     ]
    }
   ],
   "source": [
    "print(f\"Hello.upper(): {'Hello'.upper()}\")\n",
    "print(f\"Hello.upper().isupper(): {'Hello'.upper().isupper()}\")\n",
    "print(f\"Hello.upper().lower(): {'Hello'.upper().lower()}\")"
   ]
  },
  {
   "cell_type": "markdown",
   "metadata": {},
   "source": [
    "8. What do the following expressions evaluate to?"
   ]
  },
  {
   "cell_type": "code",
   "execution_count": 18,
   "metadata": {},
   "outputs": [
    {
     "name": "stdout",
     "output_type": "stream",
     "text": [
      "'Remember, remember, the fifth of November.'.split(): ['Remember,', 'remember,', 'the', 'fifth', 'of', 'November.']\n"
     ]
    }
   ],
   "source": [
    "print(\n",
    "    f\"'Remember, remember, the fifth of November.'.split(): {'Remember, remember, the fifth of November.'.split()}\"\n",
    ")"
   ]
  },
  {
   "cell_type": "code",
   "execution_count": 19,
   "metadata": {},
   "outputs": [
    {
     "name": "stdout",
     "output_type": "stream",
     "text": [
      "'-'.join('There can be only one.'.split()): There-can-be-only-one.\n"
     ]
    }
   ],
   "source": [
    "print(\n",
    "    f\"'-'.join('There can be only one.'.split()): {'-'.join('There can be only one.'.split())}\"\n",
    ")"
   ]
  },
  {
   "cell_type": "markdown",
   "metadata": {},
   "source": [
    "9. What string methods can you use to right-justify, left-justify, and center a string?\n",
    "\n",
    "- **Answer**: ``rjust()``, ``ljust()``, ``center()``"
   ]
  },
  {
   "cell_type": "markdown",
   "metadata": {},
   "source": [
    "10. How can you trim whitespace characters from the beginning or end of a string?\n",
    "\n",
    "- **Answer**: ``strip()``"
   ]
  }
 ],
 "metadata": {
  "kernelspec": {
   "display_name": "base",
   "language": "python",
   "name": "python3"
  },
  "language_info": {
   "codemirror_mode": {
    "name": "ipython",
    "version": 3
   },
   "file_extension": ".py",
   "mimetype": "text/x-python",
   "name": "python",
   "nbconvert_exporter": "python",
   "pygments_lexer": "ipython3",
   "version": "3.11.7"
  }
 },
 "nbformat": 4,
 "nbformat_minor": 2
}
