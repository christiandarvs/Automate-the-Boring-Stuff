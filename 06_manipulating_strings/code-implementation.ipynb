{
 "cells": [
  {
   "cell_type": "markdown",
   "metadata": {},
   "source": [
    "## Escape Characters"
   ]
  },
  {
   "cell_type": "code",
   "execution_count": 32,
   "metadata": {},
   "outputs": [
    {
     "name": "stdout",
     "output_type": "stream",
     "text": [
      "Python\tProgramming\n",
      "C:\\\\Users\\Pogi\\Desktop\n"
     ]
    }
   ],
   "source": [
    "# print(\"Python\\'s awesome!\")\n",
    "# print('\\\"I love Python\\\"')\n",
    "\n",
    "print(\"Python\\tProgramming\")\n",
    "print(r\"C:\\\\Users\\Pogi\\Desktop\")"
   ]
  },
  {
   "cell_type": "markdown",
   "metadata": {},
   "source": [
    "## Raw Strings"
   ]
  },
  {
   "cell_type": "code",
   "execution_count": 33,
   "metadata": {},
   "outputs": [
    {
     "name": "stdout",
     "output_type": "stream",
     "text": [
      "Without Raw String:\n",
      "\tPython Programming\n",
      "\tJupyter Notebook\n",
      "\n",
      "With Raw String:\n",
      "\tPython Programming\\nJupyter Notebook\n"
     ]
    }
   ],
   "source": [
    "print(\"Without Raw String:\")\n",
    "print(\"\\tPython Programming\\n\\tJupyter Notebook\\n\")\n",
    "\n",
    "print(\"With Raw String:\")\n",
    "print(end=\"\\t\")\n",
    "print(r\"Python Programming\\nJupyter Notebook\")"
   ]
  },
  {
   "cell_type": "markdown",
   "metadata": {},
   "source": [
    "## Multiline Strings with Triple Quotes"
   ]
  },
  {
   "cell_type": "code",
   "execution_count": 34,
   "metadata": {},
   "outputs": [
    {
     "name": "stdout",
     "output_type": "stream",
     "text": [
      "\n",
      "Dear Programmer,\n",
      "      \n",
      "I hope this email finds you well. I'm reaching out regarding the recent errors we've identified in this repository.\n",
      "\n",
      "Sincerely,\n",
      "John (QA)  \n",
      "\n"
     ]
    }
   ],
   "source": [
    "print(\n",
    "    \"\"\"\n",
    "Dear Programmer,\n",
    "      \n",
    "I hope this email finds you well. I'm reaching out regarding the recent errors we've identified in this repository.\n",
    "\n",
    "Sincerely,\n",
    "John (QA)  \n",
    "\"\"\"\n",
    ")"
   ]
  },
  {
   "cell_type": "markdown",
   "metadata": {},
   "source": [
    "## Multiline Comments"
   ]
  },
  {
   "cell_type": "code",
   "execution_count": 35,
   "metadata": {},
   "outputs": [],
   "source": [
    "def spam():\n",
    "    \"\"\"This is a multiline comment to help\n",
    "    explain what the spam() function does.\"\"\"\n",
    "    print(\"Hello!\")"
   ]
  },
  {
   "cell_type": "markdown",
   "metadata": {},
   "source": [
    "## Indexing and Slicing Strings"
   ]
  },
  {
   "cell_type": "code",
   "execution_count": 36,
   "metadata": {},
   "outputs": [
    {
     "name": "stdout",
     "output_type": "stream",
     "text": [
      "Index 0: H\n",
      "Index 1: e\n",
      "Index 2: l\n",
      "Index 3: l\n",
      "Index 4: o\n",
      "Index 5:  \n",
      "Index 6: W\n",
      "Index 7: o\n",
      "Index 8: r\n",
      "Index 9: l\n",
      "Index 10: d\n",
      "Index 11: !\n",
      "\n",
      "Sliced String: He\n"
     ]
    }
   ],
   "source": [
    "spam = \"Hello World!\"\n",
    "\n",
    "for count, x in enumerate(spam):\n",
    "    print(f\"Index {count}: {x}\")\n",
    "\n",
    "sliced_string = spam[0:2]\n",
    "\n",
    "print(f\"\\nSliced String: {sliced_string}\")"
   ]
  },
  {
   "cell_type": "markdown",
   "metadata": {},
   "source": [
    "## ``in`` and ``not in`` operators"
   ]
  },
  {
   "cell_type": "code",
   "execution_count": 37,
   "metadata": {},
   "outputs": [
    {
     "name": "stdout",
     "output_type": "stream",
     "text": [
      "'Python' in ham: True\n",
      "'PYTHON' in ham: False\n",
      "'World' in ham: False\n",
      "'Py' in ham: True\n",
      "\n",
      "'Python' not in ham: False\n",
      "'Learning' not in ham: True\n"
     ]
    }
   ],
   "source": [
    "ham = \"Python Programming\"\n",
    "\n",
    "print(f\"'Python' in ham: {'Python' in ham}\")\n",
    "print(f\"'PYTHON' in ham: {'PYTHON' in ham}\")\n",
    "print(f\"'World' in ham: {'World' in ham}\")\n",
    "print(f\"'Py' in ham: {'Py' in ham}\\n\")\n",
    "\n",
    "print(f\"'Python' not in ham: {'Python' not in ham}\")\n",
    "print(f\"'Learning' not in ham: {'Learning' not in ham}\")"
   ]
  },
  {
   "cell_type": "markdown",
   "metadata": {},
   "source": [
    "## ``f-string``"
   ]
  },
  {
   "cell_type": "code",
   "execution_count": 38,
   "metadata": {},
   "outputs": [
    {
     "name": "stdout",
     "output_type": "stream",
     "text": [
      "Name: Darvs\n",
      "Age: 30\n",
      "\n",
      "My name is Darvs. Next year I will be 31.\n"
     ]
    }
   ],
   "source": [
    "user_name = \"Darvs\"\n",
    "age = 30\n",
    "\n",
    "print(f\"Name: {user_name}\\nAge: {age}\\n\")\n",
    "\n",
    "print(f\"My name is {user_name}. Next year I will be {age + 1}.\")"
   ]
  },
  {
   "cell_type": "markdown",
   "metadata": {},
   "source": [
    "## ``upper()`` and ``lower()``"
   ]
  },
  {
   "cell_type": "code",
   "execution_count": 39,
   "metadata": {},
   "outputs": [
    {
     "name": "stdout",
     "output_type": "stream",
     "text": [
      "Normal: Python\n",
      "upper(): PYTHON\n",
      "lower(): python\n",
      "\n",
      "Nice! We are feeling the same.\n"
     ]
    }
   ],
   "source": [
    "fave_language = \"Python\"\n",
    "\n",
    "print(f\"Normal: {fave_language}\")\n",
    "\n",
    "print(f\"upper(): {fave_language.upper()}\")\n",
    "print(f\"lower(): {fave_language.lower()}\\n\")\n",
    "\n",
    "user_feeling = input(\"How are you? \")\n",
    "if user_feeling.lower() == \"great\":\n",
    "    print(\"Nice! We are feeling the same.\")\n",
    "else:\n",
    "    print(\"I hope you are okay!\")"
   ]
  },
  {
   "cell_type": "markdown",
   "metadata": {},
   "source": [
    "## ``islower()`` and ``isupper()``"
   ]
  },
  {
   "cell_type": "code",
   "execution_count": 40,
   "metadata": {},
   "outputs": [
    {
     "name": "stdout",
     "output_type": "stream",
     "text": [
      "Hello world.islower(): False\n",
      "Hello world.isupper(): False\n",
      "\n",
      "PYTHON.islower(): False\n",
      "PYTHON.islower(): True\n",
      "\n",
      "1234.islower(): False\n",
      "1234.isupper(): False\n"
     ]
    }
   ],
   "source": [
    "spam = \"Hello world\"\n",
    "print(\n",
    "    f\"{spam}.islower(): {spam.islower()}\"\n",
    ")  # To return TRUE, all characters must be in LOWERCASE\n",
    "print(\n",
    "    f\"{spam}.isupper(): {spam.isupper()}\\n\"\n",
    ")  # To return TRUE, all characters must be in UPPERCASE\n",
    "\n",
    "eggs = \"PYTHON\"\n",
    "print(f\"{eggs}.islower(): {eggs.islower()}\")\n",
    "print(f\"{eggs}.islower(): {eggs.isupper()}\\n\")\n",
    "\n",
    "string_number = \"1234\"\n",
    "print(f\"{string_number}.islower(): {string_number.islower()}\")\n",
    "print(f\"{string_number}.isupper(): {string_number.isupper()}\")"
   ]
  },
  {
   "cell_type": "markdown",
   "metadata": {},
   "source": [
    "## ``isX()`` Methods"
   ]
  },
  {
   "cell_type": "code",
   "execution_count": 41,
   "metadata": {},
   "outputs": [
    {
     "name": "stdout",
     "output_type": "stream",
     "text": [
      "----- isalpha() -----\n",
      "'hello'.isalpha(): True\n",
      "'hello12345'.isalpha(): False\n",
      "\n",
      "----- isalnum() -----\n",
      "'hello'.isalnum(): True\n",
      "'hello12345'.isalnum(): True\n",
      "\n",
      "----- isdecimal() -----\n",
      "'355'.isdecimal(): True\n",
      "'hello123'.isdecimal(): False\n",
      "\n",
      "----- isspace() -----\n",
      "' '.isspace(): True\n",
      "'hello123 '.isspace(): False\n",
      "\n",
      "----- istitle() -----\n",
      "'I Love Python'.istitle(): True\n",
      "'I hate java'.istitle(): False\n"
     ]
    }
   ],
   "source": [
    "def display_heading(method_name):\n",
    "    print(f\"----- {method_name} -----\")\n",
    "\n",
    "\n",
    "display_heading(\"isalpha()\")\n",
    "print(f\"'hello'.isalpha(): {'hello'.isalpha()}\")\n",
    "print(f\"'hello12345'.isalpha(): {'hello12345'.isalpha()}\\n\")\n",
    "\n",
    "display_heading(\"isalnum()\")\n",
    "print(f\"'hello'.isalnum(): {'hello'.isalnum()}\")\n",
    "print(f\"'hello12345'.isalnum(): {'hello12345'.isalnum()}\\n\")\n",
    "\n",
    "display_heading(\"isdecimal()\")\n",
    "print(f\"'355'.isdecimal(): {'355'.isdecimal()}\")\n",
    "print(f\"'hello123'.isdecimal(): {'hello123'.isdecimal()}\\n\")\n",
    "\n",
    "display_heading(\"isspace()\")\n",
    "print(f\"' '.isspace(): {' '.isspace()}\")\n",
    "print(f\"'hello123 '.isspace(): {'hello123 '.isspace()}\\n\")\n",
    "\n",
    "display_heading(\"istitle()\")\n",
    "print(f\"'I Love Python'.istitle(): {'I Love Python'.istitle()}\")\n",
    "print(f\"'I hate java'.istitle(): {'I hate java'.istitle()}\")"
   ]
  },
  {
   "cell_type": "markdown",
   "metadata": {},
   "source": [
    "## ``startswith()`` and ``endswith()``"
   ]
  },
  {
   "cell_type": "code",
   "execution_count": 42,
   "metadata": {},
   "outputs": [
    {
     "name": "stdout",
     "output_type": "stream",
     "text": [
      "'Machine Learning'.startswith('Python'): False\n",
      "'Machine Learning'.startswith('Machine'): True\n",
      "Name ends with letter n (christian): True\n",
      "'Python Programming'.startswith('Python Programming'): True\n",
      "'Python Programming'.endswith('Python Programming'): True\n"
     ]
    }
   ],
   "source": [
    "print(\n",
    "    f\"'Machine Learning'.startswith('Python'): {'Machine Learning'.startswith('Python')}\"\n",
    ")\n",
    "print(\n",
    "    f\"'Machine Learning'.startswith('Machine'): {'Machine Learning'.startswith('Machine')}\"\n",
    ")\n",
    "\n",
    "\n",
    "print(f\"Name ends with letter n (christian): {'christian'.endswith('n')}\")\n",
    "\n",
    "print(\n",
    "    f\"'Python Programming'.startswith('Python Programming'): {'Python Programming'.startswith('Python Programming')}\"\n",
    ")\n",
    "print(\n",
    "    f\"'Python Programming'.endswith('Python Programming'): {'Python Programming'.endswith('Python Programming')}\"\n",
    ")"
   ]
  },
  {
   "cell_type": "markdown",
   "metadata": {},
   "source": [
    "## ``join()`` and ``split()``"
   ]
  },
  {
   "cell_type": "code",
   "execution_count": 95,
   "metadata": {},
   "outputs": [
    {
     "name": "stdout",
     "output_type": "stream",
     "text": [
      "----- join() -----\n",
      "Names: ['John', 'Ken', 'Sam']\n",
      "Data Type: <class 'list'>\n",
      "\n",
      "Updated Names: John, Ken, Sam\n",
      "Data Type: <class 'str'>\n",
      "\n",
      "Programming Languages: ['Python', 'Java', 'C#', 'JavaScript', 'Kotlin', 'SQL']\n",
      "Updated Programming Languages: Python -> Java -> C# -> JavaScript -> Kotlin -> SQL\n",
      "\n",
      "----- split() -----\n",
      "'MyPynamePyisPyChristian'.split('Py'): ['My', 'name', 'is', 'Christian']\n",
      "\n",
      "Dear Alice,\n",
      "How have you been? I am fine.\n",
      "There is a container in the fridge\n",
      "that is labeled \"Milk Experiment.\"\n",
      "\n",
      "Please do not drink it.\n",
      "Sincerely,\n",
      "Bob\n",
      "\n"
     ]
    },
    {
     "data": {
      "text/plain": [
       "['Dear Alice,',\n",
       " 'How have you been? I am fine.',\n",
       " 'There is a container in the fridge',\n",
       " 'that is labeled \"Milk Experiment.\"',\n",
       " '',\n",
       " 'Please do not drink it.',\n",
       " 'Sincerely,',\n",
       " 'Bob']"
      ]
     },
     "execution_count": 95,
     "metadata": {},
     "output_type": "execute_result"
    }
   ],
   "source": [
    "display_heading(\"join()\")\n",
    "\n",
    "names = [\"John\", \"Ken\", \"Sam\"]\n",
    "print(f\"Names: {names}\\nData Type: {type(names)}\\n\")\n",
    "\n",
    "update_names = \", \".join(names)\n",
    "print(f\"Updated Names: {update_names}\\nData Type: {type(update_names)}\\n\")\n",
    "\n",
    "programming_languages = [\"Python\", \"Java\", \"C#\", \"JavaScript\", \"Kotlin\", \"SQL\"]\n",
    "print(f\"Programming Languages: {programming_languages}\")\n",
    "\n",
    "update_programming_languages = \" -> \".join(programming_languages)\n",
    "print(f\"Updated Programming Languages: {update_programming_languages}\\n\")\n",
    "\n",
    "display_heading(\"split()\")\n",
    "\n",
    "print(\n",
    "    f\"'MyPynamePyisPyChristian'.split('Py'): {'MyPynamePyisPyChristian'.split('Py')}\\n\"\n",
    ")\n",
    "\n",
    "spam = \"\"\"Dear Alice,\n",
    "How have you been? I am fine.\n",
    "There is a container in the fridge\n",
    "that is labeled \"Milk Experiment.\"\n",
    "\n",
    "Please do not drink it.\n",
    "Sincerely,\n",
    "Bob\"\"\"\n",
    "\n",
    "print(f\"{spam}\\n\")\n",
    "\n",
    "spam.split(\"\\n\")\n",
    "\n",
    "# Passing split() the argument '\\n' lets us split the multiline string stored in spam along the newlines and return a list in which each item corresponds to one line of the string."
   ]
  },
  {
   "cell_type": "markdown",
   "metadata": {},
   "source": [
    "## Splitting Strings with the ``partition()``"
   ]
  },
  {
   "cell_type": "code",
   "execution_count": 30,
   "metadata": {},
   "outputs": [
    {
     "name": "stdout",
     "output_type": "stream",
     "text": [
      "('Lore', 'm', ', ipsum')\n",
      "('Lorem, ipsum', '', '')\n",
      "\n",
      "Before: Hello,\n",
      "Separator:  \n",
      "After: World!\n",
      "\n"
     ]
    }
   ],
   "source": [
    "place_holder = \"Lorem, ipsum\"\n",
    "\n",
    "# If the separator string you pass to partition() occurs multiple times\n",
    "print(place_holder.partition(\"m\"))\n",
    "\n",
    "# If the separator string can’t be found, the first string returned in the tuple will be the entire string, and the other two strings will be empty\n",
    "print(place_holder.partition(\"XYZ\"))\n",
    "\n",
    "another_place_holder = \"Hello, World!\"\n",
    "before, separator, after = another_place_holder.partition(\" \")\n",
    "print(f\"\\nBefore: {before}\")\n",
    "print(f\"Separator: {separator}\")\n",
    "print(f\"After: {after}\\n\")"
   ]
  },
  {
   "cell_type": "markdown",
   "metadata": {},
   "source": [
    "## ``rjust()``, ``ljust()``, and ``center()``"
   ]
  },
  {
   "cell_type": "code",
   "execution_count": 101,
   "metadata": {},
   "outputs": [
    {
     "name": "stdout",
     "output_type": "stream",
     "text": [
      "     Hello\n",
      "               Hello\n",
      "        Hello, World\n",
      "Hello     \n",
      "---------------Hello\n",
      "Hello•••••\n",
      "---------------- Hello -----------------\n",
      "\n",
      "---PICNIC ITEMS--\n",
      "sandwiches..    4\n",
      "apples......   12\n",
      "cups........    4\n",
      "cookies..... 8000\n",
      "\n",
      "-------PICNIC ITEMS-------\n",
      "sandwiches..........     4\n",
      "apples..............    12\n",
      "cups................     4\n",
      "cookies.............  8000\n"
     ]
    }
   ],
   "source": [
    "print(f\"{'Hello'.rjust(10)}\")\n",
    "print(f\"{'Hello'.rjust(20)}\")\n",
    "print(f\"{'Hello, World'.rjust(20)}\")\n",
    "print(f\"{'Hello'.ljust(10)}\")\n",
    "\n",
    "print(f\"{'Hello'.rjust(20, '-')}\")\n",
    "print(f\"{'Hello'.ljust(10, '•')}\")\n",
    "print(f\"{' Hello '.center(40, '-')}\\n\")\n",
    "\n",
    "\n",
    "def display_picnic_items(items_dict, left_width, right_width):\n",
    "    print(\"PICNIC ITEMS\".center(left_width + right_width, \"-\"))\n",
    "    for k, v in items_dict.items():\n",
    "        print(k.ljust(left_width, \".\") + str(v).rjust(right_width))\n",
    "\n",
    "\n",
    "# you can remove the second argument\n",
    "\n",
    "picnicItems = {\"sandwiches\": 4, \"apples\": 12, \"cups\": 4, \"cookies\": 8000}\n",
    "display_picnic_items(picnicItems, 12, 5)\n",
    "print()\n",
    "display_picnic_items(picnicItems, 20, 6)"
   ]
  },
  {
   "cell_type": "code",
   "execution_count": 139,
   "metadata": {},
   "outputs": [
    {
     "name": "stdout",
     "output_type": "stream",
     "text": [
      "Cigarettes        20\n",
      "Chocolates        15\n",
      "Candies           50\n",
      "Biscuits          30\n",
      "Soda              10\n",
      "Soap              25\n",
      "Shampoo           15\n",
      "Toothpaste        20\n",
      "Batteries          5\n",
      "Snacks            40\n"
     ]
    }
   ],
   "source": [
    "def display_sari_sari_store_items(sari_sari_items, lw, rw):\n",
    "    for key, value in sari_sari_items.items():\n",
    "        print(f\"{key.ljust(lw)}{str(value).rjust(rw)}\")\n",
    "\n",
    "\n",
    "sari_sari_items = {\n",
    "    \"Cigarettes\": 20,\n",
    "    \"Chocolates\": 15,\n",
    "    \"Candies\": 50,\n",
    "    \"Biscuits\": 30,\n",
    "    \"Soda\": 10,\n",
    "    \"Soap\": 25,\n",
    "    \"Shampoo\": 15,\n",
    "    \"Toothpaste\": 20,\n",
    "    \"Batteries\": 5,\n",
    "    \"Snacks\": 40,\n",
    "}\n",
    "\n",
    "display_sari_sari_store_items(sari_sari_items, 15, 5)"
   ]
  },
  {
   "cell_type": "markdown",
   "metadata": {},
   "source": [
    "## ``rstrip()``, ``lstrip()``, and ``strip()``"
   ]
  },
  {
   "cell_type": "code",
   "execution_count": 6,
   "metadata": {},
   "outputs": [
    {
     "name": "stdout",
     "output_type": "stream",
     "text": [
      "strip(): Hello, World\n",
      "lstrip(): Hello, World   \n",
      "rstrip():     Hello, World\n"
     ]
    }
   ],
   "source": [
    "spam = \"    Hello, World   \"\n",
    "print(f\"strip(): {spam.strip()}\")\n",
    "print(f\"lstrip(): {spam.lstrip()}\")\n",
    "print(f\"rstrip(): {spam.rstrip()}\")"
   ]
  }
 ],
 "metadata": {
  "kernelspec": {
   "display_name": "base",
   "language": "python",
   "name": "python3"
  },
  "language_info": {
   "codemirror_mode": {
    "name": "ipython",
    "version": 3
   },
   "file_extension": ".py",
   "mimetype": "text/x-python",
   "name": "python",
   "nbconvert_exporter": "python",
   "pygments_lexer": "ipython3",
   "version": "3.11.7"
  }
 },
 "nbformat": 4,
 "nbformat_minor": 2
}
