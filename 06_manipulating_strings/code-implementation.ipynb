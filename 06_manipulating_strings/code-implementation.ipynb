{
 "cells": [
  {
   "cell_type": "markdown",
   "metadata": {},
   "source": [
    "## Escape Characters"
   ]
  },
  {
   "cell_type": "code",
   "execution_count": 27,
   "metadata": {},
   "outputs": [
    {
     "name": "stdout",
     "output_type": "stream",
     "text": [
      "Python\tProgramming\n",
      "C:\\\\Users\\Pogi\\Desktop\n"
     ]
    }
   ],
   "source": [
    "# print(\"Python\\'s awesome!\")\n",
    "# print('\\\"I love Python\\\"')\n",
    "\n",
    "print(\"Python\\tProgramming\")\n",
    "print(r\"C:\\\\Users\\Pogi\\Desktop\")"
   ]
  },
  {
   "cell_type": "markdown",
   "metadata": {},
   "source": [
    "## Raw Strings"
   ]
  },
  {
   "cell_type": "code",
   "execution_count": 48,
   "metadata": {},
   "outputs": [
    {
     "name": "stdout",
     "output_type": "stream",
     "text": [
      "Without Raw String:\n",
      "\tPython Programming\n",
      "\tJupyter Notebook\n",
      "\n",
      "With Raw String:\n",
      "\tPython Programming\\nJupyter Notebook\n"
     ]
    }
   ],
   "source": [
    "print(\"Without Raw String:\")\n",
    "print(\"\\tPython Programming\\n\\tJupyter Notebook\\n\")\n",
    "\n",
    "print(\"With Raw String:\")\n",
    "print(end=\"\\t\")\n",
    "print(r\"Python Programming\\nJupyter Notebook\")"
   ]
  },
  {
   "cell_type": "markdown",
   "metadata": {},
   "source": [
    "## Multiline Strings with Triple Quotes"
   ]
  },
  {
   "cell_type": "code",
   "execution_count": 50,
   "metadata": {},
   "outputs": [
    {
     "name": "stdout",
     "output_type": "stream",
     "text": [
      "\n",
      "Dear Programmer,\n",
      "      \n",
      "I hope this email finds you well. I'm reaching out regarding the recent errors we've identified in this repository.\n",
      "\n",
      "Sincerely,\n",
      "John (QA)  \n",
      "\n"
     ]
    }
   ],
   "source": [
    "print(\n",
    "    \"\"\"\n",
    "Dear Programmer,\n",
    "      \n",
    "I hope this email finds you well. I'm reaching out regarding the recent errors we've identified in this repository.\n",
    "\n",
    "Sincerely,\n",
    "John (QA)  \n",
    "\"\"\"\n",
    ")"
   ]
  },
  {
   "cell_type": "markdown",
   "metadata": {},
   "source": [
    "## Multiline Comments"
   ]
  },
  {
   "cell_type": "code",
   "execution_count": 51,
   "metadata": {},
   "outputs": [],
   "source": [
    "def spam():\n",
    "    \"\"\"This is a multiline comment to help\n",
    "    explain what the spam() function does.\"\"\"\n",
    "    print(\"Hello!\")"
   ]
  },
  {
   "cell_type": "markdown",
   "metadata": {},
   "source": [
    "## Indexing and Slicing Strings"
   ]
  },
  {
   "cell_type": "code",
   "execution_count": 68,
   "metadata": {},
   "outputs": [
    {
     "name": "stdout",
     "output_type": "stream",
     "text": [
      "Index 0: H\n",
      "Index 1: e\n",
      "Index 2: l\n",
      "Index 3: l\n",
      "Index 4: o\n",
      "Index 5:  \n",
      "Index 6: W\n",
      "Index 7: o\n",
      "Index 8: r\n",
      "Index 9: l\n",
      "Index 10: d\n",
      "Index 11: !\n",
      "\n",
      "Sliced String: He\n"
     ]
    }
   ],
   "source": [
    "spam = \"Hello World!\"\n",
    "\n",
    "for count, x in enumerate(spam):\n",
    "    print(f\"Index {count}: {x}\")\n",
    "\n",
    "sliced_string = spam[0:2]\n",
    "\n",
    "print(f\"\\nSliced String: {sliced_string}\")"
   ]
  },
  {
   "cell_type": "markdown",
   "metadata": {},
   "source": [
    "## ``in`` and ``not in`` operators"
   ]
  },
  {
   "cell_type": "code",
   "execution_count": 81,
   "metadata": {},
   "outputs": [
    {
     "name": "stdout",
     "output_type": "stream",
     "text": [
      "'Python' in ham: True\n",
      "'PYTHON' in ham: False\n",
      "'World' in ham: False\n",
      "'Py' in ham: True\n",
      "\n",
      "'Python' not in ham: False\n",
      "'Learning' not in ham: True\n"
     ]
    }
   ],
   "source": [
    "ham = \"Python Programming\"\n",
    "\n",
    "print(f\"'Python' in ham: {'Python' in ham}\")\n",
    "print(f\"'PYTHON' in ham: {'PYTHON' in ham}\")\n",
    "print(f\"'World' in ham: {'World' in ham}\")\n",
    "print(f\"'Py' in ham: {'Py' in ham}\\n\")\n",
    "\n",
    "print(f\"'Python' not in ham: {'Python' not in ham}\")\n",
    "print(f\"'Learning' not in ham: {'Learning' not in ham}\")"
   ]
  },
  {
   "cell_type": "markdown",
   "metadata": {},
   "source": [
    "## ``f-string``"
   ]
  },
  {
   "cell_type": "code",
   "execution_count": 85,
   "metadata": {},
   "outputs": [
    {
     "name": "stdout",
     "output_type": "stream",
     "text": [
      "Name: Darvs\n",
      "Age: 30\n",
      "\n",
      "My name is Darvs. Next year I will be 31.\n"
     ]
    }
   ],
   "source": [
    "user_name = \"Darvs\"\n",
    "age = 30\n",
    "\n",
    "print(f\"Name: {user_name}\\nAge: {age}\\n\")\n",
    "\n",
    "print(f\"My name is {user_name}. Next year I will be {age + 1}.\")"
   ]
  },
  {
   "cell_type": "markdown",
   "metadata": {},
   "source": [
    "## ``upper()``"
   ]
  }
 ],
 "metadata": {
  "kernelspec": {
   "display_name": "base",
   "language": "python",
   "name": "python3"
  },
  "language_info": {
   "codemirror_mode": {
    "name": "ipython",
    "version": 3
   },
   "file_extension": ".py",
   "mimetype": "text/x-python",
   "name": "python",
   "nbconvert_exporter": "python",
   "pygments_lexer": "ipython3",
   "version": "3.11.7"
  }
 },
 "nbformat": 4,
 "nbformat_minor": 2
}
