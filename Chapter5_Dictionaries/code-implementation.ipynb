{
 "cells": [
  {
   "cell_type": "markdown",
   "metadata": {},
   "source": [
    "## Dictionary Data Type"
   ]
  },
  {
   "cell_type": "code",
   "execution_count": 42,
   "metadata": {},
   "outputs": [
    {
     "name": "stdout",
     "output_type": "stream",
     "text": [
      "Size: fat\n",
      "Color: grey\n",
      "\n",
      "dict_keys(['size', 'colour', 'disposition', 'age'])\n",
      "dict_values(['fat', 'grey', 'loud', 2])\n",
      "\n",
      "Error: 'weight'\n"
     ]
    }
   ],
   "source": [
    "my_cat = {\"size\": \"fat\", \"colour\": \"grey\", \"disposition\": \"loud\", \"age\": 2}\n",
    "\n",
    "size = my_cat[\"size\"]\n",
    "colour = my_cat[\"colour\"]\n",
    "\n",
    "print(f\"Size: {size}\")\n",
    "print(f\"Color: {colour}\\n\")\n",
    "\n",
    "print(my_cat.keys())\n",
    "print(f\"{my_cat.values()}\\n\")\n",
    "\n",
    "try:\n",
    "    print(my_cat[\"weight\"])\n",
    "except KeyError as KE:\n",
    "    print(f\"Error: {KE}\")"
   ]
  },
  {
   "cell_type": "markdown",
   "metadata": {},
   "source": [
    "## Dictionaries vs. Lists"
   ]
  },
  {
   "cell_type": "code",
   "execution_count": 43,
   "metadata": {},
   "outputs": [
    {
     "name": "stdout",
     "output_type": "stream",
     "text": [
      "False\n",
      "True\n"
     ]
    }
   ],
   "source": [
    "spam = [\"cats\", \"dogs\", \"moose\"]\n",
    "bacon = [\"dogs\", \"moose\", \"cats\"]\n",
    "\n",
    "print(spam == bacon)\n",
    "\n",
    "eggs = {\"name\": \"Zophie\", \"species\": \"cat\", \"age\": \"8\"}\n",
    "ham = {\"species\": \"cat\", \"age\": \"8\", \"name\": \"Zophie\"}\n",
    "\n",
    "print(eggs == ham)\n",
    "\n",
    "# it will only evaluate to True, if the 2 dictionaries have the same .key() and .values()"
   ]
  },
  {
   "cell_type": "code",
   "execution_count": 44,
   "metadata": {},
   "outputs": [
    {
     "name": "stdout",
     "output_type": "stream",
     "text": [
      "Dec 12 is the birthday of Bob\n",
      "Feb 1 is the birthday of Alice\n",
      "Mar 4 is the birthday of Carol\n",
      "I don't have the birthday information for Dave\n",
      "Birthday Database Updated...\n",
      "May 5 is the birthday of Dave\n"
     ]
    }
   ],
   "source": [
    "birthdays = {\"Alice\": \"Feb 1\", \"Bob\": \"Dec 12\", \"Carol\": \"Mar 4\"}\n",
    "\n",
    "while True:\n",
    "    name = input(\"Enter a name [q to Quit]: \").title()\n",
    "    if name == \"q\" or name == \"Q\":\n",
    "        break\n",
    "    elif name in birthdays:\n",
    "        print(f\"{birthdays[name]} is the birthday of {name}\")\n",
    "    else:\n",
    "        print(f\"I don't have the birthday information for {name}\")\n",
    "        birthday = input(\"When is their birthday? \").title()\n",
    "        birthdays[name] = birthday\n",
    "        print(\"Birthday Database Updated...\")"
   ]
  },
  {
   "cell_type": "markdown",
   "metadata": {},
   "source": [
    "## Dictionary Methods"
   ]
  },
  {
   "cell_type": "code",
   "execution_count": 47,
   "metadata": {},
   "outputs": [
    {
     "name": "stdout",
     "output_type": "stream",
     "text": [
      "Keys:\n",
      "\tname\n",
      "\tage\n",
      "\tcity\n",
      "\toccupation\n",
      "\n",
      "Values:\n",
      "\tAlice Johnson\n",
      "\t30\n",
      "\tNew York\n",
      "\tSoftware Engineer\n",
      "\n",
      "dict_values(['Alice Johnson', 30, 'New York', 'Software Engineer'])\n",
      "\n",
      "name: Alice Johnson\n",
      "age: 30\n",
      "city: New York\n",
      "occupation: Software Engineer\n"
     ]
    }
   ],
   "source": [
    "person = {\n",
    "    \"name\": \"Alice Johnson\",\n",
    "    \"age\": 30,\n",
    "    \"city\": \"New York\",\n",
    "    \"occupation\": \"Software Engineer\",\n",
    "}\n",
    "\n",
    "print(\"Keys:\")\n",
    "for person_key in person.keys():\n",
    "    print(f\"\\t{person_key}\")\n",
    "\n",
    "print(\"\\nValues:\")\n",
    "for person_value in person.values():\n",
    "    print(f\"\\t{person_value}\")\n",
    "\n",
    "print(f\"\\n{person.values()}\\n\")\n",
    "\n",
    "for key, value in person.items():\n",
    "    print(f\"{key}: {value}\")"
   ]
  },
  {
   "cell_type": "markdown",
   "metadata": {},
   "source": [
    "## Checking Whether a Key or Value Exists in a Dictionary"
   ]
  },
  {
   "cell_type": "code",
   "execution_count": 63,
   "metadata": {},
   "outputs": [
    {
     "name": "stdout",
     "output_type": "stream",
     "text": [
      "'name' in person.keys(): True\n",
      "'age' in person.keys(): True\n",
      "'nationality' in person.keys(): False\n",
      "\n",
      "30 in person.values(): True\n",
      "'New York' in person.values(): True\n",
      "'Database Administrator' in person.values(): False\n"
     ]
    }
   ],
   "source": [
    "person = {\n",
    "    \"name\": \"Alice Johnson\",\n",
    "    \"age\": 30,\n",
    "    \"city\": \"New York\",\n",
    "    \"occupation\": \"Software Engineer\",\n",
    "}\n",
    "\n",
    "print(f\"'name' in person.keys(): {'name' in person.keys()}\")\n",
    "print(f\"'age' in person.keys(): {'age' in person.keys()}\")\n",
    "print(f\"'nationality' in person.keys(): {'nationality' in person.keys()}\\n\")\n",
    "\n",
    "print(f\"30 in person.values(): {30 in person.values()}\")\n",
    "print(f\"'New York' in person.values(): {'New York' in person.values()}\")\n",
    "print(\n",
    "    f\"'Database Administrator' in person.values(): {'Database Administrator' in person.values()}\"\n",
    ")"
   ]
  },
  {
   "cell_type": "markdown",
   "metadata": {},
   "source": [
    "## ``get()``"
   ]
  },
  {
   "cell_type": "code",
   "execution_count": 68,
   "metadata": {},
   "outputs": [
    {
     "name": "stdout",
     "output_type": "stream",
     "text": [
      "I'm bringing 2 cups\n",
      "I'm bringing 0 plates\n",
      "I'm bringing 0 eggs\n"
     ]
    }
   ],
   "source": [
    "picnic_items = {\"apples\": 5, \"cups\": 2}\n",
    "\n",
    "n_of_cups = picnic_items.get(\"cups\", 0)\n",
    "n_of_plates = picnic_items.get(\"plates\", 0)\n",
    "n_of_eggs = picnic_items.get(\"eggs\", 0)\n",
    "\n",
    "print(f\"I'm bringing {n_of_cups} cups\")\n",
    "print(f\"I'm bringing {n_of_plates} plates\")\n",
    "print(f\"I'm bringing {n_of_eggs} eggs\")\n",
    "\n",
    "# Because there is no 'eggs' key in dictionary, the default value 0 is returned by the get() method. Without using get(), the code would have caused an error message."
   ]
  },
  {
   "cell_type": "markdown",
   "metadata": {},
   "source": [
    "## ``setdefault()``"
   ]
  },
  {
   "cell_type": "code",
   "execution_count": 86,
   "metadata": {},
   "outputs": [
    {
     "name": "stdout",
     "output_type": "stream",
     "text": [
      "{'name': 'Jefferson', 'age': 24, 'fave_colour': 'blue'}\n"
     ]
    },
    {
     "data": {
      "text/plain": [
       "'blue'"
      ]
     },
     "execution_count": 86,
     "metadata": {},
     "output_type": "execute_result"
    }
   ],
   "source": [
    "spam = {\"name\": \"Jefferson\", \"age\": 24, \"fave_colour\": \"blue\"}\n",
    "\n",
    "print(spam)\n",
    "spam.setdefault(\n",
    "    \"fave_colour\", \"white\"\n",
    ")  # it will return the value 'blue', bcoz it already contains the key: fave_color\n",
    "\n",
    "# print(spam)"
   ]
  },
  {
   "cell_type": "markdown",
   "metadata": {},
   "source": [
    "## Character Count"
   ]
  },
  {
   "cell_type": "code",
   "execution_count": null,
   "metadata": {},
   "outputs": [],
   "source": []
  }
 ],
 "metadata": {
  "kernelspec": {
   "display_name": "base",
   "language": "python",
   "name": "python3"
  },
  "language_info": {
   "codemirror_mode": {
    "name": "ipython",
    "version": 3
   },
   "file_extension": ".py",
   "mimetype": "text/x-python",
   "name": "python",
   "nbconvert_exporter": "python",
   "pygments_lexer": "ipython3",
   "version": "3.11.7"
  }
 },
 "nbformat": 4,
 "nbformat_minor": 2
}
