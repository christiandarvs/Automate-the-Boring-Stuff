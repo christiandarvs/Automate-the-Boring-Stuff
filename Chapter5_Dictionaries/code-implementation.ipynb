{
 "cells": [
  {
   "cell_type": "markdown",
   "metadata": {},
   "source": [
    "## Dictionary Data Type"
   ]
  },
  {
   "cell_type": "code",
   "execution_count": 1,
   "metadata": {},
   "outputs": [
    {
     "name": "stdout",
     "output_type": "stream",
     "text": [
      "Size: fat\n",
      "Color: grey\n",
      "\n",
      "dict_keys(['size', 'colour', 'disposition', 'age'])\n",
      "dict_values(['fat', 'grey', 'loud', 2])\n",
      "\n",
      "Error: 'weight'\n"
     ]
    }
   ],
   "source": [
    "my_cat = {\"size\": \"fat\", \"colour\": \"grey\", \"disposition\": \"loud\", \"age\": 2}\n",
    "\n",
    "size = my_cat[\"size\"]\n",
    "colour = my_cat[\"colour\"]\n",
    "\n",
    "print(f\"Size: {size}\")\n",
    "print(f\"Color: {colour}\\n\")\n",
    "\n",
    "print(my_cat.keys())\n",
    "print(f\"{my_cat.values()}\\n\")\n",
    "\n",
    "try:\n",
    "    print(my_cat[\"weight\"])\n",
    "except KeyError as KE:\n",
    "    print(f\"Error: {KE}\")"
   ]
  },
  {
   "cell_type": "markdown",
   "metadata": {},
   "source": [
    "## Dictionaries vs. Lists"
   ]
  },
  {
   "cell_type": "code",
   "execution_count": 2,
   "metadata": {},
   "outputs": [
    {
     "name": "stdout",
     "output_type": "stream",
     "text": [
      "False\n",
      "True\n"
     ]
    }
   ],
   "source": [
    "spam = [\"cats\", \"dogs\", \"moose\"]\n",
    "bacon = [\"dogs\", \"moose\", \"cats\"]\n",
    "\n",
    "print(spam == bacon)\n",
    "\n",
    "eggs = {\"name\": \"Zophie\", \"species\": \"cat\", \"age\": \"8\"}\n",
    "ham = {\"species\": \"cat\", \"age\": \"8\", \"name\": \"Zophie\"}\n",
    "\n",
    "print(eggs == ham)\n",
    "\n",
    "# it will only evaluate to True, if the 2 dictionaries have the same .key() and .values()"
   ]
  },
  {
   "cell_type": "code",
   "execution_count": 3,
   "metadata": {},
   "outputs": [
    {
     "name": "stdout",
     "output_type": "stream",
     "text": [
      "Dec 12 is the birthday of Bob\n",
      "Feb 1 is the birthday of Alice\n",
      "Mar 4 is the birthday of Carol\n",
      "I don't have the birthday information for Ken\n",
      "Birthday Database Updated...\n",
      "May 19 is the birthday of Ken\n"
     ]
    }
   ],
   "source": [
    "birthdays = {\"Alice\": \"Feb 1\", \"Bob\": \"Dec 12\", \"Carol\": \"Mar 4\"}\n",
    "\n",
    "while True:\n",
    "    name = input(\"Enter a name [q to Quit]: \").title()\n",
    "    if name == \"q\" or name == \"Q\":\n",
    "        break\n",
    "    elif name in birthdays:\n",
    "        print(f\"{birthdays[name]} is the birthday of {name}\")\n",
    "    else:\n",
    "        print(f\"I don't have the birthday information for {name}\")\n",
    "        birthday = input(\"When is their birthday? \").title()\n",
    "        birthdays[name] = birthday\n",
    "        print(\"Birthday Database Updated...\")"
   ]
  },
  {
   "cell_type": "markdown",
   "metadata": {},
   "source": [
    "## Dictionary Methods"
   ]
  },
  {
   "cell_type": "code",
   "execution_count": 6,
   "metadata": {},
   "outputs": [
    {
     "name": "stdout",
     "output_type": "stream",
     "text": [
      "Keys:\n",
      "\tname\n",
      "\tage\n",
      "\tcity\n",
      "\toccupation\n",
      "\n",
      "Values:\n",
      "\tAlice Johnson\n",
      "\t30\n",
      "\tNew York\n",
      "\tSoftware Engineer\n",
      "\n",
      "dict_keys(['name', 'age', 'city', 'occupation'])\n",
      "\n",
      "\n",
      "dict_values(['Alice Johnson', 30, 'New York', 'Software Engineer'])\n",
      "\n",
      "name: Alice Johnson\n",
      "age: 30\n",
      "city: New York\n",
      "occupation: Software Engineer\n"
     ]
    }
   ],
   "source": [
    "person = {\n",
    "    \"name\": \"Alice Johnson\",\n",
    "    \"age\": 30,\n",
    "    \"city\": \"New York\",\n",
    "    \"occupation\": \"Software Engineer\",\n",
    "}\n",
    "\n",
    "print(\"Keys:\")\n",
    "for person_key in person.keys():\n",
    "    print(f\"\\t{person_key}\")\n",
    "\n",
    "print(\"\\nValues:\")\n",
    "for person_value in person.values():\n",
    "    print(f\"\\t{person_value}\")\n",
    "\n",
    "print(f\"\\n{person.keys()}\\n\")\n",
    "print(f\"\\n{person.values()}\\n\")\n",
    "\n",
    "for key, value in person.items():\n",
    "    print(f\"{key}: {value}\")"
   ]
  },
  {
   "cell_type": "markdown",
   "metadata": {},
   "source": [
    "## Checking Whether a Key or Value Exists in a Dictionary"
   ]
  },
  {
   "cell_type": "code",
   "execution_count": 7,
   "metadata": {},
   "outputs": [
    {
     "name": "stdout",
     "output_type": "stream",
     "text": [
      "'name' in person.keys(): True\n",
      "'age' in person.keys(): True\n",
      "'nationality' in person.keys(): False\n",
      "\n",
      "30 in person.values(): True\n",
      "'New York' in person.values(): True\n",
      "'Database Administrator' in person.values(): False\n"
     ]
    }
   ],
   "source": [
    "person = {\n",
    "    \"name\": \"Alice Johnson\",\n",
    "    \"age\": 30,\n",
    "    \"city\": \"New York\",\n",
    "    \"occupation\": \"Software Engineer\",\n",
    "}\n",
    "\n",
    "print(f\"'name' in person.keys(): {'name' in person.keys()}\")\n",
    "print(f\"'age' in person.keys(): {'age' in person.keys()}\")\n",
    "print(f\"'nationality' in person.keys(): {'nationality' in person.keys()}\\n\")\n",
    "\n",
    "print(f\"30 in person.values(): {30 in person.values()}\")\n",
    "print(f\"'New York' in person.values(): {'New York' in person.values()}\")\n",
    "print(\n",
    "    f\"'Database Administrator' in person.values(): {'Database Administrator' in person.values()}\"\n",
    ")"
   ]
  },
  {
   "cell_type": "markdown",
   "metadata": {},
   "source": [
    "## ``get()``"
   ]
  },
  {
   "cell_type": "code",
   "execution_count": 8,
   "metadata": {},
   "outputs": [
    {
     "name": "stdout",
     "output_type": "stream",
     "text": [
      "I'm bringing 2 cups\n",
      "I'm bringing 0 plates\n",
      "I'm bringing 0 eggs\n"
     ]
    }
   ],
   "source": [
    "picnic_items = {\"apples\": 5, \"cups\": 2}\n",
    "\n",
    "n_of_cups = picnic_items.get(\"cups\", 0)\n",
    "n_of_plates = picnic_items.get(\"plates\", 0)\n",
    "n_of_eggs = picnic_items.get(\"eggs\", 0)\n",
    "\n",
    "print(f\"I'm bringing {n_of_cups} cups\")\n",
    "print(f\"I'm bringing {n_of_plates} plates\")\n",
    "print(f\"I'm bringing {n_of_eggs} eggs\")\n",
    "\n",
    "# Because there is no 'eggs' key in dictionary, the default value 0 is returned by the get() method. Without using get(), the code would have caused an error message."
   ]
  },
  {
   "cell_type": "markdown",
   "metadata": {},
   "source": [
    "## ``setdefault()``"
   ]
  },
  {
   "cell_type": "code",
   "execution_count": 86,
   "metadata": {},
   "outputs": [
    {
     "name": "stdout",
     "output_type": "stream",
     "text": [
      "{'name': 'Jefferson', 'age': 24, 'fave_colour': 'blue'}\n"
     ]
    },
    {
     "data": {
      "text/plain": [
       "'blue'"
      ]
     },
     "execution_count": 86,
     "metadata": {},
     "output_type": "execute_result"
    }
   ],
   "source": [
    "spam = {\"name\": \"Jefferson\", \"age\": 24, \"fave_colour\": \"blue\"}\n",
    "\n",
    "print(spam)\n",
    "spam.setdefault(\n",
    "    \"fave_colour\", \"white\"\n",
    ")  # it will return the value 'blue', bcoz it already contains the key: fave_color\n",
    "\n",
    "# print(spam)"
   ]
  },
  {
   "cell_type": "markdown",
   "metadata": {},
   "source": [
    "## Character Count"
   ]
  },
  {
   "cell_type": "code",
   "execution_count": 18,
   "metadata": {},
   "outputs": [
    {
     "name": "stdout",
     "output_type": "stream",
     "text": [
      "{'I': 1, 't': 6, ' ': 13, 'w': 2, 'a': 4, 's': 3, 'b': 1, 'r': 5, 'i': 6, 'g': 2, 'h': 3, 'c': 3, 'o': 2, 'l': 3, 'd': 3, 'y': 1, 'n': 4, 'A': 1, 'p': 1, ',': 1, 'e': 5, 'k': 2, '.': 1}\n"
     ]
    }
   ],
   "source": [
    "message = \"It was a bright cold day in April, and the clocks were striking thirteen.\"\n",
    "count = {}\n",
    "\n",
    "for character in message:\n",
    "    count.setdefault(character, 0)\n",
    "    count[character] = count[character] + 1\n",
    "\n",
    "print(count)"
   ]
  },
  {
   "cell_type": "markdown",
   "metadata": {},
   "source": [
    "## Pretty Printing"
   ]
  },
  {
   "cell_type": "code",
   "execution_count": 19,
   "metadata": {},
   "outputs": [
    {
     "name": "stdout",
     "output_type": "stream",
     "text": [
      "{' ': 13,\n",
      " ',': 1,\n",
      " '.': 1,\n",
      " 'A': 1,\n",
      " 'I': 1,\n",
      " 'a': 4,\n",
      " 'b': 1,\n",
      " 'c': 3,\n",
      " 'd': 3,\n",
      " 'e': 5,\n",
      " 'g': 2,\n",
      " 'h': 3,\n",
      " 'i': 6,\n",
      " 'k': 2,\n",
      " 'l': 3,\n",
      " 'n': 4,\n",
      " 'o': 2,\n",
      " 'p': 1,\n",
      " 'r': 5,\n",
      " 's': 3,\n",
      " 't': 6,\n",
      " 'w': 2,\n",
      " 'y': 1}\n"
     ]
    }
   ],
   "source": [
    "import pprint\n",
    "\n",
    "message = \"It was a bright cold day in April, and the clocks were striking thirteen.\"\n",
    "count = {}\n",
    "\n",
    "for character in message:\n",
    "    count.setdefault(character, 0)\n",
    "    count[character] = count[character] + 1\n",
    "\n",
    "pprint.pprint(count)"
   ]
  },
  {
   "cell_type": "code",
   "execution_count": 34,
   "metadata": {},
   "outputs": [
    {
     "name": "stdout",
     "output_type": "stream",
     "text": [
      "{'name': 'Alice Johnson', 'age': 30, 'city': 'New York', 'occupation': 'Software Engineer', 'nationality': 'Canadian', 'university': 'University of Cambridge', 'fave_programming_lang': 'JavaScript'}\n",
      "\n",
      "{'age': 30,\n",
      " 'city': 'New York',\n",
      " 'fave_programming_lang': 'JavaScript',\n",
      " 'name': 'Alice Johnson',\n",
      " 'nationality': 'Canadian',\n",
      " 'occupation': 'Software Engineer',\n",
      " 'university': 'University of Cambridge'}\n"
     ]
    }
   ],
   "source": [
    "person = {\n",
    "    \"name\": \"Alice Johnson\",\n",
    "    \"age\": 30,\n",
    "    \"city\": \"New York\",\n",
    "    \"occupation\": \"Software Engineer\",\n",
    "    \"nationality\": \"Canadian\",\n",
    "    \"university\": \"University of Cambridge\",\n",
    "    \"fave_programming_lang\": \"JavaScript\",\n",
    "}\n",
    "\n",
    "print(f\"{person}\\n\")\n",
    "\n",
    "pprint.pprint(person)"
   ]
  },
  {
   "cell_type": "markdown",
   "metadata": {},
   "source": [
    "## Tic Tac Toe"
   ]
  },
  {
   "cell_type": "code",
   "execution_count": 67,
   "metadata": {},
   "outputs": [
    {
     "name": "stdout",
     "output_type": "stream",
     "text": [
      " |  | \n",
      "-+-+-\n",
      " |  | \n",
      "-+-+-\n",
      " |  | \n",
      "\n",
      "\n",
      "X |  | \n",
      "-+-+-\n",
      " |  | \n",
      "-+-+-\n",
      " |  | \n",
      "\n",
      "\n",
      "X | O | \n",
      "-+-+-\n",
      " |  | \n",
      "-+-+-\n",
      " |  | \n",
      "\n",
      "\n",
      "X | O | \n",
      "-+-+-\n",
      " | X | \n",
      "-+-+-\n",
      " |  | \n",
      "\n",
      "\n",
      "X | O | \n",
      "-+-+-\n",
      " | X | \n",
      "-+-+-\n",
      " |  | O\n",
      "\n",
      "\n",
      "X | O | \n",
      "-+-+-\n",
      "X | X | \n",
      "-+-+-\n",
      " |  | O\n",
      "\n",
      "\n",
      "X | O | \n",
      "-+-+-\n",
      "X | X | \n",
      "-+-+-\n",
      "O |  | O\n",
      "\n",
      "\n",
      "X | O | \n",
      "-+-+-\n",
      "X | X | \n",
      "-+-+-\n",
      "O | X | O\n",
      "\n",
      "\n",
      "X | O | \n",
      "-+-+-\n",
      "X | X | O\n",
      "-+-+-\n",
      "O | X | O\n",
      "\n",
      "\n",
      "X | O | X\n",
      "-+-+-\n",
      "X | X | O\n",
      "-+-+-\n",
      "O | X | O\n",
      "\n",
      "\n"
     ]
    }
   ],
   "source": [
    "board = {\n",
    "    \"top-L\": \"\",\n",
    "    \"top-M\": \"\",\n",
    "    \"top-R\": \"\",\n",
    "    \"mid-L\": \"\",\n",
    "    \"mid-M\": \"\",\n",
    "    \"mid-R\": \"\",\n",
    "    \"low-L\": \"\",\n",
    "    \"low-M\": \"\",\n",
    "    \"low-R\": \"\",\n",
    "}\n",
    "\n",
    "\n",
    "def print_board(board):\n",
    "    print(f\"{board['top-L']} | {board['top-M']} | {board['top-R']}\")\n",
    "    print(\"-+-+-\")\n",
    "    print(f\"{board['mid-L']} | {board['mid-M']} | {board['mid-R']}\")\n",
    "    print(\"-+-+-\")\n",
    "    print(f\"{board['low-L']} | {board['low-M']} | {board['low-R']}\")\n",
    "    print(\"\\n\")\n",
    "\n",
    "\n",
    "turn = \"X\"\n",
    "for i in range(9):\n",
    "    print_board(board)\n",
    "    move = input(f\"Turn for {turn}. Move on which space?\")\n",
    "    board[move] = turn\n",
    "    if turn == \"X\":\n",
    "        turn = \"O\"\n",
    "    elif move == \"\":\n",
    "        break\n",
    "    else:\n",
    "        turn = \"X\"\n",
    "\n",
    "print_board(board)\n",
    "\n",
    "# Note: This isn’t a complete tic-tac-toe game—for instance, it doesn’t ever check whether a player has won—but it’s enough to see how data structures can be used in programs."
   ]
  },
  {
   "cell_type": "markdown",
   "metadata": {},
   "source": [
    "## Nested Dictionaries and Lists"
   ]
  },
  {
   "cell_type": "code",
   "execution_count": 96,
   "metadata": {},
   "outputs": [
    {
     "name": "stdout",
     "output_type": "stream",
     "text": [
      "Number of things being brought\n",
      " - Apples:\t\t7\n",
      " - Cups:\t\t3\n",
      " - Cups:\t\t3\n",
      " - Ham Sandwiches:\t3\n",
      " - Apple Pies:\t\t1\n"
     ]
    }
   ],
   "source": [
    "def total_brought(guests, item):\n",
    "    num_brought = 0\n",
    "    for key, value in guests.items():\n",
    "        num_brought = num_brought + value.get(item, 0)\n",
    "    return num_brought\n",
    "\n",
    "\n",
    "def display_brought_foods(food_name):\n",
    "    if len(food_name) > 12:\n",
    "        print(f\" - {food_name}:\\t{total_brought(all_guests, food_name.lower())}\")\n",
    "    else:\n",
    "        print(f\" - {food_name}:\\t\\t{total_brought(all_guests, food_name.lower())}\")\n",
    "\n",
    "\n",
    "all_guests = {\n",
    "    \"Alice\": {\"apples\": 5, \"pretzels\": 12},\n",
    "    \"Bob\": {\"ham sandwiches\": 3, \"apples\": 2},\n",
    "    \"Carol\": {\"cups\": 3, \"apple pies\": 1},\n",
    "}\n",
    "\n",
    "print(\"Number of things being brought\")\n",
    "display_brought_foods(\"Apples\")\n",
    "display_brought_foods(\"Cups\")\n",
    "display_brought_foods(\"Cups\")\n",
    "display_brought_foods(\"Ham Sandwiches\")\n",
    "display_brought_foods(\"Apple Pies\")"
   ]
  }
 ],
 "metadata": {
  "kernelspec": {
   "display_name": "base",
   "language": "python",
   "name": "python3"
  },
  "language_info": {
   "codemirror_mode": {
    "name": "ipython",
    "version": 3
   },
   "file_extension": ".py",
   "mimetype": "text/x-python",
   "name": "python",
   "nbconvert_exporter": "python",
   "pygments_lexer": "ipython3",
   "version": "3.11.7"
  }
 },
 "nbformat": 4,
 "nbformat_minor": 2
}
