{
 "cells": [
  {
   "cell_type": "markdown",
   "metadata": {},
   "source": [
    "1. What does the code for an empty dictionary look like?\n",
    "\n",
    "- **Answer**: ``empty_dict = {}``"
   ]
  },
  {
   "cell_type": "markdown",
   "metadata": {},
   "source": [
    "2. What does a dictionary value with a key 'foo' and a value 42 look\n",
    "like?\n",
    "\n",
    "- **Answer**: ``dict_with_value = {'foo': 42}``"
   ]
  },
  {
   "cell_type": "markdown",
   "metadata": {},
   "source": [
    "3. What is the main difference between a dictionary and a list?\n",
    "\n",
    "- **Answer**: Dictionary is unordered and uses keys to access the values. List is ordered and uses index to access the elements."
   ]
  },
  {
   "cell_type": "markdown",
   "metadata": {},
   "source": [
    "4. What happens if you try to access ``spam['foo']`` if spam is ``{'bar': 100}``?\n",
    "\n",
    "- **Answer**: It will return a KeyError error"
   ]
  },
  {
   "cell_type": "code",
   "execution_count": 35,
   "metadata": {},
   "outputs": [
    {
     "name": "stdout",
     "output_type": "stream",
     "text": [
      "Error: 'foo'\n"
     ]
    }
   ],
   "source": [
    "dict_with_value = {\"bar\": 100}\n",
    "\n",
    "try:\n",
    "    print(dict_with_value[\"foo\"])\n",
    "except KeyError as KE:\n",
    "    print(f\"Error: {KE}\")"
   ]
  },
  {
   "cell_type": "markdown",
   "metadata": {},
   "source": [
    "5. If a dictionary is stored in spam, what is the difference between the expressions `'cat'` in spam and `'cat'` in `spam.keys()`?\n",
    "- `'cat' in spam`: This directly checks if the string 'cat' exists as a key in the dictionary.\n",
    "- `'cat' in spam.keys()`: This iterates through the keys of the dictionary to see if 'cat' is one of them."
   ]
  },
  {
   "cell_type": "code",
   "execution_count": 20,
   "metadata": {},
   "outputs": [
    {
     "name": "stdout",
     "output_type": "stream",
     "text": [
      "Spam: {'cat': 'meowy', 'size': 'chonky'}\n",
      "'cat' in spam: True\n",
      "\n",
      "Spam_Keys: dict_keys(['cat', 'size'])\n",
      "'cat' in spam_keys: True\n"
     ]
    }
   ],
   "source": [
    "# 5 - Code Demonstration\n",
    "spam = {\"cat\": \"meowy\", \"size\": \"chonky\"}\n",
    "\n",
    "print(f\"Spam: {spam}\")\n",
    "print(f\"'cat' in spam: {'cat' in spam}\\n\")\n",
    "\n",
    "spam_keys = spam.keys()\n",
    "print(f\"Spam_Keys: {spam_keys}\")\n",
    "print(f\"'cat' in spam_keys: {'cat' in spam_keys}\")"
   ]
  },
  {
   "cell_type": "markdown",
   "metadata": {},
   "source": [
    "6. If a dictionary is stored in spam, what is the difference between the expressions ``'cat'`` in spam and ``'cat'`` in ``spam.values()``?\n",
    "- `'cat' in spam`: This directly checks if the string 'cat' exists as a key in the dictionary.\n",
    "- `'cat' in spam.keys()`: This iterates through the values of the dictionary to see if 'cat' is one of them."
   ]
  },
  {
   "cell_type": "code",
   "execution_count": 25,
   "metadata": {},
   "outputs": [
    {
     "name": "stdout",
     "output_type": "stream",
     "text": [
      "Spam: {'cat': 'meowy', 'size': 'chonky'}\n",
      "'cat' in spam: True\n",
      "\n",
      "Spam_Keys: dict_values(['meowy', 'chonky'])\n",
      "'cat' in spam_values: False\n"
     ]
    }
   ],
   "source": [
    "# 6 - Code Demonstration\n",
    "spam = {\"cat\": \"meowy\", \"size\": \"chonky\"}\n",
    "\n",
    "print(f\"Spam: {spam}\")\n",
    "print(f\"'cat' in spam: {'cat' in spam}\\n\")\n",
    "\n",
    "spam_values = spam.values()\n",
    "print(f\"Spam_Keys: {spam_values}\")\n",
    "print(f\"'cat' in spam_values: {'cat' in spam_values}\")"
   ]
  },
  {
   "cell_type": "markdown",
   "metadata": {},
   "source": [
    "7. What is a shortcut for the following code?\n",
    "\n",
    "``if 'color' not in spam:``\n",
    "    \n",
    "        ``spam['color'] = 'black'``"
   ]
  },
  {
   "cell_type": "code",
   "execution_count": 40,
   "metadata": {},
   "outputs": [
    {
     "name": "stdout",
     "output_type": "stream",
     "text": [
      "Spam: {'cat': 'meowy', 'size': 'chonky', 'color': 'black'}\n",
      "Spam: {'cat': 'meowy', 'size': 'chonky', 'color': 'black'}\n"
     ]
    }
   ],
   "source": [
    "print(f\"Spam: {spam}\")\n",
    "\n",
    "spam.setdefault(\"color\", \"black\")\n",
    "\n",
    "print(f\"Spam: {spam}\")"
   ]
  },
  {
   "cell_type": "markdown",
   "metadata": {},
   "source": [
    "8. What module and function can be used to “pretty print” dictionary values?\n",
    "\n",
    "- **Answer**: ``import pprint`` and ``pprint.pprint()``"
   ]
  }
 ],
 "metadata": {
  "kernelspec": {
   "display_name": "base",
   "language": "python",
   "name": "python3"
  },
  "language_info": {
   "codemirror_mode": {
    "name": "ipython",
    "version": 3
   },
   "file_extension": ".py",
   "mimetype": "text/x-python",
   "name": "python",
   "nbconvert_exporter": "python",
   "pygments_lexer": "ipython3",
   "version": "3.11.7"
  }
 },
 "nbformat": 4,
 "nbformat_minor": 2
}
