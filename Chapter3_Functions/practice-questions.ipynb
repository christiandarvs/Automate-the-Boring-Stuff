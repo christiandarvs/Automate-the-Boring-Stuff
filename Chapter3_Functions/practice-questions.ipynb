{
 "cells": [
  {
   "cell_type": "markdown",
   "metadata": {},
   "source": [
    "1. Why are functions advantageous to have in your programs?\n",
    "\n",
    "- **Answer**: Functions are helpful because they make your code organized and modular. It can also break down complex code, which makes it readable and easy to debug since we know where the error came from."
   ]
  },
  {
   "cell_type": "markdown",
   "metadata": {},
   "source": [
    "2. When does the code in a function execute: when the function is defined or\n",
    "when the function is called?\n",
    "\n",
    "- **Answer**: When a function is called. "
   ]
  },
  {
   "cell_type": "markdown",
   "metadata": {},
   "source": [
    "3. What statement creates a function?\n",
    "\n",
    "- **Answer**: ``def``"
   ]
  },
  {
   "cell_type": "markdown",
   "metadata": {},
   "source": [
    "4. What is the difference between a function and a function call?\n",
    "\n",
    "- **Answer**: A **function** is a piece/group of code that will do something once called. **Function call** is the term when a function is being used."
   ]
  },
  {
   "cell_type": "markdown",
   "metadata": {},
   "source": [
    "5. How many global scopes are there in a Python program? How many local\n",
    "scopes?\n",
    "\n",
    "- **Global**: 1 (whole code)\n",
    "\n",
    "- **Local**: It depends on the number of your functions."
   ]
  },
  {
   "cell_type": "markdown",
   "metadata": {},
   "source": [
    "6. What happens to variables in a local scope when the function call returns?\n",
    "\n",
    "- **Answer**: If they are included in the return statement, then their value is ."
   ]
  },
  {
   "cell_type": "markdown",
   "metadata": {},
   "source": [
    "7. What is a return value? Can a return value be part of an expression?\n",
    "\n",
    "- **Answer**: A return value is the value of a variable inside a function that can be assigned on the global scope. Yes, it can be part of an expression. For example, when adding two numbers you can return their sum with the ``return`` keyword."
   ]
  },
  {
   "cell_type": "markdown",
   "metadata": {},
   "source": [
    "8. If a function does not have a return statement, what is the return value of a call to that function?\n",
    "\n",
    "- **Answer**: It returns ``None`` when there is no return value."
   ]
  },
  {
   "cell_type": "markdown",
   "metadata": {},
   "source": [
    "9. How can you force a variable in a function to refer to the global variable?\n",
    "\n",
    "- **Answer**: we use the ``global`` keyword. For example, ``global score``"
   ]
  },
  {
   "cell_type": "markdown",
   "metadata": {},
   "source": [
    "10. What is the data type of None?\n",
    "\n",
    "- **Answer**: NoneType"
   ]
  },
  {
   "cell_type": "markdown",
   "metadata": {},
   "source": [
    "11. What does the import areallyourpetsnamederic statement do?\n",
    "\n",
    "- **Answer**: It imports the module named ``areallyourpetsnamederic``"
   ]
  },
  {
   "cell_type": "markdown",
   "metadata": {},
   "source": [
    "12. If you had a function named ``bacon()`` in a module named ``spam``, how would you call it after importing spam?\n",
    "\n",
    "- **Answer**: ``spam.bacon()``"
   ]
  },
  {
   "cell_type": "markdown",
   "metadata": {},
   "source": [
    "13. How can you prevent a program from crashing when it gets an error?\n",
    "\n",
    "- **Answer**: By using ``try`` and ``expect`` statements in my program."
   ]
  },
  {
   "cell_type": "markdown",
   "metadata": {},
   "source": [
    "14. What goes in the try clause? What goes in the except clause?\n",
    "\n",
    "- **Try**: The code that we want to perform, execute, calculate.\n",
    "- **Except**: When the code in try clause produces an **ERROR**.\n"
   ]
  }
 ],
 "metadata": {
  "kernelspec": {
   "display_name": "base",
   "language": "python",
   "name": "python3"
  },
  "language_info": {
   "name": "python",
   "version": "3.11.7"
  }
 },
 "nbformat": 4,
 "nbformat_minor": 2
}
