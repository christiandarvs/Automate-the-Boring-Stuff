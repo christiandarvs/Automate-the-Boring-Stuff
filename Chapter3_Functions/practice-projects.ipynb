{
 "cells": [
  {
   "cell_type": "markdown",
   "metadata": {},
   "source": [
    "## Collatz Sequence"
   ]
  },
  {
   "cell_type": "code",
   "execution_count": 22,
   "metadata": {},
   "outputs": [
    {
     "name": "stdout",
     "output_type": "stream",
     "text": [
      "5\n",
      "16\n",
      "8\n",
      "4\n",
      "2\n",
      "1\n"
     ]
    }
   ],
   "source": [
    "def collatz(number):\n",
    "    if number % 2 == 0:\n",
    "        print(number // 2)\n",
    "        return number // 2\n",
    "    elif number % 2 == 1:\n",
    "        print(3 * number + 1)\n",
    "        return 3 * number + 1\n",
    "\n",
    "\n",
    "def collatz_sequence():\n",
    "    number_input = int(input(\"Enter a number: \"))\n",
    "    print(number_input)\n",
    "    collatz_result = collatz(number_input)\n",
    "    while collatz_result != 1:\n",
    "        collatz_result = collatz(collatz_result)\n",
    "\n",
    "\n",
    "collatz_sequence()\n",
    "\n",
    "# The issue I encountered was that the result did not update when the function was called. For example, in a sequence like 5 5 5 5 5 5, I realized that I needed to update the variable so that it has the latest value when the function is called."
   ]
  },
  {
   "cell_type": "markdown",
   "metadata": {},
   "source": [
    "## Input Validation"
   ]
  },
  {
   "cell_type": "code",
   "execution_count": 25,
   "metadata": {},
   "outputs": [
    {
     "name": "stdout",
     "output_type": "stream",
     "text": [
      "3\n",
      "10\n",
      "5\n",
      "16\n",
      "8\n",
      "4\n",
      "2\n",
      "1\n"
     ]
    }
   ],
   "source": [
    "def collatz(number):\n",
    "    if number % 2 == 0:\n",
    "        print(number // 2)\n",
    "        return number // 2\n",
    "    elif number % 2 == 1:\n",
    "        print(3 * number + 1)\n",
    "        return 3 * number + 1\n",
    "\n",
    "\n",
    "def collatz_sequence():\n",
    "    try:\n",
    "        number_input = int(input(\"Enter a number: \"))\n",
    "        print(number_input)\n",
    "        collatz_result = collatz(number_input)\n",
    "        while collatz_result != 1:\n",
    "            collatz_result = collatz(collatz_result)\n",
    "    except ValueError:\n",
    "        print(\"Please enter a number...\")\n",
    "\n",
    "\n",
    "collatz_sequence()\n",
    "\n",
    "# I used the same code for the Collatz sequence but added try and except statements for cases where the user didn't enter a number."
   ]
  }
 ],
 "metadata": {
  "kernelspec": {
   "display_name": "base",
   "language": "python",
   "name": "python3"
  },
  "language_info": {
   "codemirror_mode": {
    "name": "ipython",
    "version": 3
   },
   "file_extension": ".py",
   "mimetype": "text/x-python",
   "name": "python",
   "nbconvert_exporter": "python",
   "pygments_lexer": "ipython3",
   "version": "3.11.7"
  }
 },
 "nbformat": 4,
 "nbformat_minor": 2
}
