{
 "cells": [
  {
   "cell_type": "markdown",
   "metadata": {},
   "source": [
    "1. Does PyInputPlus come with the Python Standard Library?\n",
    "\n",
    "- **Answer:** No, you need to install it by using the ``pip install`` command"
   ]
  },
  {
   "cell_type": "markdown",
   "metadata": {},
   "source": [
    "2. Why is PyInputPlus commonly imported with import pyinputplus as\n",
    "pyip?\n",
    "\n",
    "- **Answer:** The ``pyip`` saves us from typing ``pyinputplus`` module each time we want to a function from that module."
   ]
  },
  {
   "cell_type": "markdown",
   "metadata": {},
   "source": [
    "3. What is the difference between inputInt() and inputFloat()?"
   ]
  },
  {
   "cell_type": "code",
   "execution_count": 1,
   "metadata": {},
   "outputs": [],
   "source": [
    "import pyinputplus as pyip"
   ]
  },
  {
   "cell_type": "code",
   "execution_count": 5,
   "metadata": {},
   "outputs": [
    {
     "name": "stdout",
     "output_type": "stream",
     "text": [
      "Enter a number: \n",
      "12\n",
      "<class 'int'>\n",
      "\n",
      "Enter a float number: \n",
      "15.0\n",
      "<class 'float'>\n"
     ]
    }
   ],
   "source": [
    "number = pyip.inputNum(\"Enter a number: \")\n",
    "print(f\"\\n{number}\")\n",
    "print(f\"{type(number)}\")\n",
    "\n",
    "print()\n",
    "\n",
    "user_float = pyip.inputFloat(\"Enter a float number: \")\n",
    "print(f\"\\n{user_float}\")\n",
    "print(f\"{type(user_float)}\")"
   ]
  },
  {
   "cell_type": "markdown",
   "metadata": {},
   "source": [
    "4. How can you ensure that the user enters a whole number between 0\n",
    "and 99 using PyInputPlus?"
   ]
  },
  {
   "cell_type": "code",
   "execution_count": 13,
   "metadata": {},
   "outputs": [
    {
     "name": "stdout",
     "output_type": "stream",
     "text": [
      "Enter a number: Number must be at minimum 1.\n",
      "Enter a number: Number must be at maximum 99.\n",
      "Enter a number: 65\n"
     ]
    }
   ],
   "source": [
    "number = pyip.inputNum(\"Enter a number: \", min=1, max=99)\n",
    "print(number)"
   ]
  },
  {
   "cell_type": "markdown",
   "metadata": {},
   "source": [
    "5. What is passed to the allowRegexes and blockRegexes keyword\n",
    "arguments?\n",
    "\n",
    "- **Answer**: The regular expressions such as ``r'd\\+`` or ``r'(Ha){3,5}``"
   ]
  },
  {
   "cell_type": "markdown",
   "metadata": {},
   "source": [
    "6. What does inputStr(limit=3) do if blank input is entered three times?\n",
    "\n",
    "- **Answer**: It returns an ``RetryLimitException`` error."
   ]
  },
  {
   "cell_type": "markdown",
   "metadata": {},
   "source": [
    "7. What does inputStr(limit=3, default='hello') do if blank input is\n",
    "entered three times?\n",
    "\n",
    "**Answer**: It returns the word 'hello' when the user entered a blank input for three times. "
   ]
  }
 ],
 "metadata": {
  "kernelspec": {
   "display_name": "base",
   "language": "python",
   "name": "python3"
  },
  "language_info": {
   "codemirror_mode": {
    "name": "ipython",
    "version": 3
   },
   "file_extension": ".py",
   "mimetype": "text/x-python",
   "name": "python",
   "nbconvert_exporter": "python",
   "pygments_lexer": "ipython3",
   "version": "3.11.7"
  }
 },
 "nbformat": 4,
 "nbformat_minor": 2
}
