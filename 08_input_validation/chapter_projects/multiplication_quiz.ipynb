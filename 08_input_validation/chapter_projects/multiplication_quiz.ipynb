{
 "cells": [
  {
   "cell_type": "code",
   "execution_count": 2,
   "metadata": {},
   "outputs": [],
   "source": [
    "import pyinputplus as pyip\n",
    "import random, time"
   ]
  },
  {
   "cell_type": "code",
   "execution_count": 8,
   "metadata": {},
   "outputs": [
    {
     "name": "stdout",
     "output_type": "stream",
     "text": [
      "Question 1.) 6 x 3 = Correct!\n",
      "Question 2.) 4 x 0 = Blank values are not allowed.\n",
      "Question 2.) 4 x 0 = Correct!\n",
      "Question 3.) 9 x 5 = Incorrect!\n",
      "Question 3.) 9 x 5 = Correct!\n",
      "Question 4.) 1 x 9 = Correct!\n",
      "Question 5.) 1 x 7 = Correct!\n",
      "Question 6.) 5 x 5 = Correct!\n",
      "Question 7.) 6 x 1 = Correct!\n",
      "Question 8.) 3 x 7 = Correct!\n",
      "Question 9.) 7 x 9 = Correct!\n",
      "Question 10.) 3 x 8 = Correct!\n",
      "\n",
      "Score: 10/10\n"
     ]
    }
   ],
   "source": [
    "n_of_questions = 10\n",
    "correct_answers = 0\n",
    "for question_number in range(n_of_questions):\n",
    "    first_num = random.randint(0, 9)\n",
    "    second_num = random.randint(0, 9)\n",
    "    answer = f\"Question {question_number + 1}.) {first_num} x {second_num} = \"\n",
    "    try:\n",
    "        # Right answers are handled by allowRegexes.\n",
    "        # Wrong answers are handled by blockRegexes, with a custom message.\n",
    "        pyip.inputStr(\n",
    "            answer,\n",
    "            allowRegexes=[\"^%s$\" % (first_num * second_num)],\n",
    "            blockRegexes=[(\".*\", \"Incorrect!\")],\n",
    "            timeout=8,\n",
    "            limit=3,\n",
    "        )\n",
    "    except pyip.TimeoutException:\n",
    "        print(\"You ran out of time!\")\n",
    "    except pyip.RetryLimitException:\n",
    "        print(\"You ran out of tries!\")\n",
    "    else:\n",
    "        print(\"Correct!\")\n",
    "        correct_answers += 1\n",
    "time.sleep(1)\n",
    "print(f\"\\nScore: {correct_answers}/{n_of_questions}\")"
   ]
  }
 ],
 "metadata": {
  "kernelspec": {
   "display_name": "base",
   "language": "python",
   "name": "python3"
  },
  "language_info": {
   "codemirror_mode": {
    "name": "ipython",
    "version": 3
   },
   "file_extension": ".py",
   "mimetype": "text/x-python",
   "name": "python",
   "nbconvert_exporter": "python",
   "pygments_lexer": "ipython3",
   "version": "3.11.7"
  }
 },
 "nbformat": 4,
 "nbformat_minor": 2
}
