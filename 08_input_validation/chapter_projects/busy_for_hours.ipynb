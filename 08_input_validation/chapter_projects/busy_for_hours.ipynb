{
 "cells": [
  {
   "cell_type": "code",
   "execution_count": 1,
   "metadata": {},
   "outputs": [],
   "source": [
    "import pyinputplus as pyip"
   ]
  },
  {
   "cell_type": "code",
   "execution_count": 8,
   "metadata": {},
   "outputs": [
    {
     "name": "stdout",
     "output_type": "stream",
     "text": [
      "Want to know how to keep an idiot busy for hours?\n",
      "'sure' is not a valid yes/no response.\n",
      "Want to know how to keep an idiot busy for hours?\n",
      "Want to know how to keep an idiot busy for hours?\n",
      "Want to know how to keep an idiot busy for hours?\n",
      "Want to know how to keep an idiot busy for hours?\n",
      "Want to know how to keep an idiot busy for hours?\n",
      "'YES!!!!' is not a valid yes/no response.\n",
      "Want to know how to keep an idiot busy for hours?\n",
      "'TELL ME HOW TO KEEP AN IDIOT BUSY FOR HOURS' is not a valid yes/no response.\n",
      "Want to know how to keep an idiot busy for hours?\n",
      "\n",
      "Thank you. Have a nice day!\n"
     ]
    }
   ],
   "source": [
    "while True:\n",
    "    prompt = \"Want to know how to keep an idiot busy for hours?\\n\"\n",
    "    response = pyip.inputYesNo(prompt)\n",
    "    if response == \"no\":\n",
    "        break\n",
    "print(\"\\nThank you. Have a nice day!\")"
   ]
  }
 ],
 "metadata": {
  "kernelspec": {
   "display_name": "base",
   "language": "python",
   "name": "python3"
  },
  "language_info": {
   "codemirror_mode": {
    "name": "ipython",
    "version": 3
   },
   "file_extension": ".py",
   "mimetype": "text/x-python",
   "name": "python",
   "nbconvert_exporter": "python",
   "pygments_lexer": "ipython3",
   "version": "3.11.7"
  }
 },
 "nbformat": 4,
 "nbformat_minor": 2
}
