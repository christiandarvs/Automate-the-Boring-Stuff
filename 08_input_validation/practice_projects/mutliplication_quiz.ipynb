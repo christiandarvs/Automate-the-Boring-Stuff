{
 "cells": [
  {
   "cell_type": "code",
   "execution_count": 1,
   "metadata": {},
   "outputs": [],
   "source": [
    "import random, time"
   ]
  },
  {
   "cell_type": "code",
   "execution_count": 6,
   "metadata": {},
   "outputs": [
    {
     "name": "stdout",
     "output_type": "stream",
     "text": [
      "Question 1.) 5 * 3 = 15\n",
      "Correct Answer: 15\n",
      "Correct\n"
     ]
    }
   ],
   "source": [
    "number_of_correct_answers = 0\n",
    "number_of_questions = 10\n",
    "current_question = 0\n",
    "\n",
    "while True:\n",
    "    first_number = random.randint(0, 9)\n",
    "    second_number = random.randint(0, 9)\n",
    "    correct_answer = first_number * second_number\n",
    "    answer = int(\n",
    "        input(f\"Question {current_question + 1}.) {first_number} * {second_number} = \")\n",
    "    )\n",
    "    print(\n",
    "        f\"Question {current_question + 1}.) {first_number} * {second_number} = {answer}\"\n",
    "    )\n",
    "    print(f\"Correct Answer: {correct_answer}\")\n",
    "    if correct_answer == answer:\n",
    "        print(\"Correct\")\n",
    "    else:\n",
    "        print(\"Incorrect\")\n",
    "    break"
   ]
  }
 ],
 "metadata": {
  "kernelspec": {
   "display_name": "base",
   "language": "python",
   "name": "python3"
  },
  "language_info": {
   "codemirror_mode": {
    "name": "ipython",
    "version": 3
   },
   "file_extension": ".py",
   "mimetype": "text/x-python",
   "name": "python",
   "nbconvert_exporter": "python",
   "pygments_lexer": "ipython3",
   "version": "3.11.7"
  }
 },
 "nbformat": 4,
 "nbformat_minor": 2
}
