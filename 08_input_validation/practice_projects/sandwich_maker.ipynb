{
 "cells": [
  {
   "cell_type": "markdown",
   "metadata": {},
   "source": [
    "## Sandwich Maker"
   ]
  },
  {
   "cell_type": "code",
   "execution_count": 2,
   "metadata": {},
   "outputs": [],
   "source": [
    "import pyinputplus as pyip"
   ]
  },
  {
   "cell_type": "code",
   "execution_count": 27,
   "metadata": {},
   "outputs": [
    {
     "name": "stdout",
     "output_type": "stream",
     "text": [
      "Please select one of the following:\n",
      "* Wheat\n",
      "* White\n",
      "* Sourdough\n",
      "Bread Type: White\n",
      "\n",
      "Please select one of the following:\n",
      "* Chicken\n",
      "* Turkey\n",
      "* Ham\n",
      "* Tofu\n",
      "Protein Type: Ham\n",
      "\n",
      "Do you want to add cheese? yes\n",
      "\n",
      "Please select one of the following:\n",
      "* Cheddar\n",
      "* Swiss\n",
      "* Mozarella\n",
      "Cheese Type: Cheddar\n",
      "\n",
      "Do you want to add mayo, mustard, lettuce, or tomato? no\n",
      "\n",
      "How many sandwiches do you want? 3\n",
      "\n",
      "--------- Price Breakdown ---------\n",
      "White      $1.0\n",
      "Ham        $1.8\n",
      "Cheddar    $0.5\n",
      "Quantity      3\n",
      "\n",
      "Total      $9.9\n",
      "\n"
     ]
    }
   ],
   "source": [
    "prices = {\n",
    "    \"Wheat\": 1.5,\n",
    "    \"White\": 1.0,\n",
    "    \"Sourdough\": 2.0,\n",
    "    \"Chicken\": 2.5,\n",
    "    \"Turkey\": 2.0,\n",
    "    \"Ham\": 1.8,\n",
    "    \"Tofu\": 2.2,\n",
    "    \"Cheddar\": 0.5,\n",
    "    \"Swiss\": 0.7,\n",
    "    \"Mozarella\": 0.8,\n",
    "}\n",
    "\n",
    "\n",
    "def display_price_breakdown(\n",
    "    prices, bread_type, protein_type, add_cheese, cheese_type, number_of_sandwiches\n",
    "):\n",
    "    print(\" Price Breakdown \".center(35, \"-\"))\n",
    "    print(f\"{str(bread_type).ljust(10)} ${prices[bread_type]}\")\n",
    "    print(f\"{str(protein_type).ljust(10)} ${prices[protein_type]}\")\n",
    "    if add_cheese == \"yes\":\n",
    "        print(f\"{str(cheese_type).ljust(10)} ${prices[cheese_type]}\")\n",
    "    print(f\"Quantity {str(number_of_sandwiches).rjust(6)}\")\n",
    "\n",
    "\n",
    "bread_type = pyip.inputMenu([\"Wheat\", \"White\", \"Sourdough\"])\n",
    "print(f\"Bread Type: {bread_type}\\n\")\n",
    "\n",
    "protein_type = pyip.inputMenu([\"Chicken\", \"Turkey\", \"Ham\", \"Tofu\"])\n",
    "print(f\"Protein Type: {protein_type}\\n\")\n",
    "\n",
    "add_cheese = pyip.inputYesNo(\"Do you want to add cheese? \")\n",
    "print(f\"{add_cheese}\\n\")\n",
    "\n",
    "total_price = prices[bread_type] + prices[protein_type]\n",
    "\n",
    "if add_cheese == \"yes\":\n",
    "    cheese_type = pyip.inputMenu([\"Cheddar\", \"Swiss\", \"Mozarella\"])\n",
    "    print(f\"Cheese Type: {cheese_type}\\n\")\n",
    "    total_price += prices[cheese_type]\n",
    "\n",
    "add_condiments = pyip.inputYesNo(\n",
    "    \"Do you want to add mayo, mustard, lettuce, or tomato? \"\n",
    ")\n",
    "if add_condiments:\n",
    "    print(f\"{add_condiments}\\n\")\n",
    "\n",
    "number_of_sandwiches = pyip.inputNum(\"How many sandwiches do you want? \", min=1)\n",
    "print(f\"{number_of_sandwiches}\")\n",
    "total_price *= number_of_sandwiches\n",
    "\n",
    "print()\n",
    "display_price_breakdown(\n",
    "    prices, bread_type, protein_type, add_cheese, cheese_type, number_of_sandwiches\n",
    ")\n",
    "\n",
    "print(f\"\\n{'Total'.ljust(10)} ${round(total_price, 2)}\\n\")"
   ]
  }
 ],
 "metadata": {
  "kernelspec": {
   "display_name": "base",
   "language": "python",
   "name": "python3"
  },
  "language_info": {
   "codemirror_mode": {
    "name": "ipython",
    "version": 3
   },
   "file_extension": ".py",
   "mimetype": "text/x-python",
   "name": "python",
   "nbconvert_exporter": "python",
   "pygments_lexer": "ipython3",
   "version": "3.11.7"
  }
 },
 "nbformat": 4,
 "nbformat_minor": 2
}
